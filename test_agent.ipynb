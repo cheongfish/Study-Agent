{
 "cells": [
  {
   "cell_type": "code",
   "execution_count": 1,
   "id": "6bcb1941",
   "metadata": {},
   "outputs": [
    {
     "data": {
      "text/plain": [
       "True"
      ]
     },
     "execution_count": 1,
     "metadata": {},
     "output_type": "execute_result"
    }
   ],
   "source": [
    "# API KEY를 환경변수로 관리하기 위한 설정 파일\n",
    "from dotenv import load_dotenv\n",
    "\n",
    "# API KEY 정보로드\n",
    "load_dotenv()"
   ]
  },
  {
   "cell_type": "code",
   "execution_count": 2,
   "id": "bc84a043",
   "metadata": {},
   "outputs": [
    {
     "name": "stdout",
     "output_type": "stream",
     "text": [
      "LangSmith 추적을 시작합니다.\n",
      "[프로젝트명]\n",
      "test_pr\n"
     ]
    }
   ],
   "source": [
    "# Set langsmith tracing\n",
    "\n",
    "from langchain_teddynote import logging\n",
    "\n",
    "# input your project name\n",
    "logging.langsmith(\"test_pr\")"
   ]
  },
  {
   "cell_type": "code",
   "execution_count": null,
   "id": "f2d0b5ab",
   "metadata": {},
   "outputs": [
    {
     "data": {
      "text/plain": [
       "[{'url': 'https://www.youtube.com/watch?v=mVu6Wj8Z7C0',\n",
       "  'title': '랭체인 한국어 튜토리얼 업데이트 소식 처음 사용자를 위한 친절한 ...',\n",
       "  'content': '#랭체인 한국어 튜토리얼🇰🇷 업데이트 소식🔥 처음 사용자를 위한 친절한 환경설치(Windows, Mac)\\n\\n테디노트 TeddyNote\\n317 likes\\n16451 views\\n19 Jun 2024\\n📝 환경설정(Windows)\\nhttps://teddynote.com/10-RAG%EB%B9%84%EB%B2%95%EB%85%B8%ED%8A%B8/%ED%99%98%EA%B2%BD%20%EC%84%A4%EC%A0%95%20(Windows)/\\n\\n📝 환경설정(Mac)\\nhttps://teddynote.com/10-RAG%EB%B9%84%EB%B2%95%EB%85%B8%ED%8A%B8/%ED%99%98%EA%B2%BD%20%EC%84%A4%EC%A0%95%20(Mac)/\\n\\n📍[패스트캠퍼스] \"테디노트의 RAG 비법노트\" 강의\\n링크: https://bit.ly/4e1h8zO\\n\\n🤖 디스코드 채널\\nhttps://discord.gg/q3RvQZ5CfK\\n\\n📘 랭체인 튜토리얼 무료 전자책(wikidocs)\\nhttps://wikidocs.net/book/14314\\n\\n✅ 랭체인 한국어 튜토리얼 코드저장소(GitHub)\\nhttps://github.com/teddylee777/langchain-kr\\n\\n✅ 줄거리\\n00:00 랭체인 한국어 튜토리얼 공지사항\\n01:59 langchain-teddynote 패키지\\n08:25 감사인사\\n09:15 Windows 환경설치\\n21:48 Mac 환경설치\\n\\n#rag #langchain\\n---\\n📍 \"테디노트의 RAG 비법노트\" 랭체인 강의: https://fastcampus.co.kr/data_online_teddy\\n📘 랭체인 한국어 튜토리얼(무료 전자책): https://wikidocs.net/book/14314\\n📝 테디노트(깃헙 블로그) : https://teddylee777.github.io\\n💻 GitHub 소스코드 저장소: https://github.com/teddylee777\\n77 comments',\n",
       "  'score': 0.7598145,\n",
       "  'raw_content': '# #랭체인 한국어 튜토리얼🇰🇷 업데이트 소식🔥 처음 사용자를 위한 친절한 환경설치(Windows, Mac)\\n\\n테디노트 TeddyNote\\n317 likes\\n16451 views\\n19 Jun 2024\\n📝 환경설정(Windows)\\nhttps://teddynote.com/10-RAG%EB%B9%84%EB%B2%95%EB%85%B8%ED%8A%B8/%ED%99%98%EA%B2%BD%20%EC%84%A4%EC%A0%95%20(Windows)/\\n\\n📝 환경설정(Mac)\\nhttps://teddynote.com/10-RAG%EB%B9%84%EB%B2%95%EB%85%B8%ED%8A%B8/%ED%99%98%EA%B2%BD%20%EC%84%A4%EC%A0%95%20(Mac)/\\n\\n📍[패스트캠퍼스] \"테디노트의 RAG 비법노트\" 강의\\n링크: https://bit.ly/4e1h8zO\\n\\n🤖 디스코드 채널\\nhttps://discord.gg/q3RvQZ5CfK\\n\\n📘 랭체인 튜토리얼 무료 전자책(wikidocs)\\nhttps://wikidocs.net/book/14314\\n\\n✅ 랭체인 한국어 튜토리얼 코드저장소(GitHub)\\nhttps://github.com/teddylee777/langchain-kr\\n\\n✅ 줄거리\\n00:00 랭체인 한국어 튜토리얼 공지사항\\n01:59 langchain-teddynote 패키지\\n08:25 감사인사\\n09:15 Windows 환경설치\\n21:48 Mac 환경설치\\n\\n#rag #langchain\\n---\\n📍 \"테디노트의 RAG 비법노트\" 랭체인 강의: https://fastcampus.co.kr/data_online_teddy\\n📘 랭체인 한국어 튜토리얼(무료 전자책): https://wikidocs.net/book/14314\\n📝 테디노트(깃헙 블로그) : https://teddylee777.github.io\\n💻 GitHub 소스코드 저장소: https://github.com/teddylee777\\n77 comments'},\n",
       " {'url': 'https://changsroad.tistory.com/534',\n",
       "  'title': \"한 권으로 끝내는 랭체인 노트 따라하기 Day 0 - Let's be Developers\",\n",
       "  'content': \"Let's be Developers # 한 권으로 끝내는 랭체인 노트 따라하기 Day 0 오늘부터 시간날 때마다 `테디노트`님이 작성하신 wikidocs의 랭체인노트 듀토리얼을 보면서 따라해보도록 하겠다! 출처: 테디노트, <랭체인LangChain 노트> - LangChain 한국어 튜토리얼 , CC BY-NC-ND 2.0 KR #### 'ML & DL > NLP' 카테고리의 다른 글 | 한 권으로 끝내는 랭체인 노트 따라하기 Day 2 - LCEL\\xa0\\xa0(0) | 2024.12.23 | | 한 권으로 끝내는 랭체인 노트 따라하기 Day 1\\xa0\\xa0(0) | 2024.12.23 | | [[패캠/NLP] BERT](/455)\\xa0\\xa0(0) | 2023.12.28 | Let's be Developers창빵맨 님의 블로그입니다. ## 단축키 ### 내 블로그 | 맨 위로 이동 | `T` | | 티스토리 홈 이동 | `H` | | 단축키 안내 | `Shift` + `/`  `⇧` + `/` | \\\\* 단축키는 한글/영문 대소문자로 이용 가능하며, 티스토리 기본 도메인에서만 동작합니다.\",\n",
       "  'score': 0.74161834,\n",
       "  'raw_content': \"Let's be Developers\\n\\n# 한 권으로 끝내는 랭체인 노트 따라하기 Day 0\\n\\n·[ML & DL/NLP](/category/ML%20%26%20DL/NLP)\\n\\n오늘부터 시간날 때마다 `테디노트`님이 작성하신 wikidocs의 랭체인노트 듀토리얼을 보면서 따라해보도록 하겠다!\\n\\n출처: [테디노트](https://wikidocs.net/book/14314), <랭체인LangChain 노트> - LangChain 한국어 튜토리얼 , [CC BY-NC-ND 2.0 KR](https://creativecommons.org/licenses/by-nc-nd/2.0/kr)\\n\\n728x90\\n\\n\\n\\n\\n#### '[ML & DL](/category/ML%20%26%20DL) > [NLP](/category/ML%20%26%20DL/NLP)' 카테고리의 다른 글\\n\\n|  |  |\\n| --- | --- |\\n| [한 권으로 끝내는 랭체인 노트 따라하기 Day 2 - LCEL](/537)\\xa0\\xa0(0) | 2024.12.23 |\\n| [한 권으로 끝내는 랭체인 노트 따라하기 Day 1](/535)\\xa0\\xa0(0) | 2024.12.23 |\\n| [[패캠/NLP] BERT](/455)\\xa0\\xa0(0) | 2023.12.28 |\\n| [[패캠/NLP] GPT](/454)\\xa0\\xa0(0) | 2023.12.27 |\\n| [[패캠/NLP] Transformer: 트랜스포머](/450)\\xa0\\xa0(0) | 2023.12.26 |\\n\\n[Let's be Developers](https://changsroad.tistory.com)[창빵맨 님의 블로그입니다.](https://changsroad.tistory.com)\\n\\n댓글0\\n\\n\\n\\n\\n\\n## 단축키\\n\\n### 내 블로그\\n\\n|  |  |\\n| --- | --- |\\n| 내 블로그 - 관리자 홈 전환 | `Q` |\\n| 새 글 쓰기 | `W` |\\n\\n### 블로그 게시글\\n\\n|  |  |\\n| --- | --- |\\n| 글 수정 (권한 있는 경우) | `E` |\\n| 댓글 영역으로 이동 | `C` |\\n\\n### 모든 영역\\n\\n|  |  |\\n| --- | --- |\\n| 이 페이지의 URL 복사 | `S` |\\n| 맨 위로 이동 | `T` |\\n| 티스토리 홈 이동 | `H` |\\n| 단축키 안내 | `Shift` + `/`  `⇧` + `/` |\\n\\n\\\\* 단축키는 한글/영문 대소문자로 이용 가능하며, 티스토리 기본 도메인에서만 동작합니다.\"},\n",
       " {'url': 'https://www.youtube.com/playlist?list=PLIMb_GuNnFweShkx8-yorSjhwGKv9raR_',\n",
       "  'title': 'LangChain 튜토리얼 - YouTube',\n",
       "  'content': 'RAG 비법노트 강의 커리큘럼 소개 / #LangGraph 튜토리얼 하이라이트. 테디노트 ... 랭체인 직원을 고용했습니다. 궁금한 내용을 물어보세요. 테디노트 TeddyNote.',\n",
       "  'score': 0.6816637,\n",
       "  'raw_content': '![](data:image/png;base64,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)'}]"
      ]
     },
     "execution_count": 5,
     "metadata": {},
     "output_type": "execute_result"
    }
   ],
   "source": [
    "# Define tool and Use tool\n",
    "from langchain_teddynote.tools.tavily import TavilySearch\n",
    "\n",
    "# Create tool that Web Searching\n",
    "tarvily_search_tool = TavilySearch()\n",
    "\n",
    "# set tool list\n",
    "tools = [tarvily_search_tool]\n",
    "\n",
    "# execute tool\n",
    "tarvily_search_tool.invoke(\"테디노트 랭체인 튜토리얼\")"
   ]
  },
  {
   "cell_type": "code",
   "execution_count": 6,
   "id": "1ebeee10",
   "metadata": {},
   "outputs": [],
   "source": [
    "from typing import Annotated\n",
    "from typing_extensions import TypedDict\n",
    "from langgraph.graph.message import add_messages\n",
    "\n",
    "\n",
    "# State 정의\n",
    "class State(TypedDict):\n",
    "    # list 타입에 add_messages 적용(list 에 message 추가)\n",
    "    messages: Annotated[list, add_messages]\n"
   ]
  },
  {
   "cell_type": "code",
   "execution_count": 7,
   "id": "6021cbb4",
   "metadata": {},
   "outputs": [],
   "source": [
    "from langchain_google_genai import ChatGoogleGenerativeAI\n",
    "\n",
    "# define llm\n",
    "llm = ChatGoogleGenerativeAI(\n",
    "    model=\"gemini-2.0-flash\",\n",
    "    temperature=0,\n",
    "    max_tokens=None,\n",
    "    timeout=None,\n",
    "    max_retries=2,\n",
    "    # other params...\n",
    ") \n",
    "\n",
    "# LLM 에 도구 바인딩\n",
    "llm_with_tools = llm.bind_tools(tools)\n"
   ]
  },
  {
   "cell_type": "code",
   "execution_count": 8,
   "id": "6b1e145b",
   "metadata": {},
   "outputs": [],
   "source": [
    "# define node function\n",
    "\n",
    "def chatbot(state: State):\n",
    "    answer = llm_with_tools.invoke(state['messages'])\n",
    "    # return message list\n",
    "    return {\"messages\" : [answer]} # automatically apply add messages"
   ]
  },
  {
   "cell_type": "code",
   "execution_count": 9,
   "id": "d8d87b05",
   "metadata": {},
   "outputs": [
    {
     "data": {
      "text/plain": [
       "<langgraph.graph.state.StateGraph at 0x74e2856453d0>"
      ]
     },
     "execution_count": 9,
     "metadata": {},
     "output_type": "execute_result"
    }
   ],
   "source": [
    "# Create graph and Add nodes\n",
    "\n",
    "from langgraph.graph import StateGraph\n",
    "\n",
    "# initiate graph\n",
    "graph_builder = StateGraph(State)\n",
    "\n",
    "# Add node\n",
    "graph_builder.add_node(\"chatbot\", chatbot)"
   ]
  },
  {
   "cell_type": "code",
   "execution_count": 10,
   "id": "e99eb2be",
   "metadata": {},
   "outputs": [
    {
     "data": {
      "text/plain": [
       "<langgraph.graph.state.StateGraph at 0x74e2856453d0>"
      ]
     },
     "execution_count": 10,
     "metadata": {},
     "output_type": "execute_result"
    }
   ],
   "source": [
    "import json\n",
    "from langchain_core.messages import ToolMessage\n",
    "\n",
    "\n",
    "class BasicToolNode:\n",
    "    \"\"\"Run tools requested in the last AIMessage node\"\"\"\n",
    "\n",
    "    def __init__(self, tools: list) -> None:\n",
    "        # 도구 리스트\n",
    "        self.tools_list = {tool.name: tool for tool in tools}\n",
    "\n",
    "    def __call__(self, inputs: dict):\n",
    "        # 메시지가 존재할 경우 가장 최근 메시지 1개 추출\n",
    "        if messages := inputs.get(\"messages\", []):\n",
    "            message = messages[-1]\n",
    "        else:\n",
    "            raise ValueError(\"No message found in input\")\n",
    "\n",
    "        # 도구 호출 결과\n",
    "        outputs = []\n",
    "        for tool_call in message.tool_calls:\n",
    "            # 도구 호출 후 결과 저장\n",
    "            tool_result = self.tools_list[tool_call[\"name\"]].invoke(tool_call[\"args\"])\n",
    "            outputs.append(\n",
    "                # 도구 호출 결과를 메시지로 저장\n",
    "                ToolMessage(\n",
    "                    content=json.dumps(\n",
    "                        tool_result, ensure_ascii=False\n",
    "                    ),  # 도구 호출 결과를 문자열로 변환\n",
    "                    name=tool_call[\"name\"],\n",
    "                    tool_call_id=tool_call[\"id\"],\n",
    "                )\n",
    "            )\n",
    "\n",
    "        return {\"messages\": outputs}\n",
    "\n",
    "\n",
    "# 도구 노드 생성\n",
    "tool_node = BasicToolNode(tools=[tarvily_search_tool])\n",
    "\n",
    "# 그래프에 도구 노드 추가\n",
    "graph_builder.add_node(\"tools\", tool_node)\n"
   ]
  },
  {
   "cell_type": "code",
   "execution_count": 11,
   "id": "830a5580",
   "metadata": {},
   "outputs": [],
   "source": [
    "from langgraph.graph import START, END\n",
    "\n",
    "\n",
    "def route_tools(\n",
    "    state: State,\n",
    "):\n",
    "    if messages := state.get(\"messages\", []):\n",
    "        # 가장 최근 AI 메시지 추출\n",
    "        ai_message = messages[-1]\n",
    "    else:\n",
    "        # 입력 상태에 메시지가 없는 경우 예외 발생\n",
    "        raise ValueError(f\"No messages found in input state to tool_edge: {state}\")\n",
    "\n",
    "    # AI 메시지에 도구 호출이 있는 경우 \"tools\" 반환\n",
    "    if hasattr(ai_message, \"tool_calls\") and len(ai_message.tool_calls) > 0:\n",
    "        # 도구 호출이 있는 경우 \"tools\" 반환\n",
    "        return \"tools\"\n",
    "    # 도구 호출이 없는 경우 \"END\" 반환\n",
    "    return END\n",
    "\n",
    "\n",
    "# `tools_condition` 함수는 챗봇이 도구 사용을 요청하면 \"tools\"를 반환하고, 직접 응답이 가능한 경우 \"END\"를 반환\n",
    "graph_builder.add_conditional_edges(\n",
    "    source=\"chatbot\",\n",
    "    path=route_tools,\n",
    "    # route_tools 의 반환값이 \"tools\" 인 경우 \"tools\" 노드로, 그렇지 않으면 END 노드로 라우팅\n",
    "    path_map={\"tools\": \"tools\", END: END},\n",
    ")\n",
    "\n",
    "# tools > chatbot\n",
    "graph_builder.add_edge(\"tools\", \"chatbot\")\n",
    "\n",
    "# START > chatbot\n",
    "graph_builder.add_edge(START, \"chatbot\")\n",
    "\n",
    "# 그래프 컴파일\n",
    "graph = graph_builder.compile()\n"
   ]
  },
  {
   "cell_type": "code",
   "execution_count": 12,
   "id": "41c1cd7c",
   "metadata": {},
   "outputs": [
    {
     "data": {
      "image/png": "[encoded data removed]",
      "text/plain": [
       "<IPython.core.display.Image object>"
      ]
     },
     "metadata": {},
     "output_type": "display_data"
    }
   ],
   "source": [
    "from langchain_teddynote.graphs import visualize_graph\n",
    "\n",
    "# 그래프 시각화\n",
    "visualize_graph(graph)\n"
   ]
  },
  {
   "cell_type": "code",
   "execution_count": 13,
   "id": "261dd233",
   "metadata": {},
   "outputs": [
    {
     "name": "stdout",
     "output_type": "stream",
     "text": [
      "\n",
      "==============\n",
      "STEP: chatbot\n",
      "==============\n",
      "\n",
      "    \u001b[93mcontent\u001b[0m: \"\"\n",
      "    \u001b[93madditional_kwargs\u001b[0m:\n",
      "        \u001b[94mfunction_call\u001b[0m: {\"name\": \"tavily_web_search\", \"arguments\": \"{\"query\": \"\\ud14c\\ub514\\ub178\\ud2b8 YouTube\"}\"}\n",
      "    \u001b[93mresponse_metadata\u001b[0m:\n",
      "        \u001b[94mprompt_feedback\u001b[0m:\n",
      "            \u001b[95mblock_reason\u001b[0m: 0\n",
      "            \u001b[95msafety_ratings\u001b[0m:\n",
      "        \u001b[94mfinish_reason\u001b[0m: \"STOP\"\n",
      "        \u001b[94mmodel_name\u001b[0m: \"gemini-2.0-flash\"\n",
      "        \u001b[94msafety_ratings\u001b[0m:\n",
      "    \u001b[93mtype\u001b[0m: \"ai\"\n",
      "    \u001b[93mname\u001b[0m: None\n",
      "    \u001b[93mid\u001b[0m: \"run--69b9fe60-7c16-4a2d-97b5-47fd9943a969-0\"\n",
      "    \u001b[93mexample\u001b[0m: False\n",
      "    \u001b[93mtool_calls\u001b[0m:\n",
      "        \u001b[93mindex [0]\u001b[0m\n",
      "            \u001b[95mname\u001b[0m: \"tavily_web_search\"\n",
      "            \u001b[95margs\u001b[0m: {\"query\": \"테디노트 YouTube\"}\n",
      "            \u001b[95mid\u001b[0m: \"54934d57-4c77-499a-9e69-1aef2c3d9eaf\"\n",
      "            \u001b[95mtype\u001b[0m: \"tool_call\"\n",
      "    \u001b[93minvalid_tool_calls\u001b[0m:\n",
      "    \u001b[93musage_metadata\u001b[0m:\n",
      "        \u001b[94minput_tokens\u001b[0m: 66\n",
      "        \u001b[94moutput_tokens\u001b[0m: 12\n",
      "        \u001b[94mtotal_tokens\u001b[0m: 78\n",
      "        \u001b[94minput_token_details\u001b[0m: {\"cache_read\": 0}\n",
      "\n",
      "==============\n",
      "STEP: tools\n",
      "==============\n",
      "\n",
      "    \u001b[93mcontent\u001b[0m: \"[{\"url\": \"https://kr.linkedin.com/in/teddy-lee\", \"title\": \"Teddy Lee 님 - 테디노트 YouTuber, LangChain ...\", \"content\": \"테디노트 TeddyNote 그래픽. Content Creator. 테디노트 TeddyNote. 2020년 5월 – 현재 5년 4개월. YouTube. 테디노트 YouTube: https://youtube.com/c/teddynote.\", \"score\": 0.818055, \"raw_content\": null}, {\"url\": \"https://www.youtube.com/c/teddynote/streams\", \"title\": \"테디노트 TeddyNote\", \"content\": \"### [[Github Klaire 님 X 테디노트] 실리콘밸리 개발자 문화, 주니어 개발자를 위한 조언 🔥](https://www.youtube.com/watch? ### [[OneLineAI 손규진 X 테디노트] 비전공자에서 AI 연구원이 되기까지, Reasoning Model 이 열어줄 새로운 가능성 🔥](https://www.youtube.com/watch? ### [[모두의AI 케인 X 테디노트] 큰 그림으로 살펴보는 AI 산업 동향 (feat.팔란티어 온톨로지) 🔥](https://www.youtube.com/watch? ### [[VESSL AI X 테디노트] #Agent 시대의 Infra, Ops 그리고 #MCP 🔥](https://www.youtube.com/watch? ### [[벨루가 X 테디노트] 벨루가 멀티 RAG 아키텍처: LangGraph 활용 파이프라인🔥](https://www.youtube.com/watch? ### [[KAIST, MARKR.AI 이승유 X 테디노트] Reasoning 모델 & Test Time Scaling 심층탐구🔥](https://www.youtube.com/watch? ### [[GraphRAG 정이태 X 테디노트] GraphRAG, 실무에 적용하기 위한 고려요소 심층탐구 🔥](https://www.youtube.com/watch? ### [[KAIST 장동인 교수 X 테디노트] AI 시대, 개발자의 미래](https://www.youtube.com/watch? ### [[전현준, 손규진 X 테디노트] 실무자가 말하는 #sLM & #LangGraph 활용](https://www.youtube.com/watch? ### [[허정준 X 테디노트] LLM 에이전트 집중탐구 with 허정준님 🔥](https://www.youtube.com/watch?\", \"score\": 0.72884524, \"raw_content\": \"테디노트 TeddyNote - YouTube\\n\\n===============\\n\\n•\\n\\nNaN / NaN\\n\\n Back [![Image 1](https://www.youtube.com/c/teddynote/streams)](https://www.youtube.com/ \\\"YouTube Home\\\")\\n\\nSkip navigation\\n\\n Search \\n\\n Search with your voice \\n\\n[Sign in](https://accounts.google.com/ServiceLogin?service=youtube&uilel=3&passive=true&continue=https%3A%2F%2Fwww.youtube.com%2Fsignin%3Faction_handle_signin%3Dtrue%26app%3Ddesktop%26hl%3Den%26next%3Dhttps%253A%252F%252Fwww.youtube.com%252Fc%252Fteddynote%252Fstreams&hl=en&ec=65620)\\n\\n[![Image 2](https://www.youtube.com/c/teddynote/streams)](https://www.youtube.com/ \\\"YouTube Home\\\")\\n\\n[Home Home](https://www.youtube.com/ \\\"Home\\\")Shorts Shorts[Subscriptions Subscriptions](https://www.youtube.com/feed/subscriptions \\\"Subscriptions\\\")[You You](https://www.youtube.com/feed/you \\\"You\\\")[History History](https://www.youtube.com/feed/history \\\"History\\\")\\n\\n![Image 3](https://yt3.googleusercontent.com/c83Caih-Ik6_6uGf1pm4BTfwoJC_DmK-WbVq6IvQ9cmpNmCu7G0PwtIBzFArfXTXBGx8_HDxrPU=w1060-fcrop64=1,00005a57ffffa5a8-k-c0xffffffff-no-nd-rj)\\n\\n![Image 4](https://yt3.googleusercontent.com/lDDDlv0COiNN2TTkcmwnBji-Mm-q_dPJfgMyzM10FxiCp8qR7S03FQ1i9fmT9kP4g8JpdKiidw=s160-c-k-c0x00ffffff-no-rj)\\n\\n테디노트 TeddyNote\\n==============\\n\\n@teddynote\\n\\n•\\n\\n44.1K subscribers•266 videos\\n\\n데이터 분석, 머신러닝, 딥러닝, LLM 에 대한 내용을 다룹니다. 연구보다는 개발에 관심이 많습니다 🙇‍♂️ ...more 데이터 분석, 머신러닝, 딥러닝, LLM 에 대한 내용을 다룹니다. 연구보다는 개발에 관심이 많습니다 🙇‍♂️ ...more...more[fastcampus.co.kr/data_online_teddy](https://www.youtube.com/redirect?event=channel_header&redir_token=QUFFLUhqa0t6cTdvaVg4c2lobXZlakRnZkQyTUVzX0c1UXxBQ3Jtc0trSHRsYk9fMUFpVUlKRlI3ejE2ZkQyMlN3QXhKNFdITFBrLXJXeVRqNE9RRnR6S3NWZE5PSUFqcmlsQlprTlkzMlpmTjV0eGIyTmVWMEhEZkRFdW9DTjVJcVpoLVhtbzhNUmpuQlJKZDAtYjVZeE5Jcw&q=https%3A%2F%2Ffastcampus.co.kr%2Fdata_online_teddy)[and 2 more links](javascript:void(0);)\\n\\nSubscribe\\n\\nHome\\n\\nVideos\\n\\nShorts\\n\\nLive\\n\\nPlaylists\\n\\nPosts\\n\\nSearch \\n\\n Previous \\n\\n Latest\\n\\n Popular\\n\\n Oldest\\n\\n Next \\n\\n[![Image 5](https://i.ytimg.com/vi/YShTiM-_ygU/hqdefault.jpg?sqp=-oaymwEnCNACELwBSFryq4qpAxkIARUAAIhCGAHYAQHiAQoIGBACGAY4AUAB&rs=AOn4CLBwvrLN-NgmN-yK2saNbE41nq-LUQ) 2:15:40 2:15:40 Now playing](https://www.youtube.com/watch?v=YShTiM-_ygU)[2:15:40 2:15:40 2:15:40 Now playing](https://www.youtube.com/watch?v=YShTiM-_ygU)\\n\\n![Image 6](https://www.youtube.com/c/teddynote/streams)\\n\\n### [[Github Klaire 님 X 테디노트] 실리콘밸리 개발자 문화, 주니어 개발자를 위한 조언 🔥](https://www.youtube.com/watch?v=YShTiM-_ygU \\\"[Github Klaire 님 X 테디노트] 실리콘밸리 개발자 문화, 주니어 개발자를 위한 조언 🔥\\\")\\n\\n•\\n\\n•\\n\\n2K views Streamed 6 days ago\\n\\n[![Image 7](https://i.ytimg.com/vi/po0Li4cDlEc/hqdefault.jpg?sqp=-oaymwEnCNACELwBSFryq4qpAxkIARUAAIhCGAHYAQHiAQoIGBACGAY4AUAB&rs=AOn4CLAmtITnyJbJy6HGBoE6PKLD9L83qA) 2:29:16 2:29:16 Now playing](https://www.youtube.com/watch?v=po0Li4cDlEc)[2:29:16 2:29:16 2:29:16 Now playing](https://www.youtube.com/watch?v=po0Li4cDlEc)\\n\\n![Image 8](https://www.youtube.com/c/teddynote/streams)\\n\\n### [[OneLineAI 손규진 X 테디노트] 비전공자에서 AI 연구원이 되기까지, Reasoning Model 이 열어줄 새로운 가능성 🔥](https://www.youtube.com/watch?v=po0Li4cDlEc \\\"[OneLineAI 손규진 X 테디노트] 비전공자에서 AI 연구원이 되기까지, Reasoning Model 이 열어줄 새로운 가능성 🔥\\\")\\n\\n•\\n\\n•\\n\\n3K views Streamed 3 weeks ago\\n\\n[![Image 9](https://i.ytimg.com/vi/ZjjSqfv1Ypk/hqdefault.jpg?sqp=-oaymwFBCNACELwBSFryq4qpAzMIARUAAIhCGAHYAQHiAQoIGBACGAY4AUAB8AEB-AH-CYAC0AWKAgwIABABGGUgWyhZMA8=&rs=AOn4CLBNg0tVQHqH_nLA2ng35GPBbHep9A) 56:23 56:23 Now playing](https://www.youtube.com/watch?v=ZjjSqfv1Ypk&pp=0gcJCcMJAYcqIYzv)[56:23 56:23 56:23 Now playing](https://www.youtube.com/watch?v=ZjjSqfv1Ypk&pp=0gcJCcMJAYcqIYzv)\\n\\n![Image 10](https://www.youtube.com/c/teddynote/streams)\\n\\n### [LangChain Interrupt 샌프란시스코 마지막날 뒷풀이 토크 (w/ 랭체인 오픈튜토리얼 팀)](https://www.youtube.com/watch?v=ZjjSqfv1Ypk&pp=0gcJCcMJAYcqIYzv \\\"LangChain Interrupt 샌프란시스코 마지막날 뒷풀이 토크 (w/ 랭체인 오픈튜토리얼 팀)\\\")\\n\\n•\\n\\n•\\n\\n1.6K views Streamed 1 month ago\\n\\n[![Image 11](https://i.ytimg.com/vi/2eKd4UbSXy0/hqdefault.jpg?sqp=-oaymwEnCNACELwBSFryq4qpAxkIARUAAIhCGAHYAQHiAQoIGBACGAY4AUAB&rs=AOn4CLB7NK4ejLrYtKbrDHVU12klbt3n8Q) 3:46:25 3:46:25 Now playing](https://www.youtube.com/watch?v=2eKd4UbSXy0)[3:46:25 3:46:25 3:46:25 Now playing](https://www.youtube.com/watch?v=2eKd4UbSXy0)\\n\\n![Image 12](https://www.youtube.com/c/teddynote/streams)\\n\\n### [[모두의AI 케인 X 테디노트] 큰 그림으로 살펴보는 AI 산업 동향 (feat.팔란티어 온톨로지) 🔥](https://www.youtube.com/watch?v=2eKd4UbSXy0 \\\"[모두의AI 케인 X 테디노트] 큰 그림으로 살펴보는 AI 산업 동향 (feat.팔란티어 온톨로지) 🔥\\\")\\n\\n•\\n\\n•\\n\\n6.6K views Streamed 1 month ago\\n\\n[![Image 13](https://i.ytimg.com/vi/YcfM6maLiWo/hqdefault.jpg?sqp=-oaymwEnCNACELwBSFryq4qpAxkIARUAAIhCGAHYAQHiAQoIGBACGAY4AUAB&rs=AOn4CLB2MIeyn6i2VMpH-fjrfIonLhs0DA) 2:46:00 2:46:00 Now playing](https://www.youtube.com/watch?v=YcfM6maLiWo)[2:46:00 2:46:00 2:46:00 Now playing](https://www.youtube.com/watch?v=YcfM6maLiWo)\\n\\n![Image 14](https://www.youtube.com/c/teddynote/streams)\\n\\n### [[VESSL AI X 테디노트] #Agent 시대의 Infra, Ops 그리고 #MCP 🔥](https://www.youtube.com/watch?v=YcfM6maLiWo \\\"[VESSL AI X 테디노트] #Agent 시대의 Infra, Ops 그리고 #MCP 🔥\\\")\\n\\n•\\n\\n•\\n\\n2.9K views Streamed 2 months ago\\n\\n[![Image 15](https://i.ytimg.com/vi/eKsrya-v-04/hqdefault.jpg?sqp=-oaymwEnCNACELwBSFryq4qpAxkIARUAAIhCGAHYAQHiAQoIGBACGAY4AUAB&rs=AOn4CLCdt82Qa6YGK4V8FG7LU2SdCsl-JQ) 2:34:36 2:34:36 Now playing](https://www.youtube.com/watch?v=eKsrya-v-04)[2:34:36 2:34:36 2:34:36 Now playing](https://www.youtube.com/watch?v=eKsrya-v-04)\\n\\n![Image 16](https://www.youtube.com/c/teddynote/streams)\\n\\n### [[벨루가 X 테디노트] 벨루가 멀티 RAG 아키텍처: LangGraph 활용 파이프라인🔥](https://www.youtube.com/watch?v=eKsrya-v-04 \\\"[벨루가 X 테디노트] 벨루가 멀티 RAG 아키텍처: LangGraph 활용 파이프라인🔥\\\")\\n\\n•\\n\\n•\\n\\n2.2K views Streamed 2 months ago\\n\\n[![Image 17](https://i.ytimg.com/vi/VsCU6jTffec/hqdefault.jpg?sqp=-oaymwEnCNACELwBSFryq4qpAxkIARUAAIhCGAHYAQHiAQoIGBACGAY4AUAB&rs=AOn4CLD-C2zccrjFQFxeQ4SCoEI5vCfcAQ) 2:38:15 2:38:15 Now playing](https://www.youtube.com/watch?v=VsCU6jTffec)[2:38:15 2:38:15 2:38:15 Now playing](https://www.youtube.com/watch?v=VsCU6jTffec)\\n\\n![Image 18](https://www.youtube.com/c/teddynote/streams)\\n\\n### [[KAIST, MARKR.AI 이승유 X 테디노트] Reasoning 모델 & Test Time Scaling 심층탐구🔥](https://www.youtube.com/watch?v=VsCU6jTffec \\\"[KAIST, MARKR.AI 이승유 X 테디노트] Reasoning 모델 & Test Time Scaling 심층탐구🔥\\\")\\n\\n•\\n\\n•\\n\\n2.7K views Streamed 2 months ago\\n\\n[![Image 19](https://i.ytimg.com/vi/zHN2jDZHvI0/hqdefault.jpg?sqp=-oaymwEnCNACELwBSFryq4qpAxkIARUAAIhCGAHYAQHiAQoIGBACGAY4AUAB&rs=AOn4CLBxevAWilayHNNgYgFfHemf8VEZPQ) 3:00:16 3:00:16 Now playing](https://www.youtube.com/watch?v=zHN2jDZHvI0)[3:00:16 3:00:16 3:00:16 Now playing](https://www.youtube.com/watch?v=zHN2jDZHvI0)\\n\\n![Image 20](https://www.youtube.com/c/teddynote/streams)\\n\\n### [[GraphRAG 정이태 X 테디노트] GraphRAG, 실무에 적용하기 위한 고려요소 심층탐구 🔥](https://www.youtube.com/watch?v=zHN2jDZHvI0 \\\"[GraphRAG 정이태 X 테디노트] GraphRAG, 실무에 적용하기 위한 고려요소 심층탐구 🔥\\\")\\n\\n•\\n\\n•\\n\\n5K views Streamed 2 months ago\\n\\n[![Image 21](https://i.ytimg.com/vi/0vFV3GRUbSM/hqdefault.jpg?sqp=-oaymwEnCNACELwBSFryq4qpAxkIARUAAIhCGAHYAQHiAQoIGBACGAY4AUAB&rs=AOn4CLBig05N--IadXr1WAYncB8DRFDBDg) 2:43:55 2:43:55 Now playing](https://www.youtube.com/watch?v=0vFV3GRUbSM)[2:43:55 2:43:55 2:43:55 Now playing](https://www.youtube.com/watch?v=0vFV3GRUbSM)\\n\\n![Image 22](https://www.youtube.com/c/teddynote/streams)\\n\\n### [[양파 X 테디노트] 생성형 AI 로 RAG 시스템 만드는 실무자에게 Ask Me Anything! \\\"진로 상담 환영\\\"](https://www.youtube.com/watch?v=0vFV3GRUbSM \\\"[양파 X 테디노트] 생성형 AI 로 RAG 시스템 만드는 실무자에게 Ask Me Anything! \\\\\\\"진로 상담 환영\\\\\\\"\\\")\\n\\n•\\n\\n•\\n\\n3.5K views Streamed 3 months ago\\n\\n[![Image 23](https://www.youtube.com/c/teddynote/streams) 2:24:11 2:24:11 Now playing](https://www.youtube.com/watch?v=UaJ7_kloQUQ)[2:24:11 2:24:11 2:24:11 Now playing](https://www.youtube.com/watch?v=UaJ7_kloQUQ)\\n\\n![Image 24](https://www.youtube.com/c/teddynote/streams)\\n\\n### [[문라이트 X 테디노트] 논문, 너도 읽을 수 있어! – 연구의 장벽을 낮추는 #Moonlight](https://www.youtube.com/watch?v=UaJ7_kloQUQ \\\"[문라이트 X 테디노트] 논문, 너도 읽을 수 있어! – 연구의 장벽을 낮추는 #Moonlight\\\")\\n\\n•\\n\\n•\\n\\n4.5K views Streamed 3 months ago\\n\\n[![Image 25](https://www.youtube.com/c/teddynote/streams) 3:07:40 3:07:40 Now playing](https://www.youtube.com/watch?v=Z-ELkZ_azYM&pp=0gcJCcMJAYcqIYzv)[3:07:40 3:07:40 3:07:40 Now playing](https://www.youtube.com/watch?v=Z-ELkZ_azYM&pp=0gcJCcMJAYcqIYzv)\\n\\n![Image 26](https://www.youtube.com/c/teddynote/streams)\\n\\n### [[노토랩 변형호 X 테디노트] LLM의 새로운 전환점, Reasoning 모델 이해하기 (Feat. DeepSeek R1)](https://www.youtube.com/watch?v=Z-ELkZ_azYM&pp=0gcJCcMJAYcqIYzv \\\"[노토랩 변형호 X 테디노트] LLM의 새로운 전환점, Reasoning 모델 이해하기 (Feat. DeepSeek R1)\\\")\\n\\n•\\n\\n•\\n\\n5K views Streamed 3 months ago\\n\\n[![Image 27](https://www.youtube.com/c/teddynote/streams) 2:40:50 2:40:50 Now playing](https://www.youtube.com/watch?v=4cFEWqlALdo)[2:40:50 2:40:50 2:40:50 Now playing](https://www.youtube.com/watch?v=4cFEWqlALdo)\\n\\n![Image 28](https://www.youtube.com/c/teddynote/streams)\\n\\n### [[KAIST 장동인 교수 X 테디노트] AI 시대, 개발자의 미래](https://www.youtube.com/watch?v=4cFEWqlALdo \\\"[KAIST 장동인 교수 X 테디노트] AI 시대, 개발자의 미래\\\")\\n\\n•\\n\\n•\\n\\n3.9K views Streamed 4 months ago\\n\\n[![Image 29](https://www.youtube.com/c/teddynote/streams) 2:26:40 2:26:40 Now playing](https://www.youtube.com/watch?v=SVIxfMueeiE)[2:26:40 2:26:40 2:26:40 Now playing](https://www.youtube.com/watch?v=SVIxfMueeiE)\\n\\n![Image 30](https://www.youtube.com/c/teddynote/streams)\\n\\n### [[엄마표AI코딩 이호정 X 테디노트] 지금은 어떤 AI를 써 볼까? 나의 생산성을 높여줄 모든 AI](https://www.youtube.com/watch?v=SVIxfMueeiE \\\"[엄마표AI코딩 이호정 X 테디노트] 지금은 어떤 AI를 써 볼까? 나의 생산성을 높여줄 모든 AI\\\")\\n\\n•\\n\\n•\\n\\n2.2K views Streamed 4 months ago\\n\\n[![Image 31](https://www.youtube.com/c/teddynote/streams) 3:23:21 3:23:21 Now playing](https://www.youtube.com/watch?v=PKaSOnYLiHg)[3:23:21 3:23:21 3:23:21 Now playing](https://www.youtube.com/watch?v=PKaSOnYLiHg)\\n\\n![Image 32](https://www.youtube.com/c/teddynote/streams)\\n\\n### [[전현준, 손규진 X 테디노트] 실무자가 말하는 #sLM & #LangGraph 활용](https://www.youtube.com/watch?v=PKaSOnYLiHg \\\"[전현준, 손규진 X 테디노트] 실무자가 말하는 #sLM & #LangGraph 활용\\\")\\n\\n•\\n\\n•\\n\\n4.8K views Streamed 4 months ago\\n\\n[![Image 33](https://www.youtube.com/c/teddynote/streams) 2:12:16 2:12:16 Now playing](https://www.youtube.com/watch?v=7m5Xzfd95hw)[2:12:16 2:12:16 2:12:16 Now playing](https://www.youtube.com/watch?v=7m5Xzfd95hw)\\n\\n![Image 34](https://www.youtube.com/c/teddynote/streams)\\n\\n### [[AIFactory 김태영 대표 X 테디노트] 어시웍스 - 생성형AI부터 에이전틱AI까지 비개발자도 뚝딱 🤖](https://www.youtube.com/watch?v=7m5Xzfd95hw \\\"[AIFactory 김태영 대표 X 테디노트] 어시웍스 - 생성형AI부터 에이전틱AI까지 비개발자도 뚝딱 🤖\\\")\\n\\n•\\n\\n•\\n\\n2.7K views Streamed 5 months ago\\n\\n[![Image 35](https://www.youtube.com/c/teddynote/streams) 1:41:36 1:41:36 Now playing](https://www.youtube.com/watch?v=zb3v45ik9KI)[1:41:36 1:41:36 1:41:36 Now playing](https://www.youtube.com/watch?v=zb3v45ik9KI)\\n\\n![Image 36](https://www.youtube.com/c/teddynote/streams)\\n\\n### [[허정준 X 테디노트] LLM 에이전트 집중탐구 with 허정준님 🔥](https://www.youtube.com/watch?v=zb3v45ik9KI \\\"[허정준 X 테디노트] LLM 에이전트 집중탐구 with 허정준님 🔥\\\")\\n\\n•\\n\\n•\\n\\n6K views Streamed 5 months ago\\n\\n[![Image 37](https://www.youtube.com/c/teddynote/streams) 4:06:31 4:06:31 Now playing](https://www.youtube.com/watch?v=slqdel6HoCI)[4:06:31 4:06:31 4:06:31 Now playing](https://www.youtube.com/watch?v=slqdel6HoCI)\\n\\n![Image 38](https://www.youtube.com/c/teddynote/streams)\\n\\n### [[혁펜하임 X 테디노트] 왜 RNN보다 트랜스포머가 더 좋다는 걸까? 👀](https://www.youtube.com/watch?v=slqdel6HoCI \\\"[혁펜하임 X 테디노트] 왜 RNN보다 트랜스포머가 더 좋다는 걸까? 👀\\\")\\n\\n•\\n\\n•\\n\\n6.5K views Streamed 6 months ago\\n\\n[![Image 39](https://www.youtube.com/c/teddynote/streams) 2:35:48 2:35:48 Now playing](https://www.youtube.com/watch?v=0qz-nlMp7to)[2:35:48 2:35:48 2:35:48 Now playing](https://www.youtube.com/watch?v=0qz-nlMp7to)\\n\\n![Image 40](https://www.youtube.com/c/teddynote/streams)\\n\\n### [🤖 RAG 평가와 최적화. 12시까지 달려봅시다! - 다시 돌아온 AutoRAG](https://www.youtube.com/watch?v=0qz-nlMp7to \\\"🤖 RAG 평가와 최적화. 12시까지 달려봅시다! - 다시 돌아온 AutoRAG\\\")\\n\\n•\\n\\n•\\n\\n2K views Streamed 6 months ago\\n\\n[![Image 41](https://www.youtube.com/c/teddynote/streams) 3:45:56 3:45:56 Now playing](https://www.youtube.com/watch?v=iuhXs4iHLdk)[3:45:56 3:45:56 3:45:56 Now playing](https://www.youtube.com/watch?v=iuhXs4iHLdk)\\n\\n![Image 42](https://www.youtube.com/c/teddynote/streams)\\n\\n### [🔥실무를 위한 프롬프팅 & 프롬프트 엔지니어링 2탄!!! with 강수진 박사🔥](https://www.youtube.com/watch?v=iuhXs4iHLdk \\\"🔥실무를 위한 프롬프팅 & 프롬프트 엔지니어링 2탄!!! with 강수진 박사🔥\\\")\\n\\n•\\n\\n•\\n\\n6.4K views Streamed 6 months ago\\n\\n[![Image 43](https://www.youtube.com/c/teddynote/streams) 56:50 56:50 Now playing](https://www.youtube.com/watch?v=FZb9lKzOUAQ)[56:50 56:50 56:50 Now playing](https://www.youtube.com/watch?v=FZb9lKzOUAQ)\\n\\n![Image 44](https://www.youtube.com/c/teddynote/streams)\\n\\n### [❤️ 2024년 결산 / 이벤트 안내 / 2025년 프로젝트 소개 ❤️](https://www.youtube.com/watch?v=FZb9lKzOUAQ \\\"❤️ 2024년 결산 / 이벤트 안내 / 2025년 프로젝트 소개 ❤️\\\")\\n\\n•\\n\\n•\\n\\n1.9K views Streamed 7 months ago\\n\\n[![Image 45](https://www.youtube.com/c/teddynote/streams) 3:00:16 3:00:16 Now playing](https://www.youtube.com/watch?v=i8YZJ6FwZUw)[3:00:16 3:00:16 3:00:16 Now playing](https://www.youtube.com/watch?v=i8YZJ6FwZUw)\\n\\n![Image 46](https://www.youtube.com/c/teddynote/streams)\\n\\n### [🌈 Domain Specific #LLM 과 Synthetic Data Generation](https://www.youtube.com/watch?v=i8YZJ6FwZUw \\\"🌈 Domain Specific #LLM 과 Synthetic Data Generation\\\")\\n\\n•\\n\\n•\\n\\n3K views Streamed 7 months ago\\n\\n[![Image 47](https://www.youtube.com/c/teddynote/streams) 2:33:00 2:33:00 Now playing](https://www.youtube.com/watch?v=0461hyqdQvw)[2:33:00 2:33:00 2:33:00 Now playing](https://www.youtube.com/watch?v=0461hyqdQvw)\\n\\n![Image 48](https://www.youtube.com/c/teddynote/streams)\\n\\n### [👀 AI 자동화 노코드 Tool: Make로 어디까지 가능할까?](https://www.youtube.com/watch?v=0461hyqdQvw \\\"👀 AI 자동화 노코드 Tool: Make로 어디까지 가능할까?\\\")\\n\\n•\\n\\n•\\n\\n3.6K views Streamed 7 months ago\\n\\n[![Image 49](https://www.youtube.com/c/teddynote/streams) 3:07:15 3:07:15 Now playing](https://www.youtube.com/watch?v=wE42SIAWCmg)[3:07:15 3:07:15 3:07:15 Now playing](https://www.youtube.com/watch?v=wE42SIAWCmg)\\n\\n![Image 50](https://www.youtube.com/c/teddynote/streams)\\n\\n### [#upstage 화제의 Document Parse 개발하신 분들께 직접 물어보겠습니다! (라이브 참여자 이벤트 있음)](https://www.youtube.com/watch?v=wE42SIAWCmg \\\"#upstage 화제의 Document Parse 개발하신 분들께 직접 물어보겠습니다! (라이브 참여자 이벤트 있음)\\\")\\n\\n•\\n\\n•\\n\\n6.1K views Streamed 8 months ago\\n\\n[![Image 51](https://www.youtube.com/c/teddynote/streams) 3:35:30 3:35:30 Now playing](https://www.youtube.com/watch?v=xk0CvPgpHF8)[3:35:30 3:35:30 3:35:30 Now playing](https://www.youtube.com/watch?v=xk0CvPgpHF8)\\n\\n![Image 52](https://www.youtube.com/c/teddynote/streams)\\n\\n### [🔥AI로 데이터 분석 교육하기, 데이터 레이크하우스 인프라 구축하기🔥](https://www.youtube.com/watch?v=xk0CvPgpHF8 \\\"🔥AI로 데이터 분석 교육하기, 데이터 레이크하우스 인프라 구축하기🔥\\\")\\n\\n•\\n\\n•\\n\\n2.1K views Streamed 8 months ago\\n\\n[![Image 53](https://www.youtube.com/c/teddynote/streams) 1:09:50 1:09:50 Now playing](https://www.youtube.com/watch?v=sgHrCg1rvVo)[1:09:50 1:09:50 1:09:50 Now playing](https://www.youtube.com/watch?v=sgHrCg1rvVo)\\n\\n![Image 54](https://www.youtube.com/c/teddynote/streams)\\n\\n### [온라인 커피챗!](https://www.youtube.com/watch?v=sgHrCg1rvVo \\\"온라인 커피챗!\\\")\\n\\n•\\n\\n•\\n\\n1.1K views Streamed 8 months ago\\n\\n[![Image 55](https://www.youtube.com/c/teddynote/streams) 3:16:57 3:16:57 Now playing](https://www.youtube.com/watch?v=zjUPWtsjdWk)[3:16:57 3:16:57 3:16:57 Now playing](https://www.youtube.com/watch?v=zjUPWtsjdWk)\\n\\n![Image 56](https://www.youtube.com/c/teddynote/streams)\\n\\n### [🔥 [AutoRAG 총출동] 한국어 Advanced RAG 최적화를 위한 평가 데이터셋, 평가, 최적화 꿀팁들 대방출 🔥](https://www.youtube.com/watch?v=zjUPWtsjdWk \\\"🔥 [AutoRAG 총출동] 한국어 Advanced RAG 최적화를 위한 평가 데이터셋, 평가, 최적화 꿀팁들 대방출 🔥\\\")\\n\\n•\\n\\n•\\n\\n4.8K views Streamed 8 months ago\\n\\n[![Image 57](https://www.youtube.com/c/teddynote/streams) 2:23:10 2:23:10 Now playing](https://www.youtube.com/watch?v=Z2dXWLjPNs4)[2:23:10 2:23:10 2:23:10 Now playing](https://www.youtube.com/watch?v=Z2dXWLjPNs4)\\n\\n![Image 58](https://www.youtube.com/c/teddynote/streams)\\n\\n### [🔥 얼굴 인식을 통한 피부관리 방법 및 제품 추천 AI 챗봇 by 리오(Leo) 🔥](https://www.youtube.com/watch?v=Z2dXWLjPNs4 \\\"🔥 얼굴 인식을 통한 피부관리 방법 및 제품 추천 AI 챗봇 by 리오(Leo) 🔥\\\")\\n\\n•\\n\\n•\\n\\n2K views Streamed 9 months ago\\n\\n[![Image 59](https://www.youtube.com/c/teddynote/streams) 2:04:20 2:04:20 Now playing](https://www.youtube.com/watch?v=J610NhUrj-s&pp=0gcJCcMJAYcqIYzv)[2:04:20 2:04:20 2:04:20 Now playing](https://www.youtube.com/watch?v=J610NhUrj-s&pp=0gcJCcMJAYcqIYzv)\\n\\n![Image 60](https://www.youtube.com/c/teddynote/streams)\\n\\n### [🔥 요즘 가장 뜨거운 #CrewAI #Autogen #Langgraph 를 활용한 Agentic RAG 에 대해서 배워보겠습니다!](https://www.youtube.com/watch?v=J610NhUrj-s&pp=0gcJCcMJAYcqIYzv \\\"🔥 요즘 가장 뜨거운 #CrewAI #Autogen #Langgraph 를 활용한 Agentic RAG 에 대해서 배워보겠습니다!\\\")\\n\\n•\\n\\n•\\n\\n7.5K views Streamed 9 months ago\\n\\n[![Image 61](https://www.youtube.com/c/teddynote/streams) 2:53:05 2:53:05 Now playing](https://www.youtube.com/watch?v=hEKcdsrdV8M)[2:53:05 2:53:05 2:53:05 Now playing](https://www.youtube.com/watch?v=hEKcdsrdV8M)\\n\\n![Image 62](https://www.youtube.com/c/teddynote/streams)\\n\\n### [🔥 원티드X네이버클라우드 프롬프톤 우승자가 말하는 실전 #프롬프트, #RAG 개발 전략은 내가 만든 전략과 어떻게 다른지 물어보겠습니다🫡](https://www.youtube.com/watch?v=hEKcdsrdV8M \\\"🔥 원티드X네이버클라우드 프롬프톤 우승자가 말하는 실전 #프롬프트, #RAG 개발 전략은 내가 만든 전략과 어떻게 다른지 물어보겠습니다🫡\\\")\\n\\n•\\n\\n•\\n\\n6.6K views Streamed 10 months ago\\n\\n[![Image 63](https://www.youtube.com/c/teddynote/streams) 3:18:01 3:18:01 Now playing](https://www.youtube.com/watch?v=IstX_cGtGjw)[3:18:01 3:18:01 3:18:01 Now playing](https://www.youtube.com/watch?v=IstX_cGtGjw)\\n\\n![Image 64](https://www.youtube.com/c/teddynote/streams)\\n\\n### [🔥 국내 1호공채 프롬프트 엔지니어 강수진 대표님을 모시고 #프롬프트 잘 작성하는 노하우를 탈탈 털겠습니다 🫡](https://www.youtube.com/watch?v=IstX_cGtGjw \\\"🔥 국내 1호공채 프롬프트 엔지니어 강수진 대표님을 모시고 #프롬프트 잘 작성하는 노하우를 탈탈 털겠습니다 🫡\\\")\\n\\n•\\n\\n•\\n\\n17K views Streamed 10 months ago\\n\\nSearch\\n\\nInfo\\n\\nShopping\\n\\nTap to unmute\\n\\n2x\\n\\n![Image 65](https://www.youtube.com/c/teddynote/streams)\\n\\nIf playback doesn't begin shortly, try restarting your device.\\n\\n![Image 66](https://www.youtube.com/c/teddynote/streams)\\n\\n•\\n\\nYou're signed out\\n\\nVideos you watch may be added to the TV's watch history and influence TV recommendations. To avoid this, cancel and sign in to YouTube on your computer.\\n\\nCancel Confirm\\n\\nShare\\n\\n- [x] Include playlist \\n\\nAn error occurred while retrieving sharing information. Please try again later.\\n\\nWatch later\\n\\nShare\\n\\nCopy link\\n\\n![Image 67](https://www.youtube.com/c/teddynote/streams)\\n\\n0:00\\n\\n / \\n\\n•Watch full video Live\\n\\n•\\n\\n•\\n\\nScroll for details\\n\\n![Image 68](https://www.youtube.com/c/teddynote/streams)\\n\\n…\\n\\nNaN / NaN\\n\"}, {\"url\": \"https://www.youtube.com/shorts/SV8RgoPjeAQ\", \"title\": \"2주동안 읽는 논문의 양 #테디노트라이브 #podcast\", \"content\": \"본 영상은 YouTube 라이브의 하이라이트 편집본입니다. 라이브 전체: https://youtube.com/live/po0Li4cDlEc 구독자 한정 20% 쿠폰 안내 손규진 님의\", \"score\": 0.6512002, \"raw_content\": null}]\"\n",
      "    \u001b[93madditional_kwargs\u001b[0m: {}\n",
      "    \u001b[93mresponse_metadata\u001b[0m: {}\n",
      "    \u001b[93mtype\u001b[0m: \"tool\"\n",
      "    \u001b[93mname\u001b[0m: \"tavily_web_search\"\n",
      "    \u001b[93mid\u001b[0m: \"83958f38-1a5d-4208-bb46-6710c022c721\"\n",
      "    \u001b[93mtool_call_id\u001b[0m: \"54934d57-4c77-499a-9e69-1aef2c3d9eaf\"\n",
      "    \u001b[93martifact\u001b[0m: None\n",
      "    \u001b[93mstatus\u001b[0m: \"success\"\n",
      "\n",
      "==============\n",
      "STEP: chatbot\n",
      "==============\n",
      "\n",
      "    \u001b[93mcontent\u001b[0m: \"테디노트 YouTube 채널은 다음 링크에서 찾을 수 있습니다: https://www.youtube.com/c/teddynote\n",
      "\n",
      "이 채널에서는 데이터 분석, 머신러닝, 딥러닝, LLM에 대한 내용을 다루고 있습니다.\"\n",
      "    \u001b[93madditional_kwargs\u001b[0m: {}\n",
      "    \u001b[93mresponse_metadata\u001b[0m:\n",
      "        \u001b[94mprompt_feedback\u001b[0m:\n",
      "            \u001b[95mblock_reason\u001b[0m: 0\n",
      "            \u001b[95msafety_ratings\u001b[0m:\n",
      "        \u001b[94mfinish_reason\u001b[0m: \"STOP\"\n",
      "        \u001b[94mmodel_name\u001b[0m: \"gemini-2.0-flash\"\n",
      "        \u001b[94msafety_ratings\u001b[0m:\n",
      "    \u001b[93mtype\u001b[0m: \"ai\"\n",
      "    \u001b[93mname\u001b[0m: None\n",
      "    \u001b[93mid\u001b[0m: \"run--55945231-5e31-4295-824e-2106bb7735b5-0\"\n",
      "    \u001b[93mexample\u001b[0m: False\n",
      "    \u001b[93mtool_calls\u001b[0m:\n",
      "    \u001b[93minvalid_tool_calls\u001b[0m:\n",
      "    \u001b[93musage_metadata\u001b[0m:\n",
      "        \u001b[94minput_tokens\u001b[0m: 9518\n",
      "        \u001b[94moutput_tokens\u001b[0m: 59\n",
      "        \u001b[94mtotal_tokens\u001b[0m: 9577\n",
      "        \u001b[94minput_token_details\u001b[0m: {\"cache_read\": 0}\n"
     ]
    }
   ],
   "source": [
    "from langchain_teddynote.messages import display_message_tree\n",
    "\n",
    "question = \"테디노트 YouTube\"\n",
    "\n",
    "for event in graph.stream({\"messages\": [(\"user\", question)]}):\n",
    "    for key, value in event.items():\n",
    "        print(f\"\\n==============\\nSTEP: {key}\\n==============\\n\")\n",
    "        display_message_tree(value[\"messages\"][-1])\n"
   ]
  }
 ],
 "metadata": {
  "kernelspec": {
   "display_name": "study-langgraph",
   "language": "python",
   "name": "python3"
  },
  "language_info": {
   "codemirror_mode": {
    "name": "ipython",
    "version": 3
   },
   "file_extension": ".py",
   "mimetype": "text/x-python",
   "name": "python",
   "nbconvert_exporter": "python",
   "pygments_lexer": "ipython3",
   "version": "3.11.12"
  }
 },
 "nbformat": 4,
 "nbformat_minor": 5
}
