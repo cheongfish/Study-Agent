{
 "cells": [
  {
   "cell_type": "code",
   "execution_count": 21,
   "id": "dfc462f0",
   "metadata": {},
   "outputs": [
    {
     "data": {
      "text/plain": [
       "True"
      ]
     },
     "execution_count": 21,
     "metadata": {},
     "output_type": "execute_result"
    }
   ],
   "source": [
    "# API KEY를 환경변수로 관리하기 위한 설정 파일\n",
    "from dotenv import load_dotenv\n",
    "\n",
    "# API KEY 정보로드\n",
    "load_dotenv()"
   ]
  },
  {
   "cell_type": "code",
   "execution_count": 149,
   "id": "ae606fe8",
   "metadata": {},
   "outputs": [
    {
     "name": "stdout",
     "output_type": "stream",
     "text": [
      "LangSmith 추적을 시작합니다.\n",
      "[프로젝트명]\n",
      "test_memory\n"
     ]
    }
   ],
   "source": [
    "# LangSmith 추적을 설정합니다. https://smith.langchain.com\n",
    "# !pip install -qU langchain-teddynote\n",
    "from langchain_teddynote import logging\n",
    "\n",
    "# 프로젝트 이름을 입력합니다.\n",
    "logging.langsmith(\"test_memory\")\n"
   ]
  },
  {
   "cell_type": "code",
   "execution_count": 65,
   "id": "540d6b1e",
   "metadata": {},
   "outputs": [],
   "source": [
    "from langchain_core.prompts import PromptTemplate\n",
    "from langchain_google_genai import ChatGoogleGenerativeAI\n",
    "# define llm\n",
    "llm = ChatGoogleGenerativeAI(\n",
    "    model=\"gemini-2.0-flash\",\n",
    "    temperature=0,\n",
    "    max_tokens=None,\n",
    "    timeout=None,\n",
    "    max_retries=2,\n",
    "    # other params...\n",
    ") "
   ]
  },
  {
   "cell_type": "markdown",
   "id": "be5fe0b2",
   "metadata": {},
   "source": [
    "## ConversationBufferMemory"
   ]
  },
  {
   "cell_type": "code",
   "execution_count": 24,
   "id": "b208503a",
   "metadata": {},
   "outputs": [
    {
     "name": "stderr",
     "output_type": "stream",
     "text": [
      "/tmp/ipykernel_5635/3574493985.py:3: LangChainDeprecationWarning: Please see the migration guide at: https://python.langchain.com/docs/versions/migrating_memory/\n",
      "  memory = ConversationBufferMemory()\n"
     ]
    }
   ],
   "source": [
    "# conversation buffer memory\n",
    "from langchain.memory import ConversationBufferMemory\n",
    "memory = ConversationBufferMemory()\n",
    "memory.save_context(\n",
    "    inputs={\n",
    "        \"human\": \"안녕하세요, 비대면으로 은행 계좌를 개설하고 싶습니다. 어떻게 시작해야 하나요?\"\n",
    "    },\n",
    "    outputs={\n",
    "        \"ai\": \"안녕하세요! 계좌 개설을 원하신다니 기쁩니다. 먼저, 본인 인증을 위해 신분증을 준비해 주시겠어요?\"\n",
    "    },\n",
    ")\n"
   ]
  },
  {
   "cell_type": "code",
   "execution_count": 26,
   "id": "60fe570d",
   "metadata": {},
   "outputs": [],
   "source": [
    "# inputs: dictionary(key: \"human\" or \"ai\", value: 질문)\n",
    "# outputs: dictionary(key: \"ai\" or \"human\", value: 답변)\n",
    "memory.save_context(\n",
    "    inputs={\"human\": \"네, 신분증을 준비했습니다. 이제 무엇을 해야 하나요?\"},\n",
    "    outputs={\n",
    "        \"ai\": \"감사합니다. 신분증 앞뒤를 명확하게 촬영하여 업로드해 주세요. 이후 본인 인증 절차를 진행하겠습니다.\"\n",
    "    },\n",
    ")\n"
   ]
  },
  {
   "cell_type": "code",
   "execution_count": 27,
   "id": "cb1a2ff3",
   "metadata": {},
   "outputs": [],
   "source": [
    "# 2개의 대화를 저장합니다.\n",
    "memory.save_context(\n",
    "    inputs={\"human\": \"사진을 업로드했습니다. 본인 인증은 어떻게 진행되나요?\"},\n",
    "    outputs={\n",
    "        \"ai\": \"업로드해 주신 사진을 확인했습니다. 이제 휴대폰을 통한 본인 인증을 진행해 주세요. 문자로 발송된 인증번호를 입력해 주시면 됩니다.\"\n",
    "    },\n",
    ")\n",
    "memory.save_context(\n",
    "    inputs={\"human\": \"인증번호를 입력했습니다. 계좌 개설은 이제 어떻게 하나요?\"},\n",
    "    outputs={\n",
    "        \"ai\": \"본인 인증이 완료되었습니다. 이제 원하시는 계좌 종류를 선택하고 필요한 정보를 입력해 주세요. 예금 종류, 통화 종류 등을 선택할 수 있습니다.\"\n",
    "    },\n",
    ")\n"
   ]
  },
  {
   "cell_type": "code",
   "execution_count": 28,
   "id": "8f85626a",
   "metadata": {},
   "outputs": [
    {
     "name": "stdout",
     "output_type": "stream",
     "text": [
      "Human: 안녕하세요, 비대면으로 은행 계좌를 개설하고 싶습니다. 어떻게 시작해야 하나요?\n",
      "AI: 안녕하세요! 계좌 개설을 원하신다니 기쁩니다. 먼저, 본인 인증을 위해 신분증을 준비해 주시겠어요?\n",
      "Human: 네, 신분증을 준비했습니다. 이제 무엇을 해야 하나요?\n",
      "AI: 감사합니다. 신분증 앞뒤를 명확하게 촬영하여 업로드해 주세요. 이후 본인 인증 절차를 진행하겠습니다.\n",
      "Human: 사진을 업로드했습니다. 본인 인증은 어떻게 진행되나요?\n",
      "AI: 업로드해 주신 사진을 확인했습니다. 이제 휴대폰을 통한 본인 인증을 진행해 주세요. 문자로 발송된 인증번호를 입력해 주시면 됩니다.\n",
      "Human: 인증번호를 입력했습니다. 계좌 개설은 이제 어떻게 하나요?\n",
      "AI: 본인 인증이 완료되었습니다. 이제 원하시는 계좌 종류를 선택하고 필요한 정보를 입력해 주세요. 예금 종류, 통화 종류 등을 선택할 수 있습니다.\n"
     ]
    }
   ],
   "source": [
    "# history에 저장된 대화 기록을 확인합니다.\n",
    "print(memory.load_memory_variables({})[\"history\"])\n"
   ]
  },
  {
   "cell_type": "code",
   "execution_count": 29,
   "id": "41d5603e",
   "metadata": {},
   "outputs": [],
   "source": [
    "memory = ConversationBufferMemory(return_messages=True)\n",
    "\n",
    "memory.save_context(\n",
    "    inputs={\n",
    "        \"human\": \"안녕하세요, 비대면으로 은행 계좌를 개설하고 싶습니다. 어떻게 시작해야 하나요?\"\n",
    "    },\n",
    "    outputs={\n",
    "        \"ai\": \"안녕하세요! 계좌 개설을 원하신다니 기쁩니다. 먼저, 본인 인증을 위해 신분증을 준비해 주시겠어요?\"\n",
    "    },\n",
    ")\n",
    "\n",
    "memory.save_context(\n",
    "    inputs={\"human\": \"네, 신분증을 준비했습니다. 이제 무엇을 해야 하나요?\"},\n",
    "    outputs={\n",
    "        \"ai\": \"감사합니다. 신분증 앞뒤를 명확하게 촬영하여 업로드해 주세요. 이후 본인 인증 절차를 진행하겠습니다.\"\n",
    "    },\n",
    ")\n",
    "\n",
    "memory.save_context(\n",
    "    inputs={\"human\": \"사진을 업로드했습니다. 본인 인증은 어떻게 진행되나요?\"},\n",
    "    outputs={\n",
    "        \"ai\": \"업로드해 주신 사진을 확인했습니다. 이제 휴대폰을 통한 본인 인증을 진행해 주세요. 문자로 발송된 인증번호를 입력해 주시면 됩니다.\"\n",
    "    },\n",
    ")\n"
   ]
  },
  {
   "cell_type": "code",
   "execution_count": 30,
   "id": "d4733833",
   "metadata": {},
   "outputs": [
    {
     "data": {
      "text/plain": [
       "[HumanMessage(content='안녕하세요, 비대면으로 은행 계좌를 개설하고 싶습니다. 어떻게 시작해야 하나요?', additional_kwargs={}, response_metadata={}),\n",
       " AIMessage(content='안녕하세요! 계좌 개설을 원하신다니 기쁩니다. 먼저, 본인 인증을 위해 신분증을 준비해 주시겠어요?', additional_kwargs={}, response_metadata={}),\n",
       " HumanMessage(content='네, 신분증을 준비했습니다. 이제 무엇을 해야 하나요?', additional_kwargs={}, response_metadata={}),\n",
       " AIMessage(content='감사합니다. 신분증 앞뒤를 명확하게 촬영하여 업로드해 주세요. 이후 본인 인증 절차를 진행하겠습니다.', additional_kwargs={}, response_metadata={}),\n",
       " HumanMessage(content='사진을 업로드했습니다. 본인 인증은 어떻게 진행되나요?', additional_kwargs={}, response_metadata={}),\n",
       " AIMessage(content='업로드해 주신 사진을 확인했습니다. 이제 휴대폰을 통한 본인 인증을 진행해 주세요. 문자로 발송된 인증번호를 입력해 주시면 됩니다.', additional_kwargs={}, response_metadata={})]"
      ]
     },
     "execution_count": 30,
     "metadata": {},
     "output_type": "execute_result"
    }
   ],
   "source": [
    "# history에 저장된 대화 기록을 확인합니다.\n",
    "memory.load_memory_variables({})[\"history\"]\n"
   ]
  },
  {
   "cell_type": "code",
   "execution_count": 36,
   "id": "517b4377",
   "metadata": {},
   "outputs": [],
   "source": [
    "from langchain.chains import ConversationChain\n",
    "from langchain_core.runnables.history import RunnableWithMessageHistory\n",
    "# ConversationChain을 생성합니다.\n",
    "conversation = ConversationChain(\n",
    "    # ConversationBufferMemory를 사용합니다.\n",
    "    llm=llm,\n",
    "    memory=ConversationBufferMemory(),\n",
    ")"
   ]
  },
  {
   "cell_type": "code",
   "execution_count": 37,
   "id": "7c6ac6b7",
   "metadata": {},
   "outputs": [
    {
     "name": "stdout",
     "output_type": "stream",
     "text": [
      "안녕하세요! 비대면 계좌 개설에 관심을 가져주셔서 감사합니다. 비대면 계좌 개설은 편리하고 빠르게 은행 업무를 처리할 수 있는 좋은 방법입니다. 시작하는 방법은 다음과 같습니다.\n",
      "\n",
      "**1. 은행 선택:**\n",
      "\n",
      "*   **주거래 은행 또는 선호하는 은행:** 이미 거래하고 있는 은행이 있다면, 해당 은행의 앱이나 웹사이트를 통해 비대면 계좌 개설을 진행하는 것이 가장 편리합니다. 기존 고객 정보가 일부 활용될 수 있어 절차가 간소화될 수 있습니다.\n",
      "*   **금리 및 혜택 비교:** 여러 은행의 비대면 계좌 개설 혜택 (예: 금리 우대, 수수료 면제 등)을 비교해보고 자신에게 가장 유리한 은행을 선택하세요. 각 은행 웹사이트나 금융 상품 비교 사이트에서 정보를 얻을 수 있습니다. 예를 들어, 카카오뱅크, 토스뱅크, 케이뱅크 등 인터넷 전문은행은 비대면 계좌 개설에 특화되어 있으며, 다양한 혜택을 제공하는 경우가 많습니다.\n",
      "\n",
      "**2. 필요 서류 및 준비물:**\n",
      "\n",
      "*   **신분증:** 주민등록증 또는 운전면허증이 필요합니다. 여권은 일부 은행에서만 허용될 수 있으므로, 해당 은행에 확인하는 것이 좋습니다.\n",
      "*   **본인 명의 휴대폰:** 본인 인증을 위해 필요합니다.\n",
      "*   **기존 계좌 정보 (타 은행 계좌):** 본인 확인을 위해 타 은행 계좌 정보가 필요할 수 있습니다.\n",
      "*   **공동인증서 (구 공인인증서):** 일부 은행에서는 필요할 수 있습니다.\n",
      "\n",
      "**3. 비대면 계좌 개설 방법:**\n",
      "\n",
      "*   **은행 앱 또는 웹사이트 접속:** 선택한 은행의 모바일 앱을 다운로드하거나 웹사이트에 접속합니다.\n",
      "*   **계좌 개설 메뉴 선택:** 앱 또는 웹사이트에서 \"계좌 개설\" 또는 \"비대면 계좌 개설\" 메뉴를 찾습니다.\n",
      "*   **본인 인증:** 휴대폰 본인 인증, 신분증 촬영 및 제출, 기존 계좌 인증 등 다양한 방법으로 본인 인증을 진행합니다. 신분증 촬영 시 빛 반사가 없도록 주의하고, 흐릿하게 찍히지 않도록 선명하게 촬영해야 합니다.\n",
      "*   **계좌 정보 입력:** 계좌 종류, 비밀번호, 거래 목적 등 필요한 정보를 입력합니다.\n",
      "*   **약관 동의:** 계좌 개설 관련 약관에 동의합니다.\n",
      "*   **개설 완료:** 모든 절차가 완료되면 비대면 계좌 개설이 완료됩니다.\n",
      "\n",
      "**주의사항:**\n",
      "\n",
      "*   **신분증 진위 여부 확인:** 은행은 제출된 신분증의 진위 여부를 확인합니다. 위조된 신분증을 사용하면 법적 처벌을 받을 수 있습니다.\n",
      "*   **본인 명의 휴대폰 사용:** 반드시 본인 명의의 휴대폰을 사용해야 합니다.\n",
      "*   **보안:** 계좌 비밀번호 및 보안 카드 정보 등을 안전하게 관리해야 합니다.\n",
      "\n",
      "**예시:**\n",
      "\n",
      "만약 카카오뱅크에서 비대면 계좌를 개설하고 싶다면, 카카오뱅크 앱을 다운로드하여 실행한 후, \"계좌 개설\" 메뉴를 선택하고 안내에 따라 진행하면 됩니다.\n",
      "\n",
      "궁금한 점이 있다면 언제든지 다시 질문해주세요!\n"
     ]
    }
   ],
   "source": [
    "# 대화를 시작합니다.\n",
    "response = conversation.predict(\n",
    "    input=\"안녕하세요, 비대면으로 은행 계좌를 개설하고 싶습니다. 어떻게 시작해야 하나요?\"\n",
    ")\n",
    "print(response)\n"
   ]
  },
  {
   "cell_type": "code",
   "execution_count": 38,
   "id": "0781049d",
   "metadata": {},
   "outputs": [
    {
     "name": "stdout",
     "output_type": "stream",
     "text": [
      "네, 이전 답변을 불렛포인트 형식으로 정리해 드리겠습니다.\n",
      "\n",
      "**비대면 계좌 개설 방법 (요약):**\n",
      "\n",
      "*   **1. 은행 선택:**\n",
      "    *   주거래 은행 또는 선호하는 은행 고려\n",
      "    *   금리 및 혜택 비교 (카카오뱅크, 토스뱅크, 케이뱅크 등 인터넷 전문은행 고려)\n",
      "*   **2. 필요 서류 및 준비물:**\n",
      "    *   신분증 (주민등록증 또는 운전면허증)\n",
      "    *   본인 명의 휴대폰\n",
      "    *   기존 계좌 정보 (타 은행 계좌)\n",
      "    *   공동인증서 (일부 은행)\n",
      "*   **3. 비대면 계좌 개설 절차:**\n",
      "    *   은행 앱 또는 웹사이트 접속\n",
      "    *   계좌 개설 메뉴 선택\n",
      "    *   본인 인증 (휴대폰, 신분증 촬영, 기존 계좌 인증 등)\n",
      "    *   계좌 정보 입력 (계좌 종류, 비밀번호, 거래 목적 등)\n",
      "    *   약관 동의\n",
      "    *   개설 완료\n",
      "*   **주의사항:**\n",
      "    *   신분증 진위 여부 확인 (위조 시 법적 처벌)\n",
      "    *   본인 명의 휴대폰 사용\n",
      "    *   계좌 비밀번호 및 보안 카드 정보 안전 관리\n",
      "*   **예시:** 카카오뱅크 앱에서 \"계좌 개설\" 메뉴 이용\n",
      "\n",
      "더 궁금한 점이 있으시면 언제든지 질문해주세요!\n"
     ]
    }
   ],
   "source": [
    "# 이전 대화내용을 불렛포인트로 정리해 달라는 요청을 보냅니다.\n",
    "response = conversation.predict(\n",
    "    input=\"이전 답변을 불렛포인트 형식으로 정리하여 알려주세요.\"\n",
    ")\n",
    "print(response)\n"
   ]
  },
  {
   "cell_type": "markdown",
   "id": "4165e5a3",
   "metadata": {},
   "source": [
    "### ConversationBufferWindowMemory\n",
    "* 해당 메모리는 시간이 지남에 따라 대화의 컨텍스트 유지함\n",
    "* 모든 대화내용을 활용하는 것이 아닌 최근 `K`개의 컨텍스트만 사용함\n",
    "* 버퍼의 크기를 줄일수 있고, 가장 최근 컨텍스트 윈도우를 유지할 수 있음"
   ]
  },
  {
   "cell_type": "code",
   "execution_count": 39,
   "id": "ffbb249f",
   "metadata": {},
   "outputs": [
    {
     "name": "stderr",
     "output_type": "stream",
     "text": [
      "/tmp/ipykernel_5635/3783241127.py:3: LangChainDeprecationWarning: Please see the migration guide at: https://python.langchain.com/docs/versions/migrating_memory/\n",
      "  memory = ConversationBufferWindowMemory(k=3, return_messages=True)\n"
     ]
    }
   ],
   "source": [
    "from langchain.memory import ConversationBufferWindowMemory\n",
    "\n",
    "memory = ConversationBufferWindowMemory(k=3, return_messages=True)\n",
    "\n",
    "memory.save_context(\n",
    "    inputs={\n",
    "        \"human\": \"안녕하세요, 비대면으로 은행 계좌를 개설하고 싶습니다. 어떻게 시작해야 하나요?\"\n",
    "    },\n",
    "    outputs={\n",
    "        \"ai\": \"안녕하세요! 계좌 개설을 원하신다니 기쁩니다. 먼저, 본인 인증을 위해 신분증을 준비해 주시겠어요?\"\n",
    "    },\n",
    ")\n",
    "memory.save_context(\n",
    "    inputs={\"human\": \"네, 신분증을 준비했습니다. 이제 무엇을 해야 하나요?\"},\n",
    "    outputs={\n",
    "        \"ai\": \"감사합니다. 신분증 앞뒤를 명확하게 촬영하여 업로드해 주세요. 이후 본인 인증 절차를 진행하겠습니다.\"\n",
    "    },\n",
    ")\n",
    "memory.save_context(\n",
    "    inputs={\"human\": \"사진을 업로드했습니다. 본인 인증은 어떻게 진행되나요?\"},\n",
    "    outputs={\n",
    "        \"ai\": \"업로드해 주신 사진을 확인했습니다. 이제 휴대폰을 통한 본인 인증을 진행해 주세요. 문자로 발송된 인증번호를 입력해 주시면 됩니다.\"\n",
    "    },\n",
    ")\n",
    "memory.save_context(\n",
    "    inputs={\"human\": \"인증번호를 입력했습니다. 계좌 개설은 이제 어떻게 하나요?\"},\n",
    "    outputs={\n",
    "        \"ai\": \"본인 인증이 완료되었습니다. 이제 원하시는 계좌 종류를 선택하고 필요한 정보를 입력해 주세요. 예금 종류, 통화 종류 등을 선택할 수 있습니다.\"\n",
    "    },\n",
    ")\n",
    "memory.save_context(\n",
    "    inputs={\"human\": \"정보를 모두 입력했습니다. 다음 단계는 무엇인가요?\"},\n",
    "    outputs={\n",
    "        \"ai\": \"입력해 주신 정보를 확인했습니다. 계좌 개설 절차가 거의 끝났습니다. 마지막으로 이용 약관에 동의해 주시고, 계좌 개설을 최종 확인해 주세요.\"\n",
    "    },\n",
    ")\n",
    "memory.save_context(\n",
    "    inputs={\"human\": \"모든 절차를 완료했습니다. 계좌가 개설된 건가요?\"},\n",
    "    outputs={\n",
    "        \"ai\": \"네, 계좌 개설이 완료되었습니다. 고객님의 계좌 번호와 관련 정보는 등록하신 이메일로 발송되었습니다. 추가적인 도움이 필요하시면 언제든지 문의해 주세요. 감사합니다!\"\n",
    "    },\n",
    ")\n"
   ]
  },
  {
   "cell_type": "code",
   "execution_count": 40,
   "id": "76c4a861",
   "metadata": {},
   "outputs": [
    {
     "data": {
      "text/plain": [
       "[HumanMessage(content='인증번호를 입력했습니다. 계좌 개설은 이제 어떻게 하나요?', additional_kwargs={}, response_metadata={}),\n",
       " AIMessage(content='본인 인증이 완료되었습니다. 이제 원하시는 계좌 종류를 선택하고 필요한 정보를 입력해 주세요. 예금 종류, 통화 종류 등을 선택할 수 있습니다.', additional_kwargs={}, response_metadata={}),\n",
       " HumanMessage(content='정보를 모두 입력했습니다. 다음 단계는 무엇인가요?', additional_kwargs={}, response_metadata={}),\n",
       " AIMessage(content='입력해 주신 정보를 확인했습니다. 계좌 개설 절차가 거의 끝났습니다. 마지막으로 이용 약관에 동의해 주시고, 계좌 개설을 최종 확인해 주세요.', additional_kwargs={}, response_metadata={}),\n",
       " HumanMessage(content='모든 절차를 완료했습니다. 계좌가 개설된 건가요?', additional_kwargs={}, response_metadata={}),\n",
       " AIMessage(content='네, 계좌 개설이 완료되었습니다. 고객님의 계좌 번호와 관련 정보는 등록하신 이메일로 발송되었습니다. 추가적인 도움이 필요하시면 언제든지 문의해 주세요. 감사합니다!', additional_kwargs={}, response_metadata={})]"
      ]
     },
     "execution_count": 40,
     "metadata": {},
     "output_type": "execute_result"
    }
   ],
   "source": [
    "# 대화 기록을 확인합니다\n",
    "# 앞서 지정한 3개의 대화만 유지하는 것을 확인할 수 있음\n",
    "memory.load_memory_variables({})[\"history\"]\n"
   ]
  },
  {
   "cell_type": "markdown",
   "id": "744da70c",
   "metadata": {},
   "source": [
    "## ConversationTokenBufferMemory\n",
    "* 최근 대화의 히스토리를 메모비 버퍼에 관리함\n",
    "* 대화 갯수가 아닌 토큰 길이를 기준으로 컨텍스트 정리\n",
    "---\n",
    "`2025-08-19` 시점으로 LangGraph와 통합 작업 진행중임\n",
    "```bash\n",
    "    LangChainDeprecationWarning: Please see the migration guide at: https://python.langchain.com/docs/versions/migrating_memory/\n",
    "```"
   ]
  },
  {
   "cell_type": "code",
   "execution_count": 43,
   "id": "39d8b1eb",
   "metadata": {},
   "outputs": [],
   "source": [
    "from langchain.memory import ConversationTokenBufferMemory\n",
    "memory = ConversationTokenBufferMemory(\n",
    "    llm=llm, max_token_limit=1000, return_messages=True  # 최대 토큰 길이를 150개로 제한\n",
    ")"
   ]
  },
  {
   "cell_type": "code",
   "execution_count": 44,
   "id": "ed379856",
   "metadata": {},
   "outputs": [],
   "source": [
    "memory.save_context(\n",
    "    inputs={\n",
    "        \"human\": \"안녕하세요, 저는 최근에 여러분 회사의 공작 기계를 구매했습니다. 설치 방법을 알려주실 수 있나요?\"\n",
    "    },\n",
    "    outputs={\n",
    "        \"ai\": \"안녕하세요! 구매해 주셔서 감사합니다. 해당 기계 모델 번호를 알려주시겠어요?\"\n",
    "    },\n",
    ")\n",
    "memory.save_context(\n",
    "    inputs={\"human\": \"네, 모델 번호는 XG-200입니다.\"},\n",
    "    outputs={\n",
    "        \"ai\": \"감사합니다. XG-200 모델의 설치 안내를 도와드리겠습니다. 먼저, 설치할 장소의 전원 공급 상태를 확인해주세요. 기계는 220V 전원이 필요합니다.\"\n",
    "    },\n",
    ")\n",
    "memory.save_context(\n",
    "    inputs={\"human\": \"전원은 확인했습니다. 다음 단계는 무엇인가요?\"},\n",
    "    outputs={\n",
    "        \"ai\": \"좋습니다. 다음으로, 기계를 평평하고 안정된 바닥에 배치해 주세요. 이후, 제공된 사용자 매뉴얼에 따라 케이블 연결을 진행해 주시기 바랍니다.\"\n",
    "    },\n",
    ")\n",
    "memory.save_context(\n",
    "    inputs={\"human\": \"연결은 어떻게 하나요?\"},\n",
    "    outputs={\n",
    "        \"ai\": \"매뉴얼의 5페이지를 참조해 주세요. 케이블 연결에 관한 상세한 지침이 있습니다. 이 과정에서 어려움이 있으시면 추가적으로 도와드리겠습니다.\"\n",
    "    },\n",
    ")\n",
    "memory.save_context(\n",
    "    inputs={\"human\": \"설치가 완료되면 어떻게 해야 하나요?\"},\n",
    "    outputs={\n",
    "        \"ai\": \"설치가 완료되면, 전원을 켜고 초기 구동 테스트를 진행해 주시기 바랍니다. 테스트 절차는 매뉴얼의 10페이지에 설명되어 있습니다. 만약 기계에 이상이 있거나 추가적인 지원이 필요하시면 언제든지 연락 주시기 바랍니다.\"\n",
    "    },\n",
    ")\n",
    "memory.save_context(\n",
    "    inputs={\"human\": \"감사합니다, 도움이 많이 되었어요!\"},\n",
    "    outputs={\n",
    "        \"ai\": \"언제든지 도와드릴 준비가 되어 있습니다. 추가적인 질문이나 지원이 필요하시면 언제든지 문의해 주세요. 좋은 하루 되세요!\"\n",
    "    },\n",
    ")\n"
   ]
  },
  {
   "cell_type": "code",
   "execution_count": 45,
   "id": "f48b2304",
   "metadata": {},
   "outputs": [
    {
     "data": {
      "text/plain": [
       "[HumanMessage(content='안녕하세요, 저는 최근에 여러분 회사의 공작 기계를 구매했습니다. 설치 방법을 알려주실 수 있나요?', additional_kwargs={}, response_metadata={}),\n",
       " AIMessage(content='안녕하세요! 구매해 주셔서 감사합니다. 해당 기계 모델 번호를 알려주시겠어요?', additional_kwargs={}, response_metadata={}),\n",
       " HumanMessage(content='네, 모델 번호는 XG-200입니다.', additional_kwargs={}, response_metadata={}),\n",
       " AIMessage(content='감사합니다. XG-200 모델의 설치 안내를 도와드리겠습니다. 먼저, 설치할 장소의 전원 공급 상태를 확인해주세요. 기계는 220V 전원이 필요합니다.', additional_kwargs={}, response_metadata={}),\n",
       " HumanMessage(content='전원은 확인했습니다. 다음 단계는 무엇인가요?', additional_kwargs={}, response_metadata={}),\n",
       " AIMessage(content='좋습니다. 다음으로, 기계를 평평하고 안정된 바닥에 배치해 주세요. 이후, 제공된 사용자 매뉴얼에 따라 케이블 연결을 진행해 주시기 바랍니다.', additional_kwargs={}, response_metadata={}),\n",
       " HumanMessage(content='연결은 어떻게 하나요?', additional_kwargs={}, response_metadata={}),\n",
       " AIMessage(content='매뉴얼의 5페이지를 참조해 주세요. 케이블 연결에 관한 상세한 지침이 있습니다. 이 과정에서 어려움이 있으시면 추가적으로 도와드리겠습니다.', additional_kwargs={}, response_metadata={}),\n",
       " HumanMessage(content='설치가 완료되면 어떻게 해야 하나요?', additional_kwargs={}, response_metadata={}),\n",
       " AIMessage(content='설치가 완료되면, 전원을 켜고 초기 구동 테스트를 진행해 주시기 바랍니다. 테스트 절차는 매뉴얼의 10페이지에 설명되어 있습니다. 만약 기계에 이상이 있거나 추가적인 지원이 필요하시면 언제든지 연락 주시기 바랍니다.', additional_kwargs={}, response_metadata={}),\n",
       " HumanMessage(content='감사합니다, 도움이 많이 되었어요!', additional_kwargs={}, response_metadata={}),\n",
       " AIMessage(content='언제든지 도와드릴 준비가 되어 있습니다. 추가적인 질문이나 지원이 필요하시면 언제든지 문의해 주세요. 좋은 하루 되세요!', additional_kwargs={}, response_metadata={})]"
      ]
     },
     "execution_count": 45,
     "metadata": {},
     "output_type": "execute_result"
    }
   ],
   "source": [
    "# 대화내용을 확인합니다.\n",
    "memory.load_memory_variables({})[\"history\"]\n"
   ]
  },
  {
   "cell_type": "markdown",
   "id": "a294b2bb",
   "metadata": {},
   "source": [
    "## ConversationEntityMemory\n",
    "* 대화에서 특정한 엔티티에 주어진 사실만 기억함\n",
    "* LLM을 이용하에 엔티티에 대한 정보를 추출한 후, 시간이 지남에 때라 해당 엔티티에 대한 지식 축적함\n",
    "---\n",
    "```bash\n",
    "LangChainDeprecationWarning: Please see the migration guide at: https://python.langchain.com/docs/versions/migrating_memory/\n",
    "memory=ConversationEntityMemory(llm=llm),\n",
    "```"
   ]
  },
  {
   "cell_type": "code",
   "execution_count": 46,
   "id": "7022ea65",
   "metadata": {},
   "outputs": [],
   "source": [
    "from langchain.chains import ConversationChain\n",
    "from langchain.memory import ConversationEntityMemory\n",
    "from langchain.memory.prompt import ENTITY_MEMORY_CONVERSATION_TEMPLATE"
   ]
  },
  {
   "cell_type": "code",
   "execution_count": 49,
   "id": "6c267964",
   "metadata": {},
   "outputs": [],
   "source": [
    "# ConversationChain 을 생성합니다.\n",
    "conversation = ConversationChain(\n",
    "    llm=llm,\n",
    "    prompt=ENTITY_MEMORY_CONVERSATION_TEMPLATE,\n",
    "    memory=ConversationEntityMemory(llm=llm),\n",
    ")"
   ]
  },
  {
   "cell_type": "code",
   "execution_count": 50,
   "id": "e275e9ec",
   "metadata": {},
   "outputs": [
    {
     "data": {
      "text/plain": [
       "'정말 멋진 계획이네요! 테디와 셜리가 회사를 차리기로 결심했다니 응원하고 싶습니다. 혹시 어떤 종류의 회사를 차릴 계획인지, 그리고 제가 도울 수 있는 부분이 있을까요? 예를 들어, 사업 계획을 세우거나, 필요한 정보를 찾아보거나, 아니면 단순히 아이디어를 브레인스토밍하는 데 도움을 드릴 수도 있습니다.'"
      ]
     },
     "execution_count": 50,
     "metadata": {},
     "output_type": "execute_result"
    }
   ],
   "source": [
    "conversation.predict(\n",
    "    input=\"테디와 셜리는 한 회사에서 일하는 동료입니다.\"\n",
    "    \"테디는 개발자이고 셜리는 디자이너입니다. \"\n",
    "    \"그들은최근 회사에서 일하는 것을 그만두고 자신들의 회사를 차릴 계획을 세우고 있습니다.\"\n",
    ")\n"
   ]
  },
  {
   "cell_type": "code",
   "execution_count": 51,
   "id": "e2a34790",
   "metadata": {},
   "outputs": [
    {
     "data": {
      "text/plain": [
       "{'테디': '테디는 셜리와 같은 회사에서 일하는 개발자이다.', '셜리': '셜리는 테디와 같은 회사에서 일하는 디자이너이다.'}"
      ]
     },
     "execution_count": 51,
     "metadata": {},
     "output_type": "execute_result"
    }
   ],
   "source": [
    "# entity memory 를 출력합니다.\n",
    "conversation.memory.entity_store.store\n"
   ]
  },
  {
   "cell_type": "markdown",
   "id": "c95fcee1",
   "metadata": {},
   "source": [
    "## ConversationKGMemory\n",
    "* 지식 그래프를 활용하여 정보를 저장하고 불러옴\n",
    "* 이를 통해 LLM이 서로 다른 개체 간의 관계를 이해하는데, 도움을 주고 \n",
    "* 복잡한 연결망과 컨텍스트를 기반으로 대응하는 능력을 향상시킴"
   ]
  },
  {
   "cell_type": "code",
   "execution_count": 59,
   "id": "c1ee0f61",
   "metadata": {},
   "outputs": [],
   "source": [
    "from langchain.memory import ConversationKGMemory\n",
    "\n",
    "memory = ConversationKGMemory(llm=llm,return_messages=True)"
   ]
  },
  {
   "cell_type": "code",
   "execution_count": 60,
   "id": "9569a80a",
   "metadata": {},
   "outputs": [],
   "source": [
    "memory.save_context(\n",
    "    {\"input\": \"이쪽은 Pangyo 에 거주중인 김셜리씨 입니다.\"},\n",
    "    {\"output\": \"김셜리씨는 누구시죠?\"},\n",
    ")\n",
    "memory.save_context(\n",
    "    {\"input\": \"김셜리씨는 우리 회사의 신입 디자이너입니다.\"},\n",
    "    {\"output\": \"만나서 반갑습니다.\"},\n",
    ")\n"
   ]
  },
  {
   "cell_type": "code",
   "execution_count": 61,
   "id": "a56231e6",
   "metadata": {},
   "outputs": [
    {
     "data": {
      "text/plain": [
       "{'history': []}"
      ]
     },
     "execution_count": 61,
     "metadata": {},
     "output_type": "execute_result"
    }
   ],
   "source": [
    "memory.load_memory_variables({\"input\": \"김셜리씨는 누구입니까?\"})\n"
   ]
  },
  {
   "cell_type": "code",
   "execution_count": 62,
   "id": "ce978494",
   "metadata": {},
   "outputs": [],
   "source": [
    "from langchain.prompts.prompt import PromptTemplate\n",
    "from langchain.chains import ConversationChain\n",
    "\n",
    "template = \"\"\"The following is a friendly conversation between a human and an AI. \n",
    "The AI is talkative and provides lots of specific details from its context. \n",
    "If the AI does not know the answer to a question, it truthfully says it does not know. \n",
    "The AI ONLY uses information contained in the \"Relevant Information\" section and does not hallucinate.\n",
    "\n",
    "Relevant Information:\n",
    "\n",
    "{history}\n",
    "\n",
    "Conversation:\n",
    "Human: {input}\n",
    "AI:\"\"\"\n",
    "prompt = PromptTemplate(\n",
    "    input_variables=[\"history\", \"input\"], template=template)\n",
    "\n",
    "conversation_with_kg = ConversationChain(\n",
    "    llm=llm, prompt=prompt, memory=ConversationKGMemory(llm=llm)\n",
    ")\n"
   ]
  },
  {
   "cell_type": "code",
   "execution_count": 63,
   "id": "ace52c33",
   "metadata": {},
   "outputs": [
    {
     "data": {
      "text/plain": [
       "'Hello Teddy! It\\'s really nice to meet you. You\\'ve introduced yourself and mentioned Shirley, a new designer at your company, which is great to know!\\n\\nHowever, looking at the information I have available to me right now, I don\\'t seem to have any specific details or further context about your company, Shirley, or your work environment. My current knowledge is limited to the information provided in my \"Relevant Information\" section, and unfortunately, that section is empty at the moment. So, while I\\'d love to share more, I don\\'t have any specific details to offer about your situation. Is there anything else you\\'d like to tell me, or perhaps a different topic you\\'d like to discuss where I might have some information?'"
      ]
     },
     "execution_count": 63,
     "metadata": {},
     "output_type": "execute_result"
    }
   ],
   "source": [
    "conversation_with_kg.predict(\n",
    "    input=\"My name is Teddy. Shirley is a coworker of mine, and she's a new designer at our company.\"\n",
    ")\n"
   ]
  },
  {
   "cell_type": "code",
   "execution_count": 64,
   "id": "0333925d",
   "metadata": {},
   "outputs": [
    {
     "data": {
      "text/plain": [
       "{'history': \"On Shirley: Shirley is a coworker of Human. Shirley is a new designer at Human's company.\"}"
      ]
     },
     "execution_count": 64,
     "metadata": {},
     "output_type": "execute_result"
    }
   ],
   "source": [
    "# Shirley 에 대한 질문\n",
    "conversation_with_kg.memory.load_memory_variables({\"input\": \"who is Shirley?\"})\n"
   ]
  },
  {
   "cell_type": "markdown",
   "id": "b1188490",
   "metadata": {},
   "source": [
    "## ConversationSummaryMemory\n",
    "* 시간 경과에 따른 대화의 요약을 생성함\n",
    "  * 시간 경과에 따른 대화의 정보를 압축할 수 있음\n",
    "* 대화가 진행되는 동안 대화를 요약하고 현재 요약을 메모리제 저장함\n",
    "  * 이 메모리를 사용하여 지금까지의 대화 요약을 프롬프트 체인에 삽입할 수 있음\n",
    "* 대화의 길이가 긴 경우 가장 유용함\n",
    "---\n",
    "```bash\n",
    "LangChainDeprecationWarning: Please see the migration guide at: https://python.langchain.com/docs/versions/migrating_memory/\n",
    "  summary_memory = ConversationSummaryMemory(llm=llm,return_messages=True)\n",
    "```"
   ]
  },
  {
   "cell_type": "code",
   "execution_count": 66,
   "id": "96847ff7",
   "metadata": {},
   "outputs": [
    {
     "name": "stderr",
     "output_type": "stream",
     "text": [
      "/tmp/ipykernel_5635/990610557.py:3: LangChainDeprecationWarning: Please see the migration guide at: https://python.langchain.com/docs/versions/migrating_memory/\n",
      "  summary_memory = ConversationSummaryMemory(llm=llm,return_messages=True)\n"
     ]
    }
   ],
   "source": [
    "from langchain.memory import ConversationSummaryMemory\n",
    "\n",
    "summary_memory = ConversationSummaryMemory(llm=llm,return_messages=True)"
   ]
  },
  {
   "cell_type": "code",
   "execution_count": 68,
   "id": "810a8882",
   "metadata": {},
   "outputs": [],
   "source": [
    "# save serval conversations\n",
    "summary_memory.save_context(\n",
    "    inputs={\"human\": \"유럽 여행 패키지의 가격은 얼마인가요?\"},\n",
    "    outputs={\n",
    "        \"ai\": \"유럽 14박 15일 패키지의 기본 가격은 3,500유로입니다. 이 가격에는 항공료, 호텔 숙박비, 지정된 관광지 입장료가 포함되어 있습니다. 추가 비용은 선택하신 옵션 투어나 개인 경비에 따라 달라집니다.\"\n",
    "    },\n",
    ")\n",
    "summary_memory.save_context(\n",
    "    inputs={\"human\": \"여행 중에 방문할 주요 관광지는 어디인가요?\"},\n",
    "    outputs={\n",
    "        \"ai\": \"이 여행에서는 파리의 에펠탑, 로마의 콜로세움, 베를린의 브란덴부르크 문, 취리히의 라이네폴 등 유럽의 유명한 관광지들을 방문합니다. 각 도시의 대표적인 명소들을 포괄적으로 경험하실 수 있습니다.\"\n",
    "    },\n",
    ")\n",
    "summary_memory.save_context(\n",
    "    inputs={\"human\": \"여행자 보험은 포함되어 있나요?\"},\n",
    "    outputs={\n",
    "        \"ai\": \"네, 모든 여행자에게 기본 여행자 보험을 제공합니다. 이 보험은 의료비 지원, 긴급 상황 발생 시 지원 등을 포함합니다. 추가적인 보험 보장을 원하시면 상향 조정이 가능합니다.\"\n",
    "    },\n",
    ")\n",
    "summary_memory.save_context(\n",
    "    inputs={\n",
    "        \"human\": \"항공편 좌석을 비즈니스 클래스로 업그레이드할 수 있나요? 비용은 어떻게 되나요?\"\n",
    "    },\n",
    "    outputs={\n",
    "        \"ai\": \"항공편 좌석을 비즈니스 클래스로 업그레이드하는 것이 가능합니다. 업그레이드 비용은 왕복 기준으로 약 1,200유로 추가됩니다. 비즈니스 클래스에서는 더 넓은 좌석, 우수한 기내식, 그리고 추가 수하물 허용량 등의 혜택을 제공합니다.\"\n",
    "    },\n",
    ")\n",
    "summary_memory.save_context(\n",
    "    inputs={\"human\": \"패키지에 포함된 호텔의 등급은 어떻게 되나요?\"},\n",
    "    outputs={\n",
    "        \"ai\": \"이 패키지에는 4성급 호텔 숙박이 포함되어 있습니다. 각 호텔은 편안함과 편의성을 제공하며, 중심지에 위치해 관광지와의 접근성이 좋습니다. 모든 호텔은 우수한 서비스와 편의 시설을 갖추고 있습니다.\"\n",
    "    },\n",
    ")\n",
    "summary_memory.save_context(\n",
    "    inputs={\"human\": \"식사 옵션에 대해 더 자세히 알려주실 수 있나요?\"},\n",
    "    outputs={\n",
    "        \"ai\": \"이 여행 패키지는 매일 아침 호텔에서 제공되는 조식을 포함하고 있습니다. 점심과 저녁 식사는 포함되어 있지 않아, 여행자가 자유롭게 현지의 다양한 음식을 경험할 수 있는 기회를 제공합니다. 또한, 각 도시별로 추천 식당 리스트를 제공하여 현지의 맛을 최대한 즐길 수 있도록 도와드립니다.\"\n",
    "    },\n",
    ")\n",
    "summary_memory.save_context(\n",
    "    inputs={\"human\": \"패키지 예약 시 예약금은 얼마인가요? 취소 정책은 어떻게 되나요?\"},\n",
    "    outputs={\n",
    "        \"ai\": \"패키지 예약 시 500유로의 예약금이 필요합니다. 취소 정책은 예약일로부터 30일 전까지는 전액 환불이 가능하며, 이후 취소 시에는 예약금이 환불되지 않습니다. 여행 시작일로부터 14일 전 취소 시 50%의 비용이 청구되며, 그 이후는 전액 비용이 청구됩니다.\"\n",
    "    },\n",
    ")\n"
   ]
  },
  {
   "cell_type": "code",
   "execution_count": 69,
   "id": "4e2c5e43",
   "metadata": {},
   "outputs": [
    {
     "name": "stdout",
     "output_type": "stream",
     "text": [
      "[SystemMessage(content=\"The human asks about the price of a European travel package. The AI says a 14-night, 15-day European package costs 3,500 euros, including airfare, hotel, and some attractions. Additional costs depend on optional tours and personal expenses. The human then asks about the major tourist attractions to visit during the trip. The AI responds that the tour visits famous European landmarks such as the Eiffel Tower in Paris, the Colosseum in Rome, the Brandenburg Gate in Berlin, and the Rhine Falls in Zurich, offering a comprehensive experience of each city's iconic sights. The human asks if traveler's insurance is included. The AI confirms that basic traveler's insurance is included for all travelers, covering medical expenses and emergency support, with the option to upgrade for additional coverage. The human asks if they can upgrade their flight seats to business class and how much it would cost. The AI says upgrading to business class is possible for an additional 1,200 euros round trip, which includes benefits like wider seats, better in-flight meals, and extra baggage allowance. The human asks about the hotel rating included in the package. The AI responds that the package includes 4-star hotel accommodations, offering comfort, convenience, central locations, excellent service, and amenities. The human asks for more details about the meal options. The AI responds that the travel package includes daily breakfast at the hotel, but lunch and dinner are not included, allowing travelers to freely experience local cuisine. The AI also provides a list of recommended restaurants in each city to help travelers enjoy local flavors. The human asks about the deposit required to book the package and the cancellation policy. The AI responds that a 500 euro deposit is required, with a full refund available for cancellations made 30 days before the booking date. Cancellations after that forfeit the deposit. Cancellations 14 days before the trip incur a 50% charge, and later cancellations are charged the full amount.\", additional_kwargs={}, response_metadata={})]\n"
     ]
    }
   ],
   "source": [
    "# 저장된 메모리 확인\n",
    "print(summary_memory.load_memory_variables({})[\"history\"])\n"
   ]
  },
  {
   "cell_type": "markdown",
   "id": "8e3aa0f3",
   "metadata": {},
   "source": [
    "### ConversationSummaryBufferMemory\n",
    "* 최근 대화내용의 버퍼를 메모리에 유지하되, 이전 대화내용을 완전히 지우지 않음\n",
    "* 이전대화 내용을 요약으로 컴파일하여 두가지 모두 사용할 수 있음\n",
    "* 비울 시기를 결정하기 위해 토큰 길이를 사용함\n",
    "\n",
    "---\n",
    "```bash\n",
    "LangChainDeprecationWarning: Please see the migration guide at: https://python.langchain.com/docs/versions/migrating_memory/\n",
    "  memory = ConversationSummaryBufferMemory(\n",
    "```"
   ]
  },
  {
   "cell_type": "code",
   "execution_count": 80,
   "id": "86bc7390",
   "metadata": {},
   "outputs": [],
   "source": [
    "from langchain.memory import ConversationSummaryBufferMemory\n",
    "memory = ConversationSummaryBufferMemory(\n",
    "    llm=llm,\n",
    "    max_token_limit=200,\n",
    "    return_messages=True,\n",
    ")"
   ]
  },
  {
   "cell_type": "code",
   "execution_count": 81,
   "id": "4d53188a",
   "metadata": {},
   "outputs": [],
   "source": [
    "memory.save_context(\n",
    "    inputs={\"human\": \"유럽 여행 패키지의 가격은 얼마인가요?\"},\n",
    "    outputs={\n",
    "        \"ai\": \"유럽 14박 15일 패키지의 기본 가격은 3,500유로입니다. 이 가격에는 항공료, 호텔 숙박비, 지정된 관광지 입장료가 포함되어 있습니다. 추가 비용은 선택하신 옵션 투어나 개인 경비에 따라 달라집니다.\"\n",
    "    },\n",
    ")\n"
   ]
  },
  {
   "cell_type": "code",
   "execution_count": 82,
   "id": "bdc73c12",
   "metadata": {},
   "outputs": [
    {
     "data": {
      "text/plain": [
       "[HumanMessage(content='유럽 여행 패키지의 가격은 얼마인가요?', additional_kwargs={}, response_metadata={}),\n",
       " AIMessage(content='유럽 14박 15일 패키지의 기본 가격은 3,500유로입니다. 이 가격에는 항공료, 호텔 숙박비, 지정된 관광지 입장료가 포함되어 있습니다. 추가 비용은 선택하신 옵션 투어나 개인 경비에 따라 달라집니다.', additional_kwargs={}, response_metadata={})]"
      ]
     },
     "execution_count": 82,
     "metadata": {},
     "output_type": "execute_result"
    }
   ],
   "source": [
    "# 메모리에 저장된 대화내용 확인\n",
    "# 1000토큰을 넘기지 않았기 때문에, 요약하지 않음\n",
    "memory.load_memory_variables({})[\"history\"]\n"
   ]
  },
  {
   "cell_type": "code",
   "execution_count": 83,
   "id": "667d9e13",
   "metadata": {},
   "outputs": [],
   "source": [
    "memory.save_context(\n",
    "    inputs={\"human\": \"여행 중에 방문할 주요 관광지는 어디인가요?\"},\n",
    "    outputs={\n",
    "        \"ai\": \"이 여행에서는 파리의 에펠탑, 로마의 콜로세움, 베를린의 브란덴부르크 문, 취리히의 라이네폴 등 유럽의 유명한 관광지들을 방문합니다. 각 도시의 대표적인 명소들을 포괄적으로 경험하실 수 있습니다.\"\n",
    "    },\n",
    ")\n",
    "memory.save_context(\n",
    "    inputs={\"human\": \"여행자 보험은 포함되어 있나요?\"},\n",
    "    outputs={\n",
    "        \"ai\": \"네, 모든 여행자에게 기본 여행자 보험을 제공합니다. 이 보험은 의료비 지원, 긴급 상황 발생 시 지원 등을 포함합니다. 추가적인 보험 보장을 원하시면 상향 조정이 가능합니다.\"\n",
    "    },\n",
    ")\n",
    "memory.save_context(\n",
    "    inputs={\n",
    "        \"human\": \"항공편 좌석을 비즈니스 클래스로 업그레이드할 수 있나요? 비용은 어떻게 되나요?\"\n",
    "    },\n",
    "    outputs={\n",
    "        \"ai\": \"항공편 좌석을 비즈니스 클래스로 업그레이드하는 것이 가능합니다. 업그레이드 비용은 왕복 기준으로 약 1,200유로 추가됩니다. 비즈니스 클래스에서는 더 넓은 좌석, 우수한 기내식, 그리고 추가 수하물 허용량 등의 혜택을 제공합니다.\"\n",
    "    },\n",
    ")\n",
    "memory.save_context(\n",
    "    inputs={\"human\": \"패키지에 포함된 호텔의 등급은 어떻게 되나요?\"},\n",
    "    outputs={\n",
    "        \"ai\": \"이 패키지에는 4성급 호텔 숙박이 포함되어 있습니다. 각 호텔은 편안함과 편의성을 제공하며, 중심지에 위치해 관광지와의 접근성이 좋습니다. 모든 호텔은 우수한 서비스와 편의 시설을 갖추고 있습니다.\"\n",
    "    },\n",
    ")\n"
   ]
  },
  {
   "cell_type": "code",
   "execution_count": 84,
   "id": "24d29cf3",
   "metadata": {},
   "outputs": [
    {
     "data": {
      "text/plain": [
       "[SystemMessage(content=\"The human asks about the price of a European travel package. The AI responds that the base price for a 14-night, 15-day European package is 3,500 euros, including airfare, hotel, and entrance fees to designated tourist attractions. Additional costs depend on optional tours and personal expenses. The human then asks about the major tourist attractions included in the trip. The AI responds that the trip includes famous European landmarks such as the Eiffel Tower in Paris, the Colosseum in Rome, the Brandenburg Gate in Berlin, and the Rhine Falls in Zurich, offering a comprehensive experience of each city's highlights. The human asks if travel insurance is included. The AI confirms that basic travel insurance is included for all travelers, covering medical expenses and emergency support, with the option to upgrade for additional coverage.\", additional_kwargs={}, response_metadata={}),\n",
       " HumanMessage(content='항공편 좌석을 비즈니스 클래스로 업그레이드할 수 있나요? 비용은 어떻게 되나요?', additional_kwargs={}, response_metadata={}),\n",
       " AIMessage(content='항공편 좌석을 비즈니스 클래스로 업그레이드하는 것이 가능합니다. 업그레이드 비용은 왕복 기준으로 약 1,200유로 추가됩니다. 비즈니스 클래스에서는 더 넓은 좌석, 우수한 기내식, 그리고 추가 수하물 허용량 등의 혜택을 제공합니다.', additional_kwargs={}, response_metadata={}),\n",
       " HumanMessage(content='패키지에 포함된 호텔의 등급은 어떻게 되나요?', additional_kwargs={}, response_metadata={}),\n",
       " AIMessage(content='이 패키지에는 4성급 호텔 숙박이 포함되어 있습니다. 각 호텔은 편안함과 편의성을 제공하며, 중심지에 위치해 관광지와의 접근성이 좋습니다. 모든 호텔은 우수한 서비스와 편의 시설을 갖추고 있습니다.', additional_kwargs={}, response_metadata={})]"
      ]
     },
     "execution_count": 84,
     "metadata": {},
     "output_type": "execute_result"
    }
   ],
   "source": [
    "# 메모리에 저장된 대화내용 확인\n",
    "memory.load_memory_variables({})[\"history\"]\n"
   ]
  },
  {
   "cell_type": "markdown",
   "id": "37393ffa",
   "metadata": {},
   "source": [
    "## VectorStoreRetrieverMemory\n",
    "* 벡터 스토어에 메모리즐 저장하고 호출될 때마다 가장 눈에 띄는 상위 K개의 문서를 쿼리함"
   ]
  },
  {
   "cell_type": "code",
   "execution_count": 116,
   "id": "57b99865",
   "metadata": {},
   "outputs": [],
   "source": [
    "import faiss\n",
    "from langchain.docstore import InMemoryDocstore\n",
    "from langchain.vectorstores import FAISS\n",
    "from langchain_google_genai import GoogleGenerativeAIEmbeddings\n",
    "embedding_size=3072\n",
    "# 임베딩 모델을 정의합니다.\n",
    "embeddings_model = GoogleGenerativeAIEmbeddings(\n",
    "    model=\"gemini-embedding-001\",\n",
    ")\n",
    "\n",
    "# Vector Store 를 초기화 합니다.\n",
    "index = faiss.IndexFlatL2(embedding_size)\n",
    "vectorstore = FAISS(embeddings_model, index, InMemoryDocstore({}), {})\n"
   ]
  },
  {
   "cell_type": "code",
   "execution_count": 117,
   "id": "28bed120",
   "metadata": {},
   "outputs": [],
   "source": [
    "from langchain.memory import VectorStoreRetrieverMemory\n",
    "\n",
    "# 벡터 조회가 여전히 의미적으로 관련성 있는 정보를 반환한다는 것을 보여주기 위해서입니다.\n",
    "retriever = vectorstore.as_retriever(search_kwargs={\"k\": 1})\n",
    "memory = VectorStoreRetrieverMemory(retriever=retriever)\n"
   ]
  },
  {
   "cell_type": "code",
   "execution_count": 118,
   "id": "5388c438",
   "metadata": {},
   "outputs": [],
   "source": [
    "# 임의의 대화를 저장합니다.\n",
    "memory.save_context(\n",
    "    inputs={\n",
    "        \"human\": \"안녕하세요, 오늘 면접에 참석해주셔서 감사합니다. 자기소개 부탁드립니다.\"\n",
    "    },\n",
    "    outputs={\n",
    "        \"ai\": \"안녕하세요. 저는 컴퓨터 과학을 전공한 신입 개발자입니다. 대학에서는 주로 자바와 파이썬을 사용했으며, 최근에는 웹 개발 프로젝트에 참여하여 실제 사용자를 위한 서비스를 개발하는 경험을 했습니다.\"\n",
    "    },\n",
    ")\n",
    "memory.save_context(\n",
    "    inputs={\"human\": \"프로젝트에서 어떤 역할을 맡았나요?\"},\n",
    "    outputs={\n",
    "        \"ai\": \"제가 맡은 역할은 백엔드 개발자였습니다. 사용자 데이터 처리와 서버 로직 개발을 담당했으며, RESTful API를 구현하여 프론트엔드와의 통신을 담당했습니다. 또한, 데이터베이스 설계에도 참여했습니다.\"\n",
    "    },\n",
    ")\n",
    "memory.save_context(\n",
    "    inputs={\n",
    "        \"human\": \"팀 프로젝트에서 어려움을 겪었던 경험이 있다면 어떻게 해결했나요?\"\n",
    "    },\n",
    "    outputs={\n",
    "        \"ai\": \"프로젝트 초기에 의사소통 문제로 몇 가지 어려움이 있었습니다. 이를 해결하기 위해 저희 팀은 정기적인 미팅을 갖고 각자의 진행 상황을 공유했습니다. 또한, 문제가 발생했을 때는 적극적으로 의견을 나누고, 합리적인 해결책을 찾기 위해 노력했습니다.\"\n",
    "    },\n",
    ")\n",
    "memory.save_context(\n",
    "    inputs={\"human\": \"개발자로서 자신의 강점은 무엇이라고 생각하나요?\"},\n",
    "    outputs={\n",
    "        \"ai\": \"제 강점은 빠른 학습 능력과 문제 해결 능력입니다. 새로운 기술이나 도구를 빠르게 습득할 수 있으며, 복잡한 문제에 직면했을 때 창의적인 해결책을 제시할 수 있습니다. 또한, 팀워크를 중시하며 동료들과 협력하는 것을 중요하게 생각합니다.\"\n",
    "    },\n",
    ")"
   ]
  },
  {
   "cell_type": "code",
   "execution_count": 119,
   "id": "155eb6db",
   "metadata": {},
   "outputs": [
    {
     "name": "stdout",
     "output_type": "stream",
     "text": [
      "human: 안녕하세요, 오늘 면접에 참석해주셔서 감사합니다. 자기소개 부탁드립니다.\n",
      "ai: 안녕하세요. 저는 컴퓨터 과학을 전공한 신입 개발자입니다. 대학에서는 주로 자바와 파이썬을 사용했으며, 최근에는 웹 개발 프로젝트에 참여하여 실제 사용자를 위한 서비스를 개발하는 경험을 했습니다.\n"
     ]
    }
   ],
   "source": [
    "# 메모리에 질문을 통해 가장 연관성 높은 1개 대화를 추출합니다.\n",
    "print(memory.load_memory_variables({\"prompt\": \"면접자 전공은 무엇인가요?\"})[\"history\"])\n"
   ]
  },
  {
   "cell_type": "code",
   "execution_count": 120,
   "id": "23e60712",
   "metadata": {},
   "outputs": [
    {
     "name": "stdout",
     "output_type": "stream",
     "text": [
      "human: 프로젝트에서 어떤 역할을 맡았나요?\n",
      "ai: 제가 맡은 역할은 백엔드 개발자였습니다. 사용자 데이터 처리와 서버 로직 개발을 담당했으며, RESTful API를 구현하여 프론트엔드와의 통신을 담당했습니다. 또한, 데이터베이스 설계에도 참여했습니다.\n"
     ]
    }
   ],
   "source": [
    "print(\n",
    "    memory.load_memory_variables(\n",
    "        {\"human\": \"면접자가 프로젝트에서 맡은 역할은 무엇인가요?\"}\n",
    "    )[\"history\"]\n",
    ")\n"
   ]
  },
  {
   "cell_type": "markdown",
   "id": "023f2ee2",
   "metadata": {},
   "source": [
    "## Add On LECL chain\n",
    "* 임의로 구성한 체인에 메모리를 추가하는 방법"
   ]
  },
  {
   "cell_type": "code",
   "execution_count": 121,
   "id": "9039df4b",
   "metadata": {},
   "outputs": [],
   "source": [
    "from operator import itemgetter\n",
    "from langchain.memory import ConversationBufferMemory\n",
    "from langchain_core.prompts import ChatPromptTemplate, MessagesPlaceholder\n",
    "from langchain_core.runnables import RunnableLambda, RunnablePassthrough\n",
    "\n",
    "\n",
    "\n",
    "# 대화형 프롬프트를 생성합니다. 이 프롬프트는 시스템 메시지, 이전 대화 내역, 그리고 사용자 입력을 포함합니다.\n",
    "prompt = ChatPromptTemplate.from_messages(\n",
    "    [\n",
    "        (\"system\", \"You are a helpful chatbot\"),\n",
    "        MessagesPlaceholder(variable_name=\"chat_history\"),\n",
    "        (\"human\", \"{input}\"),\n",
    "    ]\n",
    ")\n"
   ]
  },
  {
   "cell_type": "code",
   "execution_count": 122,
   "id": "14307e7d",
   "metadata": {},
   "outputs": [],
   "source": [
    "# 대화 버퍼 메모리를 생성하고, 메시지 반환 기능을 활성화합니다.\n",
    "memory = ConversationBufferMemory(return_messages=True, memory_key=\"chat_history\")\n"
   ]
  },
  {
   "cell_type": "code",
   "execution_count": 125,
   "id": "629253f2",
   "metadata": {},
   "outputs": [],
   "source": [
    "from operator import itemgetter\n",
    "from langchain.memory import ConversationBufferMemory, ConversationSummaryMemory\n",
    "from langchain_core.prompts import ChatPromptTemplate, MessagesPlaceholder\n",
    "from langchain_core.runnables import RunnableLambda, RunnablePassthrough, Runnable\n",
    "from langchain_core.output_parsers import StrOutputParser\n",
    "class MyConversationChain(Runnable):\n",
    "\n",
    "    def __init__(self, llm, prompt, memory, input_key=\"input\"):\n",
    "\n",
    "        self.prompt = prompt\n",
    "        self.memory = memory\n",
    "        self.input_key = input_key\n",
    "\n",
    "        self.chain = (\n",
    "            RunnablePassthrough.assign(\n",
    "                chat_history=RunnableLambda(self.memory.load_memory_variables)\n",
    "                | itemgetter(memory.memory_key)  # memory_key 와 동일하게 입력합니다.\n",
    "            )\n",
    "            | prompt\n",
    "            | llm\n",
    "            | StrOutputParser()\n",
    "        )\n",
    "\n",
    "    def invoke(self, query, configs=None, **kwargs):\n",
    "        answer = self.chain.invoke({self.input_key: query})\n",
    "        self.memory.save_context(inputs={\"human\": query}, outputs={\"ai\": answer})\n",
    "        return answer\n"
   ]
  },
  {
   "cell_type": "code",
   "execution_count": 126,
   "id": "fff82a07",
   "metadata": {},
   "outputs": [],
   "source": [
    "# 대화형 프롬프트를 생성합니다. 이 프롬프트는 시스템 메시지, 이전 대화 내역, 그리고 사용자 입력을 포함합니다.\n",
    "prompt = ChatPromptTemplate.from_messages(\n",
    "    [\n",
    "        (\"system\", \"You are a helpful chatbot\"),\n",
    "        MessagesPlaceholder(variable_name=\"chat_history\"),\n",
    "        (\"human\", \"{input}\"),\n",
    "    ]\n",
    ")\n",
    "\n",
    "# 대화 버퍼 메모리를 생성하고, 메시지 반환 기능을 활성화합니다.\n",
    "memory = ConversationBufferMemory(return_messages=True, memory_key=\"chat_history\")\n",
    "\n",
    "# 요약 메모리로 교체할 경우\n",
    "# memory = ConversationSummaryMemory(\n",
    "#     llm=llm, return_messages=True, memory_key=\"chat_history\"\n",
    "# )\n",
    "\n",
    "conversation_chain = MyConversationChain(llm, prompt, memory)"
   ]
  },
  {
   "cell_type": "code",
   "execution_count": 128,
   "id": "a8693c69",
   "metadata": {},
   "outputs": [
    {
     "data": {
      "text/plain": [
       "'안녕하세요, 청운님! 만나서 반갑습니다. 무엇을 도와드릴까요? 궁금한 점이나 필요한 정보가 있으시면 언제든지 말씀해주세요. 😊'"
      ]
     },
     "execution_count": 128,
     "metadata": {},
     "output_type": "execute_result"
    }
   ],
   "source": [
    "conversation_chain.invoke(\"안녕하세요? 만나서 반갑습니다. 제 이름은 청운 입니다.\")\n"
   ]
  },
  {
   "cell_type": "code",
   "execution_count": 129,
   "id": "509c7007",
   "metadata": {},
   "outputs": [
    {
     "data": {
      "text/plain": [
       "'청운님, 맞습니다! 당신의 이름은 청운입니다. 😊'"
      ]
     },
     "execution_count": 129,
     "metadata": {},
     "output_type": "execute_result"
    }
   ],
   "source": [
    "conversation_chain.invoke(\"제 이름이 무엇인지 다시 한번 말해주세요.\")"
   ]
  },
  {
   "cell_type": "code",
   "execution_count": 130,
   "id": "f55ec4a2",
   "metadata": {},
   "outputs": [
    {
     "data": {
      "text/plain": [
       "'청운님의 한국 이름 \"청운\"을 기반으로 영어 이름을 추천해 드릴게요. 몇 가지 옵션이 있습니다:\\n\\n1.  **Cheong:** \"청\"을 그대로 음역한 이름입니다. 발음하기도 쉽고, 한국 이름과의 연관성을 유지할 수 있습니다.\\n2.  **Sky:** \"청운\"이 푸른 하늘과 구름을 의미하므로, \"Sky\"라는 이름을 사용할 수 있습니다. 의미가 직접적으로 연결되어 기억하기 쉽습니다.\\n3.  **Cloud:** \"운\"이 구름을 의미하므로, \"Cloud\"라는 이름을 사용할 수 있습니다. Sky와 마찬가지로 의미를 살린 이름입니다.\\n4.  **Clay:** \"청\"과 발음이 비슷한 \"Clay\"를 사용할 수도 있습니다.\\n5.  **Sean:** \"청\"과 발음이 유사한 \"Sean\"도 고려해볼 수 있습니다.\\n\\n이 중에서 어떤 이름이 가장 마음에 드시나요? 아니면 다른 스타일의 이름을 원하시면 말씀해주세요. 더 다양한 옵션을 찾아볼 수 있습니다.'"
      ]
     },
     "execution_count": 130,
     "metadata": {},
     "output_type": "execute_result"
    }
   ],
   "source": [
    "conversation_chain.invoke(\"해외에서 영어이름을 사용하고 싶은데, 제 한국 이름을 기반으로 영어이름을 추천해주세요.\")"
   ]
  },
  {
   "cell_type": "code",
   "execution_count": 135,
   "id": "157b230b",
   "metadata": {},
   "outputs": [
    {
     "data": {
      "text/plain": [
       "[HumanMessage(content='안녕하세요? 만나서 반갑습니다. 제 이름은 테디 입니다.', additional_kwargs={}, response_metadata={}),\n",
       " AIMessage(content='안녕하세요, 테디님! 만나서 반갑습니다. 저는 당신을 도울 수 있는 챗봇입니다. 무엇을 도와드릴까요?', additional_kwargs={}, response_metadata={}),\n",
       " HumanMessage(content='안녕하세요? 만나서 반갑습니다. 제 이름은 청운 입니다.', additional_kwargs={}, response_metadata={}),\n",
       " AIMessage(content='안녕하세요, 청운님! 만나서 반갑습니다. 무엇을 도와드릴까요? 궁금한 점이나 필요한 정보가 있으시면 언제든지 말씀해주세요. 😊', additional_kwargs={}, response_metadata={}),\n",
       " HumanMessage(content='제 이름이 무엇인지 다시 한번 말해주세요.', additional_kwargs={}, response_metadata={}),\n",
       " AIMessage(content='청운님, 맞습니다! 당신의 이름은 청운입니다. 😊', additional_kwargs={}, response_metadata={}),\n",
       " HumanMessage(content='해외에서 영어이름을 사용하고 싶은데, 제 한국 이름을 기반으로 영어이름을 추천해주세요.', additional_kwargs={}, response_metadata={}),\n",
       " AIMessage(content='청운님의 한국 이름 \"청운\"을 기반으로 영어 이름을 추천해 드릴게요. 몇 가지 옵션이 있습니다:\\n\\n1.  **Cheong:** \"청\"을 그대로 음역한 이름입니다. 발음하기도 쉽고, 한국 이름과의 연관성을 유지할 수 있습니다.\\n2.  **Sky:** \"청운\"이 푸른 하늘과 구름을 의미하므로, \"Sky\"라는 이름을 사용할 수 있습니다. 의미가 직접적으로 연결되어 기억하기 쉽습니다.\\n3.  **Cloud:** \"운\"이 구름을 의미하므로, \"Cloud\"라는 이름을 사용할 수 있습니다. Sky와 마찬가지로 의미를 살린 이름입니다.\\n4.  **Clay:** \"청\"과 발음이 비슷한 \"Clay\"를 사용할 수도 있습니다.\\n5.  **Sean:** \"청\"과 발음이 유사한 \"Sean\"도 고려해볼 수 있습니다.\\n\\n이 중에서 어떤 이름이 가장 마음에 드시나요? 아니면 다른 스타일의 이름을 원하시면 말씀해주세요. 더 다양한 옵션을 찾아볼 수 있습니다.', additional_kwargs={}, response_metadata={})]"
      ]
     },
     "execution_count": 135,
     "metadata": {},
     "output_type": "execute_result"
    }
   ],
   "source": [
    "conversation_chain.memory.load_memory_variables({})[\"chat_history\"]\n"
   ]
  },
  {
   "cell_type": "markdown",
   "id": "4eff1686",
   "metadata": {},
   "source": [
    "## Save Conversaion Contents on SQLite"
   ]
  },
  {
   "cell_type": "code",
   "execution_count": 150,
   "id": "dae7e904",
   "metadata": {},
   "outputs": [],
   "source": [
    "from langchain_community.chat_message_histories import SQLChatMessageHistory\n",
    "\n",
    "# SQLChatMessageHistory 객체를 생성하고 세션 ID와 데이터베이스 연결 파일을 설정\n",
    "chat_message_history = SQLChatMessageHistory(\n",
    "    session_id=\"sql_history\", connection=\"sqlite:///sqlite.db\"\n",
    ")\n"
   ]
  },
  {
   "cell_type": "code",
   "execution_count": 151,
   "id": "2bfb81d5",
   "metadata": {},
   "outputs": [],
   "source": [
    "# 사용자 메시지를 추가합니다.\n",
    "chat_message_history.add_user_message(\n",
    "    \"안녕? 만나서 반가워. 내 이름은 청운이야. 나는 랭체인 개발자야. 앞으로 잘 부탁해!\"\n",
    ")\n",
    "# AI 메시지를 추가합니다.\n",
    "chat_message_history.add_ai_message(\"안녕 청운, 만나서 반가워. 나도 잘 부탁해!\")\n"
   ]
  },
  {
   "cell_type": "code",
   "execution_count": 152,
   "id": "64336b57",
   "metadata": {},
   "outputs": [
    {
     "data": {
      "text/plain": [
       "[HumanMessage(content='안녕? 만나서 반가워. 내 이름은 청운이야. 나는 랭체인 개발자야. 앞으로 잘 부탁해!', additional_kwargs={}, response_metadata={}),\n",
       " AIMessage(content='안녕 청운, 만나서 반가워. 나도 잘 부탁해!', additional_kwargs={}, response_metadata={}),\n",
       " HumanMessage(content='안녕? 만나서 반가워. 내 이름은 청운이야. 나는 랭체인 개발자야. 앞으로 잘 부탁해!', additional_kwargs={}, response_metadata={}),\n",
       " AIMessage(content='안녕 청운, 만나서 반가워. 나도 잘 부탁해!', additional_kwargs={}, response_metadata={})]"
      ]
     },
     "execution_count": 152,
     "metadata": {},
     "output_type": "execute_result"
    }
   ],
   "source": [
    "chat_message_history.messages"
   ]
  },
  {
   "cell_type": "markdown",
   "id": "e2dd9bfa",
   "metadata": {},
   "source": [
    "### Apply on Chain"
   ]
  },
  {
   "cell_type": "code",
   "execution_count": 153,
   "id": "eac4edb9",
   "metadata": {},
   "outputs": [],
   "source": [
    "from langchain_core.prompts import (\n",
    "    ChatPromptTemplate,\n",
    "    MessagesPlaceholder,\n",
    ")\n",
    "from langchain_core.runnables.history import RunnableWithMessageHistory\n",
    "from langchain_core.output_parsers import StrOutputParser\n"
   ]
  },
  {
   "cell_type": "code",
   "execution_count": 154,
   "id": "40726f32",
   "metadata": {},
   "outputs": [],
   "source": [
    "prompt = ChatPromptTemplate.from_messages(\n",
    "    [\n",
    "        # 시스템 메시지\n",
    "        (\"system\", \"You are a helpful assistant.\"),\n",
    "        # 대화 기록을 위한 Placeholder\n",
    "        MessagesPlaceholder(variable_name=\"chat_history\"),\n",
    "        (\"human\", \"{question}\"),  # 질문\n",
    "    ]\n",
    ")\n",
    "\n",
    "# chain 을 생성합니다.\n",
    "chain = prompt | llm | StrOutputParser()\n"
   ]
  },
  {
   "cell_type": "code",
   "execution_count": 155,
   "id": "0bb66ff0",
   "metadata": {},
   "outputs": [],
   "source": [
    "# define function that extract conversations from SQLite\n",
    "def get_chat_history(user_id, conversation_id):\n",
    "    return SQLChatMessageHistory(\n",
    "        table_name=user_id,\n",
    "        session_id=conversation_id,\n",
    "        connection=\"sqlite:///sqlite.db\",\n",
    "    )\n"
   ]
  },
  {
   "cell_type": "code",
   "execution_count": 156,
   "id": "8202151a",
   "metadata": {},
   "outputs": [],
   "source": [
    "# Set config_fields\n",
    "# user_id: user id, conversation_id: conversation id\n",
    "from langchain_core.runnables.utils import ConfigurableFieldSpec\n",
    "\n",
    "config_fields = [\n",
    "    ConfigurableFieldSpec(\n",
    "        id=\"user_id\",\n",
    "        annotation=str,\n",
    "        name=\"User ID\",\n",
    "        description=\"Unique identifier for a user.\",\n",
    "        default=\"\",\n",
    "        is_shared=True,\n",
    "    ),\n",
    "    ConfigurableFieldSpec(\n",
    "        id=\"conversation_id\",\n",
    "        annotation=str,\n",
    "        name=\"Conversation ID\",\n",
    "        description=\"Unique identifier for a conversation.\",\n",
    "        default=\"\",\n",
    "        is_shared=True,\n",
    "    ),\n",
    "]\n"
   ]
  },
  {
   "cell_type": "code",
   "execution_count": 157,
   "id": "bc8e76ee",
   "metadata": {},
   "outputs": [],
   "source": [
    "chain_with_history = RunnableWithMessageHistory(\n",
    "    chain,\n",
    "    get_chat_history,  # 대화 기록을 가져오는 함수를 설정합니다.\n",
    "    input_messages_key=\"question\",  # 입력 메시지의 키를 \"question\"으로 설정\n",
    "    history_messages_key=\"chat_history\",  # 대화 기록 메시지의 키를 \"history\"로 설정\n",
    "    history_factory_config=config_fields,  # 대화 기록 조회시 참고할 파라미터를 설정합니다.\n",
    ")\n"
   ]
  },
  {
   "cell_type": "code",
   "execution_count": 158,
   "id": "50f808e1",
   "metadata": {},
   "outputs": [],
   "source": [
    "# config 설정\n",
    "config = {\"configurable\": {\"user_id\": \"user1\", \"conversation_id\": \"conversation1\"}}\n"
   ]
  },
  {
   "cell_type": "code",
   "execution_count": 159,
   "id": "a8045742",
   "metadata": {},
   "outputs": [
    {
     "data": {
      "text/plain": [
       "'안녕하세요, 청운님! 다시 만나서 반갑습니다. 😊 어떤 도움이 필요하신가요?'"
      ]
     },
     "execution_count": 159,
     "metadata": {},
     "output_type": "execute_result"
    }
   ],
   "source": [
    "# 질문과 config 를 전달하여 실행합니다.\n",
    "chain_with_history.invoke({\"question\": \"안녕 반가워, 내 이름은 청운이야\"}, config)\n"
   ]
  },
  {
   "cell_type": "code",
   "execution_count": 160,
   "id": "4f00943e",
   "metadata": {},
   "outputs": [
    {
     "data": {
      "text/plain": [
       "'청운님!'"
      ]
     },
     "execution_count": 160,
     "metadata": {},
     "output_type": "execute_result"
    }
   ],
   "source": [
    "# 후속 질문을 실해합니다.\n",
    "chain_with_history.invoke({\"question\": \"내 이름을 다시 한 번 말해줘\"}, config)\n"
   ]
  },
  {
   "cell_type": "code",
   "execution_count": 161,
   "id": "a9b2a535",
   "metadata": {},
   "outputs": [
    {
     "data": {
      "text/plain": [
       "'저는 당신의 이름을 알지 못합니다. 알려주시겠어요? 😊'"
      ]
     },
     "execution_count": 161,
     "metadata": {},
     "output_type": "execute_result"
    }
   ],
   "source": [
    "# config 설정\n",
    "config = {\"configurable\": {\"user_id\": \"user1\", \"conversation_id\": \"conversation2\"}}\n",
    "\n",
    "# 질문과 config 를 전달하여 실행합니다.\n",
    "chain_with_history.invoke({\"question\": \"내 이름이 뭐라고?\"}, config)\n"
   ]
  },
  {
   "cell_type": "markdown",
   "id": "094bbdd7",
   "metadata": {},
   "source": [
    "## RunnableWithMessageHistory\n",
    "* Add ChatMessasgeHistory"
   ]
  },
  {
   "cell_type": "code",
   "execution_count": 162,
   "id": "fe398772",
   "metadata": {},
   "outputs": [
    {
     "name": "stdout",
     "output_type": "stream",
     "text": [
      "LangSmith 추적을 시작합니다.\n",
      "[프로젝트명]\n",
      "CH05-Memory\n"
     ]
    }
   ],
   "source": [
    "from langchain_teddynote import logging\n",
    "\n",
    "# 프로젝트 이름을 입력합니다.\n",
    "logging.langsmith(\"CH05-Memory\")\n"
   ]
  },
  {
   "cell_type": "markdown",
   "id": "d9922b65",
   "metadata": {},
   "source": [
    "### Multi-Turn Chain"
   ]
  },
  {
   "cell_type": "code",
   "execution_count": null,
   "id": "a36e1a39",
   "metadata": {},
   "outputs": [],
   "source": [
    "from langchain_core.prompts import ChatPromptTemplate, MessagesPlaceholder\n",
    "from langchain_community.chat_message_histories import ChatMessageHistory\n",
    "from langchain_core.chat_history import BaseChatMessageHistory\n",
    "from langchain_core.runnables.history import RunnableWithMessageHistory\n",
    "from langchain_core.output_parsers import StrOutputParser\n",
    "\n",
    "\n",
    "# 프롬프트 정의\n",
    "prompt = ChatPromptTemplate.from_messages(\n",
    "    [\n",
    "        (\n",
    "            \"system\",\n",
    "            \"당신은 Question-Answering 챗봇입니다. 주어진 질문에 대한 답변을 제공해주세요.\",\n",
    "        ),\n",
    "        # 대화기록용 key 인 chat_history 는 가급적 변경 없이 사용하세요!\n",
    "        MessagesPlaceholder(variable_name=\"chat_history\"),\n",
    "        (\"human\", \"#Question:\\n{question}\"),  # 사용자 입력을 변수로 사용\n",
    "    ]\n",
    ")\n",
    "\n",
    "\n",
    "# 일반 Chain 생성\n",
    "chain = prompt | llm | StrOutputParser()\n"
   ]
  },
  {
   "cell_type": "code",
   "execution_count": 165,
   "id": "3645874f",
   "metadata": {},
   "outputs": [],
   "source": [
    "# Create chain that Write Conversations\n",
    "# 세션 기록을 저장할 딕셔너리\n",
    "store = {}\n",
    "\n",
    "\n",
    "# 세션 ID를 기반으로 세션 기록을 가져오는 함수\n",
    "def get_session_history(session_ids):\n",
    "    print(f\"[대화 세션ID]: {session_ids}\")\n",
    "    if session_ids not in store:  # 세션 ID가 store에 없는 경우\n",
    "        # 새로운 ChatMessageHistory 객체를 생성하여 store에 저장\n",
    "        store[session_ids] = ChatMessageHistory()\n",
    "    return store[session_ids]  # 해당 세션 ID에 대한 세션 기록 반환\n",
    "chain_with_history = RunnableWithMessageHistory(\n",
    "    chain,\n",
    "    get_session_history,  # 세션 기록을 가져오는 함수\n",
    "    input_messages_key=\"question\",  # 사용자의 질문이 템플릿 변수에 들어갈 key\n",
    "    history_messages_key=\"chat_history\",  # 기록 메시지의 키\n",
    ")\n"
   ]
  },
  {
   "cell_type": "code",
   "execution_count": 166,
   "id": "ef361d86",
   "metadata": {},
   "outputs": [
    {
     "name": "stdout",
     "output_type": "stream",
     "text": [
      "[대화 세션ID]: abc123\n"
     ]
    },
    {
     "data": {
      "text/plain": [
       "'알겠습니다, 테디님. 만나서 반갑습니다.'"
      ]
     },
     "execution_count": 166,
     "metadata": {},
     "output_type": "execute_result"
    }
   ],
   "source": [
    "chain_with_history.invoke(\n",
    "    # 질문 입력\n",
    "    {\"question\": \"나의 이름은 테디입니다.\"},\n",
    "    # 세션 ID 기준으로 대화를 기록합니다.\n",
    "    config={\"configurable\": {\"session_id\": \"abc123\"}},\n",
    ")\n"
   ]
  },
  {
   "cell_type": "code",
   "execution_count": 167,
   "id": "98fa04c1",
   "metadata": {},
   "outputs": [
    {
     "name": "stdout",
     "output_type": "stream",
     "text": [
      "[대화 세션ID]: abc123\n"
     ]
    },
    {
     "data": {
      "text/plain": [
       "'당신의 이름은 테디입니다.'"
      ]
     },
     "execution_count": 167,
     "metadata": {},
     "output_type": "execute_result"
    }
   ],
   "source": [
    "chain_with_history.invoke(\n",
    "    # 질문 입력\n",
    "    {\"question\": \"내 이름이 뭐라고?\"},\n",
    "    # 세션 ID 기준으로 대화를 기록합니다.\n",
    "    config={\"configurable\": {\"session_id\": \"abc123\"}},\n",
    ")\n"
   ]
  }
 ],
 "metadata": {
  "language_info": {
   "name": "python"
  }
 },
 "nbformat": 4,
 "nbformat_minor": 5
}
