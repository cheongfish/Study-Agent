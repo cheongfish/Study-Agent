{
 "cells": [
  {
   "cell_type": "code",
   "execution_count": 1,
   "id": "e2ddd94c",
   "metadata": {},
   "outputs": [
    {
     "data": {
      "text/plain": [
       "True"
      ]
     },
     "execution_count": 1,
     "metadata": {},
     "output_type": "execute_result"
    }
   ],
   "source": [
    "# API KEY를 환경변수로 관리하기 위한 설정 파일\n",
    "from dotenv import load_dotenv\n",
    "\n",
    "# API KEY 정보로드\n",
    "load_dotenv()"
   ]
  },
  {
   "cell_type": "code",
   "execution_count": null,
   "id": "8f816d77",
   "metadata": {},
   "outputs": [],
   "source": [
    "#0 import moudules\n",
    "from typing import Annotated, TypedDict\n",
    "from langgraph.graph import StateGraph, START, END\n",
    "from langgraph.graph.message import add_messages"
   ]
  },
  {
   "cell_type": "code",
   "execution_count": null,
   "id": "85d42ca1",
   "metadata": {},
   "outputs": [],
   "source": [
    "#1 define state\n",
    "class State(TypedDict):\n",
    "    # define message, type is list and adding by function that name is add_message\n",
    "    messages: Annotated[list, add_messages]"
   ]
  },
  {
   "cell_type": "code",
   "execution_count": 3,
   "id": "a7588c58",
   "metadata": {},
   "outputs": [],
   "source": [
    "#2 define node\n",
    "from langchain_google_genai import ChatGoogleGenerativeAI\n",
    "\n",
    "# define llm\n",
    "llm = ChatGoogleGenerativeAI(\n",
    "    model=\"gemini-2.0-flash\",\n",
    "    temperature=0,\n",
    "    max_tokens=None,\n",
    "    timeout=None,\n",
    "    max_retries=2,\n",
    "    # other params...\n",
    ") \n",
    "def chatbot(state: State):\n",
    "    # Call and Return message\n",
    "    return {\"messages\" : [llm.invoke(state[\"messages\"])]}"
   ]
  },
  {
   "cell_type": "code",
   "execution_count": 4,
   "id": "5dfb168a",
   "metadata": {},
   "outputs": [
    {
     "data": {
      "text/plain": [
       "<langgraph.graph.state.StateGraph at 0x77ba56594c90>"
      ]
     },
     "execution_count": 4,
     "metadata": {},
     "output_type": "execute_result"
    }
   ],
   "source": [
    "#3 generate graph\n",
    "# 그래프 생성\n",
    "graph_builder = StateGraph(State)\n",
    "\n",
    "# 노드 이름, 함수 혹은 callable 객체를 인자로 받아 노드를 추가\n",
    "graph_builder.add_node(\"chatbot\", chatbot)\n"
   ]
  },
  {
   "cell_type": "code",
   "execution_count": 5,
   "id": "808fa888",
   "metadata": {},
   "outputs": [
    {
     "data": {
      "text/plain": [
       "<langgraph.graph.state.StateGraph at 0x77ba56594c90>"
      ]
     },
     "execution_count": 5,
     "metadata": {},
     "output_type": "execute_result"
    }
   ],
   "source": [
    "#4 Add graph Edge\n",
    "# Add Edge that Start node to chatbot node\n",
    "graph_builder.add_edge(START, \"chatbot\")\n",
    "\n",
    "# add Edge on graph\n",
    "graph_builder.add_edge(\"chatbot\", END)"
   ]
  },
  {
   "cell_type": "code",
   "execution_count": 7,
   "id": "7f37560b",
   "metadata": {},
   "outputs": [
    {
     "data": {
      "image/png": "[encoded data removed]",
      "text/plain": [
       "<IPython.core.display.Image object>"
      ]
     },
     "metadata": {},
     "output_type": "display_data"
    }
   ],
   "source": [
    "# Compile Graph\n",
    "from langchain_teddynote.graphs import visualize_graph\n",
    "graph = graph_builder.compile()\n",
    "\n",
    "# visulaize graph\n",
    "visualize_graph(graph)"
   ]
  },
  {
   "cell_type": "code",
   "execution_count": 8,
   "id": "70e480be",
   "metadata": {},
   "outputs": [
    {
     "name": "stdout",
     "output_type": "stream",
     "text": [
      "Assistant: 네, 서울에서 유명한 맛집 TOP 10을 추천해 드릴게요! 다양한 종류의 맛집을 고려하여 선정했습니다.\n",
      "\n",
      "1.  **미쉐린 가이드 맛집:**\n",
      "\n",
      "*   **가온:** 한식을 고급스럽게 재해석한 미쉐린 3스타 레스토랑입니다. 격조 높은 분위기에서 특별한 식사를 즐길 수 있습니다. (강남구)\n",
      "*   **권숙수:** 전통주와 한식의 조화를 선보이는 미쉐린 2스타 레스토랑입니다. 섬세한 맛과 아름다운 플레이팅이 인상적입니다. (강남구)\n",
      "*   **유 유안:** 포시즌스 호텔 서울에 위치한 광둥 요리 전문점입니다. 딤섬과 북경 오리가 특히 유명하며, 화려한 분위기에서 식사를 즐길 수 있습니다. (종로구)\n",
      "\n",
      "2.  **줄 서서 먹는 맛집:**\n",
      "\n",
      "*   **몽탄:** 짚불로 초벌한 돼지갈비로 유명한 곳입니다. 독특한 풍미와 푸짐한 양으로 인기가 많아 웨이팅이 필수입니다. (용산구)\n",
      "*   **다운타우너:** 수제 버거 맛집으로, 다양한 종류의 버거와 감자튀김을 맛볼 수 있습니다. 특히 아보카도 버거가 인기 메뉴입니다. (용산구, 강남구 등)\n",
      "*   **에머이:** 베트남 쌀국수 전문점으로, 깊고 진한 육수와 쫄깃한 면발이 특징입니다. 롤만두와 분짜도 인기 메뉴입니다. (강남구, 종로구 등)\n",
      "\n",
      "3.  **가성비 좋은 맛집:**\n",
      "\n",
      "*   **황생가칼국수:** 60년 전통의 칼국수 맛집입니다. 사골 육수의 깊은 맛과 푸짐한 양으로 오랫동안 사랑받고 있습니다. (종로구)\n",
      "*   **이문설농탕:** 100년이 넘는 역사를 자랑하는 설렁탕 전문점입니다. 뽀얀 국물과 부드러운 고기가 일품입니다. (종로구)\n",
      "*   **종로빈대떡:** 광장시장의 명물인 빈대떡 맛집입니다. 저렴한 가격에 푸짐한 빈대떡을 맛볼 수 있습니다. (종로구)\n",
      "\n",
      "4.  **분위기 좋은 맛집:**\n",
      "\n",
      "*   **더 키친 살바토레 쿠오모:** 이탈리아 나폴리 피자 맛집으로, 화덕에서 구워낸 정통 피자를 맛볼 수 있습니다. 아름다운 한강 뷰를 감상하며 식사를 즐길 수 있습니다. (용산구)\n",
      "\n",
      "**참고사항:**\n",
      "\n",
      "*   위 맛집들은 인기가 많으므로 방문 전에 예약하거나 웨이팅 시간을 고려하는 것이 좋습니다.\n",
      "*   각 맛집의 위치, 메뉴, 가격 등 자세한 정보는 검색을 통해 확인해 주세요.\n",
      "*   개인의 취향에 따라 맛집 평가가 다를 수 있습니다.\n",
      "\n",
      "이 외에도 서울에는 수많은 맛집들이 있습니다. 즐거운 서울 미식 여행 되세요!\n"
     ]
    }
   ],
   "source": [
    "# Execute chatbot\n",
    "\n",
    "question = \"서울의 유명한 맛집 TOP 10 추천해줘\"\n",
    "\n",
    "# 그래프 이벤트 스트리밍\n",
    "for event in graph.stream({\"messages\": [(\"user\", question)]}):\n",
    "    # 이벤트 값 출력\n",
    "    for value in event.values():\n",
    "        print(\"Assistant:\", value[\"messages\"][-1].content)\n"
   ]
  }
 ],
 "metadata": {
  "kernelspec": {
   "display_name": "study-langgraph",
   "language": "python",
   "name": "python3"
  },
  "language_info": {
   "codemirror_mode": {
    "name": "ipython",
    "version": 3
   },
   "file_extension": ".py",
   "mimetype": "text/x-python",
   "name": "python",
   "nbconvert_exporter": "python",
   "pygments_lexer": "ipython3",
   "version": "3.11.12"
  }
 },
 "nbformat": 4,
 "nbformat_minor": 5
}
