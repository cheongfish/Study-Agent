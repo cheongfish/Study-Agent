{
 "cells": [
  {
   "cell_type": "code",
   "execution_count": 8,
   "id": "1b90e249",
   "metadata": {},
   "outputs": [
    {
     "name": "stdout",
     "output_type": "stream",
     "text": [
      "LangSmith 추적을 시작합니다.\n",
      "[프로젝트명]\n",
      "Test_Calling_Tools\n"
     ]
    }
   ],
   "source": [
    "# Set langsmith tracing\n",
    "from langchain_teddynote import logging\n",
    "from configs import llm\n",
    "from pprint import pprint\n",
    "# input your project name\n",
    "logging.langsmith(\"Test_Calling_Tools\")"
   ]
  },
  {
   "cell_type": "code",
   "execution_count": 2,
   "id": "90cd5033",
   "metadata": {},
   "outputs": [],
   "source": [
    "from langchain_core.messages import AIMessage\n",
    "from langchain_core.tools import tool\n",
    "from langchain_experimental.tools.python.tool import PythonAstREPLTool\n",
    "from langchain_teddynote.tools import GoogleNews\n",
    "from typing import List, Dict\n",
    "\n",
    "\n",
    "# 도구 생성\n",
    "@tool\n",
    "def search_news(query: str) -> List[Dict[str, str]]:\n",
    "    \"\"\"Search Google News by input keyword\"\"\"\n",
    "    news_tool = GoogleNews()\n",
    "    return news_tool.search_by_keyword(query, k=5)\n",
    "\n",
    "\n",
    "@tool\n",
    "def python_code_interpreter(code: str):\n",
    "    \"\"\"Call to execute python code.\"\"\"\n",
    "    return PythonAstREPLTool().invoke(code)\n"
   ]
  },
  {
   "cell_type": "code",
   "execution_count": 3,
   "id": "439e56dd",
   "metadata": {},
   "outputs": [],
   "source": [
    "# Call tools\n",
    "from langgraph.prebuilt import ToolNode, tools_condition\n",
    "\n",
    "# Make tool list\n",
    "tools = [search_news,python_code_interpreter]\n",
    "\n",
    "# initiate ToolNode\n",
    "tool_node = ToolNode(tools)\n"
   ]
  },
  {
   "cell_type": "code",
   "execution_count": 4,
   "id": "3953b178",
   "metadata": {},
   "outputs": [],
   "source": [
    "message_with_single_tool_call = AIMessage(\n",
    "    content=\"\",\n",
    "    tool_calls=[\n",
    "        {\n",
    "            \"name\": \"search_news\", # 도구 이름\n",
    "            \"args\": {\"query\": \"AI\"}, # 도구 인자\n",
    "            \"id\": \"tool_call_id\", # 도구 호출 ID\n",
    "            \"type\": \"tool_call\", # 도구 호풀 유형\n",
    "            \n",
    "        }\n",
    "    ],\n",
    ")"
   ]
  },
  {
   "cell_type": "code",
   "execution_count": 5,
   "id": "b2070cf0",
   "metadata": {},
   "outputs": [
    {
     "data": {
      "text/plain": [
       "{'messages': [ToolMessage(content='[{\"url\": \"https://news.google.com/rss/articles/CBMigwFBVV95cUxNNkxZWV9FVWUwd2dsM20tRExJYTBISXJfQWpYY0dUa1ptWWJoajNUOWFlVnN6X0tjYnRRaDJrZFhuLTQzSnZhUmx0dERLQTdSMjU0QkZsbWd1VmR5Y2NudFhFZkFJLUJwdllsY0FMd0FYY3RhYm4wdmRuVWRIMUlwOXF6Z9IBlwFBVV95cUxQMmREZko2R1pFQ0gyLTlGMkdCT3Y1VXJFV3dkN3NrRGY5dWx4TE16ZFVKejhpWGdUMWppTFg5ckZRbW1uX2ZveW5RdTE2M2o4R0cxeV8yWDRoTVh5UFRIOGcxdHhCb1h6UHptZi1vZE1sTlRCQXYxVnZGM0o5QmIyY2trWXB5NVZzTC00cEIxZlV5R3kzdHNN?oc=5\", \"content\": \"증시 흔든 AI 버블론, 닷컴 버블 때완 다르다? - 조선일보\"}, {\"url\": \"https://news.google.com/rss/articles/CBMiakFVX3lxTE5CdTNxcUZEeDh4dnFJdnJLaFdRdXFWWExjbGFrNGZVTHJBY0hJd3paOHJlT0wxR0UzSGUwaVQ2SjkxZFRYZVljMllsdEdCRnhIc2FGQTFsY3hvZTF2cGpNMHJJd0ZTcWZJMnc?oc=5\", \"content\": \"오픈AI, 월 매출 1.4조 돌파...\\\\\"GPT-5 출시로 컴퓨팅 수요 폭발\\\\\" - AI타임스\"}, {\"url\": \"https://news.google.com/rss/articles/CBMiX0FVX3lxTE8tRFRKOVEzMGMxUXpmakh1Rl84bzMyTnJybmM0QzBGZ2VNQUxmaHpXVUdaQ2M0TkduaUNsZC0zMTBMV29PTGV3T2JwaGZnYlphT185eV9pSmVPMXFmVmJz?oc=5\", \"content\": \"\\\\\"한글처럼 배우기 쉬운 AI\\\\\"…국내 인재 키우고 해외 인력 끌어온다 - 뉴스1\"}, {\"url\": \"https://news.google.com/rss/articles/CBMiVkFVX3lxTE1RakQtcElTaVVUT0RES290alIwdlZ5QV9kN01qTk54Y1dMNGxLY1FaVmpGRHJ2OXNpLUdWZ2JUUG9fV0tPZ0FJUFY1enlKVjc3ZFVHZnNR?oc=5\", \"content\": \"내년 정부 R&D예산 35.3조원 \\'역대 최대\\'…AI, 106% 증액 - 지디넷코리아\"}, {\"url\": \"https://news.google.com/rss/articles/CBMiYEFVX3lxTE95a3cyZDUzb2dzQmVLX3BzWjF2cG5JQXZ4aGxHOXFQS3F3TG1wMVFWSjh4VlVyemFSczkySVZDZ0NJOWV3QlBmbFhvYXRDZWhEWGdISnVEZTRIaFZROHNaNdIBeEFVX3lxTE9zZVlTV1R4UXRxTVJlSjRWdkZSc0I1YUhOVFRvYm5zZldvaGlzMEZLOUJ6WlZCOWRwQ2JVdWlNQzFMN18zVkZSM2hQRDRZMnlFSmU3WUNzXzdFcm96ZkcxSGFRN0ZYcGNEZkcwMUZzTnRnTE1YSHM4eA?oc=5\", \"content\": \"내년 국가R&D 예산 역대 최대 35.3조…AI 예산 2배 이상 늘었다 - 뉴시스\"}]', name='search_news', tool_call_id='tool_call_id')]}"
      ]
     },
     "execution_count": 5,
     "metadata": {},
     "output_type": "execute_result"
    }
   ],
   "source": [
    "tool_node.invoke(\n",
    "    {\n",
    "        \"messages\": [message_with_single_tool_call]\n",
    "    }\n",
    ")"
   ]
  },
  {
   "cell_type": "code",
   "execution_count": 9,
   "id": "88d3d111",
   "metadata": {},
   "outputs": [
    {
     "name": "stdout",
     "output_type": "stream",
     "text": [
      "{'messages': [ToolMessage(content='[{\"url\": \"https://news.google.com/rss/articles/CBMigwFBVV95cUxNNkxZWV9FVWUwd2dsM20tRExJYTBISXJfQWpYY0dUa1ptWWJoajNUOWFlVnN6X0tjYnRRaDJrZFhuLTQzSnZhUmx0dERLQTdSMjU0QkZsbWd1VmR5Y2NudFhFZkFJLUJwdllsY0FMd0FYY3RhYm4wdmRuVWRIMUlwOXF6Z9IBlwFBVV95cUxQMmREZko2R1pFQ0gyLTlGMkdCT3Y1VXJFV3dkN3NrRGY5dWx4TE16ZFVKejhpWGdUMWppTFg5ckZRbW1uX2ZveW5RdTE2M2o4R0cxeV8yWDRoTVh5UFRIOGcxdHhCb1h6UHptZi1vZE1sTlRCQXYxVnZGM0o5QmIyY2trWXB5NVZzTC00cEIxZlV5R3kzdHNN?oc=5\", \"content\": \"증시 흔든 AI 버블론, 닷컴 버블 때완 다르다? - 조선일보\"}, {\"url\": \"https://news.google.com/rss/articles/CBMiakFVX3lxTE5CdTNxcUZEeDh4dnFJdnJLaFdRdXFWWExjbGFrNGZVTHJBY0hJd3paOHJlT0wxR0UzSGUwaVQ2SjkxZFRYZVljMllsdEdCRnhIc2FGQTFsY3hvZTF2cGpNMHJJd0ZTcWZJMnc?oc=5\", \"content\": \"오픈AI, 월 매출 1.4조 돌파...\\\\\"GPT-5 출시로 컴퓨팅 수요 폭발\\\\\" - AI타임스\"}, {\"url\": \"https://news.google.com/rss/articles/CBMiX0FVX3lxTE8tRFRKOVEzMGMxUXpmakh1Rl84bzMyTnJybmM0QzBGZ2VNQUxmaHpXVUdaQ2M0TkduaUNsZC0zMTBMV29PTGV3T2JwaGZnYlphT185eV9pSmVPMXFmVmJz?oc=5\", \"content\": \"\\\\\"한글처럼 배우기 쉬운 AI\\\\\"…국내 인재 키우고 해외 인력 끌어온다 - 뉴스1\"}, {\"url\": \"https://news.google.com/rss/articles/CBMiVkFVX3lxTE1RakQtcElTaVVUT0RES290alIwdlZ5QV9kN01qTk54Y1dMNGxLY1FaVmpGRHJ2OXNpLUdWZ2JUUG9fV0tPZ0FJUFY1enlKVjc3ZFVHZnNR?oc=5\", \"content\": \"내년 정부 R&D예산 35.3조원 \\'역대 최대\\'…AI, 106% 증액 - 지디넷코리아\"}, {\"url\": \"https://news.google.com/rss/articles/CBMiYEFVX3lxTE95a3cyZDUzb2dzQmVLX3BzWjF2cG5JQXZ4aGxHOXFQS3F3TG1wMVFWSjh4VlVyemFSczkySVZDZ0NJOWV3QlBmbFhvYXRDZWhEWGdISnVEZTRIaFZROHNaNdIBeEFVX3lxTE9zZVlTV1R4UXRxTVJlSjRWdkZSc0I1YUhOVFRvYm5zZldvaGlzMEZLOUJ6WlZCOWRwQ2JVdWlNQzFMN18zVkZSM2hQRDRZMnlFSmU3WUNzXzdFcm96ZkcxSGFRN0ZYcGNEZkcwMUZzTnRnTE1YSHM4eA?oc=5\", \"content\": \"내년 국가R&D 예산 역대 최대 35.3조…AI 예산 2배 이상 늘었다 - 뉴시스\"}]', name='search_news', tool_call_id='tool_call_id'),\n",
      "              ToolMessage(content='10\\n', name='python_code_interpreter', tool_call_id='tool_call_id')]}\n"
     ]
    }
   ],
   "source": [
    "# 다중 도구 호출을 포함하는 AI 메시지 객체 생성 및 초기화\n",
    "message_with_multiple_tool_calls = AIMessage(\n",
    "    content=\"\",\n",
    "    tool_calls=[\n",
    "        {\n",
    "            \"name\": \"search_news\",\n",
    "            \"args\": {\"query\": \"AI\"},\n",
    "            \"id\": \"tool_call_id\",\n",
    "            \"type\": \"tool_call\",\n",
    "        },\n",
    "        {\n",
    "            \"name\": \"python_code_interpreter\",\n",
    "            \"args\": {\"code\": \"print(1+2+3+4)\"},\n",
    "            \"id\": \"tool_call_id\",\n",
    "            \"type\": \"tool_call\",\n",
    "        },\n",
    "    ],\n",
    ")\n",
    "\n",
    "# 생성된 메시지를 도구 노드에 전달하여 다중 도구 호출 실행\n",
    "pprint(tool_node.invoke({\"messages\": [message_with_multiple_tool_calls]}))\n"
   ]
  },
  {
   "cell_type": "code",
   "execution_count": 17,
   "id": "7e2ec544",
   "metadata": {},
   "outputs": [],
   "source": [
    "# LLM 모델 초기화 및 도구 바인딩\n",
    "model_with_tools = llm.bind_tools(tools)\n"
   ]
  },
  {
   "cell_type": "code",
   "execution_count": 22,
   "id": "7d7d6661",
   "metadata": {},
   "outputs": [
    {
     "name": "stdout",
     "output_type": "stream",
     "text": [
      "[{'args': {'code': '\\n'\n",
      "                   'primes = []\\n'\n",
      "                   'num = 2\\n'\n",
      "                   'while len(primes) < 5:\\n'\n",
      "                   '    is_prime = True\\n'\n",
      "                   '    if num < 2:\\n'\n",
      "                   '        is_prime = False\\n'\n",
      "                   '    else:\\n'\n",
      "                   '        for i in range(2, int(num**0.5) + 1):\\n'\n",
      "                   '            if num % i == 0:\\n'\n",
      "                   '                is_prime = False\\n'\n",
      "                   '                break\\n'\n",
      "                   '    if is_prime:\\n'\n",
      "                   '        primes.append(num)\\n'\n",
      "                   '    num += 1\\n'\n",
      "                   'print(primes)\\n'},\n",
      "  'id': 'ddfb6c08-c350-40c1-a1a2-4484c63c56d5',\n",
      "  'name': 'python_code_interpreter',\n",
      "  'type': 'tool_call'}]\n"
     ]
    }
   ],
   "source": [
    "# 도구 호출 확인\n",
    "pprint(\n",
    "    model_with_tools.invoke(\"처음 5개의 소수를 출력하는 python code 를 작성해줘\").tool_calls\n",
    ")\n"
   ]
  },
  {
   "cell_type": "code",
   "execution_count": 23,
   "id": "1d5c2c96",
   "metadata": {},
   "outputs": [
    {
     "data": {
      "text/plain": [
       "{'messages': [ToolMessage(content='[2, 3, 5, 7, 11]\\n', name='python_code_interpreter', tool_call_id='acd45f2b-6a7a-4565-84a0-d4755d43d0f5')]}"
      ]
     },
     "execution_count": 23,
     "metadata": {},
     "output_type": "execute_result"
    }
   ],
   "source": [
    "# 도구 노드를 통한 메시지 처리 및 LLM 모델의 도구 기반 응답 생성\n",
    "tool_node.invoke(\n",
    "    {\n",
    "        \"messages\": [\n",
    "            model_with_tools.invoke(\n",
    "                \"처음 5개의 소수를 출력하는 python code 를 작성해줘\"\n",
    "            )\n",
    "        ]\n",
    "    }\n",
    ")\n"
   ]
  },
  {
   "cell_type": "code",
   "execution_count": 24,
   "id": "bd07312a",
   "metadata": {},
   "outputs": [],
   "source": [
    "# LangGraph 워크플로우 상태 및 메시지 처리를 위한 타입 임포트\n",
    "from langgraph.graph import StateGraph, MessagesState, START, END\n",
    "\n",
    "\n",
    "# LLM 모델을 사용하여 메시지 처리 및 응답 생성, 도구 호출이 포함된 응답 반환\n",
    "def call_model(state: MessagesState):\n",
    "    messages = state[\"messages\"]\n",
    "    response = model_with_tools.invoke(messages)\n",
    "    return {\"messages\": [response]}\n",
    "\n",
    "\n",
    "# 메시지 상태 기반 워크플로우 그래프 초기화\n",
    "workflow = StateGraph(MessagesState)\n",
    "\n",
    "# 에이전트와 도구 노드 정의 및 워크플로우 그래프에 추가\n",
    "workflow.add_node(\"agent\", call_model)\n",
    "workflow.add_node(\"tools\", tool_node)\n",
    "\n",
    "# 워크플로우 시작점에서 에이전트 노드로 연결\n",
    "workflow.add_edge(START, \"agent\")\n",
    "\n",
    "# 에이전트 노드에서 조건부 분기 설정, 도구 노드 또는 종료 지점으로 연결\n",
    "workflow.add_conditional_edges(\"agent\", tools_condition)\n",
    "\n",
    "# 도구 노드에서 에이전트 노드로 순환 연결\n",
    "workflow.add_edge(\"tools\", \"agent\")\n",
    "\n",
    "# 에이전트 노드에서 종료 지점으로 연결\n",
    "workflow.add_edge(\"agent\", END)\n",
    "\n",
    "\n",
    "# 정의된 워크플로우 그래프 컴파일 및 실행 가능한 애플리케이션 생성\n",
    "app = workflow.compile()\n"
   ]
  },
  {
   "cell_type": "code",
   "execution_count": 25,
   "id": "84eca868",
   "metadata": {},
   "outputs": [
    {
     "data": {
      "image/png": "[encoded data removed]",
      "text/plain": [
       "<IPython.core.display.Image object>"
      ]
     },
     "metadata": {},
     "output_type": "display_data"
    }
   ],
   "source": [
    "from langchain_teddynote.graphs import visualize_graph\n",
    "\n",
    "visualize_graph(app)\n"
   ]
  },
  {
   "cell_type": "code",
   "execution_count": 26,
   "id": "2361f471",
   "metadata": {},
   "outputs": [
    {
     "name": "stdout",
     "output_type": "stream",
     "text": [
      "================================\u001b[1m Human Message \u001b[0m=================================\n",
      "\n",
      "1부터 10까지 팩토리얼 연산하는 과정을 출력하는 python code 를 작성해줘\n",
      "==================================\u001b[1m Ai Message \u001b[0m==================================\n",
      "Tool Calls:\n",
      "  python_code_interpreter (5f9a177b-493c-4170-8cb3-0dd0a2547014)\n",
      " Call ID: 5f9a177b-493c-4170-8cb3-0dd0a2547014\n",
      "  Args:\n",
      "    code: \n",
      "def factorial_process():\n",
      "    for i in range(1, 11):\n",
      "        factorial = 1\n",
      "        process_parts = []\n",
      "        for j in range(i, 0, -1):\n",
      "            factorial *= j\n",
      "            process_parts.append(str(j))\n",
      "        \n",
      "        if i == 1:\n",
      "            process_string = f\"1! = 1\"\n",
      "        else:\n",
      "            process_string = f\"{i}! = {' * '.join(process_parts)} = {factorial}\"\n",
      "        \n",
      "        print(process_string)\n",
      "\n",
      "factorial_process()\n",
      "=================================\u001b[1m Tool Message \u001b[0m=================================\n",
      "Name: python_code_interpreter\n",
      "\n",
      "1! = 1\n",
      "2! = 2 * 1 = 2\n",
      "3! = 3 * 2 * 1 = 6\n",
      "4! = 4 * 3 * 2 * 1 = 24\n",
      "5! = 5 * 4 * 3 * 2 * 1 = 120\n",
      "6! = 6 * 5 * 4 * 3 * 2 * 1 = 720\n",
      "7! = 7 * 6 * 5 * 4 * 3 * 2 * 1 = 5040\n",
      "8! = 8 * 7 * 6 * 5 * 4 * 3 * 2 * 1 = 40320\n",
      "9! = 9 * 8 * 7 * 6 * 5 * 4 * 3 * 2 * 1 = 362880\n",
      "10! = 10 * 9 * 8 * 7 * 6 * 5 * 4 * 3 * 2 * 1 = 3628800\n",
      "\n",
      "==================================\u001b[1m Ai Message \u001b[0m==================================\n",
      "\n",
      "1부터 10까지의 팩토리얼 연산 과정과 결과는 다음과 같습니다:\n",
      "\n",
      "1! = 1\n",
      "2! = 2 * 1 = 2\n",
      "3! = 3 * 2 * 1 = 6\n",
      "4! = 4 * 3 * 2 * 1 = 24\n",
      "5! = 5 * 4 * 3 * 2 * 1 = 120\n",
      "6! = 6 * 5 * 4 * 3 * 2 * 1 = 720\n",
      "7! = 7 * 6 * 5 * 4 * 3 * 2 * 1 = 5040\n",
      "8! = 8 * 7 * 6 * 5 * 4 * 3 * 2 * 1 = 40320\n",
      "9! = 9 * 8 * 7 * 6 * 5 * 4 * 3 * 2 * 1 = 362880\n",
      "10! = 10 * 9 * 8 * 7 * 6 * 5 * 4 * 3 * 2 * 1 = 3628800\n"
     ]
    }
   ],
   "source": [
    "# 실행 및 결과 확인\n",
    "for chunk in app.stream(\n",
    "    {\"messages\": [(\"human\", \"1부터 10까지 팩토리얼 연산하는 과정을 출력하는 python code 를 작성해줘\")]},\n",
    "    stream_mode=\"values\",\n",
    "):\n",
    "    # 마지막 메시지 출력\n",
    "    chunk[\"messages\"][-1].pretty_print()\n"
   ]
  },
  {
   "cell_type": "code",
   "execution_count": 20,
   "id": "d5f1f8ec",
   "metadata": {},
   "outputs": [
    {
     "name": "stdout",
     "output_type": "stream",
     "text": [
      "================================\u001b[1m Human Message \u001b[0m=================================\n",
      "\n",
      "search google news about GPT-5\n",
      "==================================\u001b[1m Ai Message \u001b[0m==================================\n",
      "Tool Calls:\n",
      "  search_news (1fe8e9ed-1db9-4546-976d-a096fba09371)\n",
      " Call ID: 1fe8e9ed-1db9-4546-976d-a096fba09371\n",
      "  Args:\n",
      "    query: GPT-5\n",
      "=================================\u001b[1m Tool Message \u001b[0m=================================\n",
      "Name: search_news\n",
      "\n",
      "[{\"url\": \"https://news.google.com/rss/articles/CBMiTEFVX3lxTFBVLU1aYzNnSTJkNnZPRGdzS0x4cU1lMGFFNGxiQ29pVnA1YjFvczA2Y3FUeEUxTmZIeFU0N1ZHc3d5d1N1Y2UxcXlaYm4?oc=5\", \"content\": \"GPT-5 성능 예상보다 별로인 이유, 자금 부족 때문? - 바이라인네트워크\"}, {\"url\": \"https://news.google.com/rss/articles/CBMiVkFVX3lxTE9jbnJXMGg5anZIYTNwT1JMQnNwQkJmUzlRejFUcEhYNklfYXpSLUYxLWx1QVlrNTU3eFhpd05uYl95UVMwXzhHdlE3LXhfekRiU1lnOGxn?oc=5\", \"content\": \"무하유, GPT킬러에 'GPT-5' 탐지 기능 추가 - 지디넷코리아\"}, {\"url\": \"https://news.google.com/rss/articles/CBMiUkFVX3lxTE1zalZSMkVmaXd6NnVWLUw2NFpCQkRIQ1U2RDhwM3NZMXo0aGZxbElzOTFvUVcxMVFaYVhHZ0FNVlJiNWhvLUN4OXJxSlNEQnR0SkE?oc=5\", \"content\": \"한 달에 1조원 버는 ‘이 회사’…신모델 내놓고도 구모델로 되돌린 이유 - 매일경제\"}, {\"url\": \"https://news.google.com/rss/articles/CBMiakFVX3lxTE5CdTNxcUZEeDh4dnFJdnJLaFdRdXFWWExjbGFrNGZVTHJBY0hJd3paOHJlT0wxR0UzSGUwaVQ2SjkxZFRYZVljMllsdEdCRnhIc2FGQTFsY3hvZTF2cGpNMHJJd0ZTcWZJMnc?oc=5\", \"content\": \"오픈AI, 월 매출 1.4조 돌파...\\\"GPT-5 출시로 컴퓨팅 수요 폭발\\\" - AI타임스\"}, {\"url\": \"https://news.google.com/rss/articles/CBMiakFVX3lxTE9mbndzNk5vMDI4TDJYQW9iMHpydGt5UFlFdmtFRlQxcTFGSVh2eVo4RXRKVElEdE1Idnc1aGdBNFp2Sm5yU2N0V3piTkROTEtDeHBYM1k0Y3BmdXN0TGxVZjVITTRaaDJMRkHSAWZBVV95cUxNeDlUWC1GS0hMWWhvLXRFSG1oMERTU29aRDRkU2NmTXNZWXpobVc5aFBLUWZ1OGNDZGNYSXE0cENHZnF5NGJfcEljMXJEN2VMRWI3UzU1cjVqVEpjcmYzTGtGVTZmSWc?oc=5\", \"content\": \"[오그랲] '핵폭탄급'이라던 GPT-5는 허풍? 인간 수준 AI는 언제쯤 올까 - SBS 뉴스\"}]\n",
      "==================================\u001b[1m Ai Message \u001b[0m==================================\n",
      "\n",
      "Here are some of the latest news articles about GPT-5:\n",
      "\n",
      "*   \"GPT-5 성능 예상보다 별로인 이유, 자금 부족 때문? - 바이라인네트워크\" (Reason why GPT-5's performance is worse than expected, due to lack of funds?) - https://news.google.com/rss/articles/CBMiTEFVX3lxTFBVLU1aYzNnSTJkNnZPRGdzS0x4cU1lMGFFNGxiQ29pVnA1YjFvczA2Y3FUeEUxTmZIeFU0N1ZHc3d5d1N1Y2UxcXlaYm4?oc=5\n",
      "*   \"무하유, GPT킬러에 'GPT-5' 탐지 기능 추가 - 지디넷코리아\" (Muhayu adds 'GPT-5' detection function to GPT Killer) - https://news.google.com/rss/articles/CBMiVkFVX3lxTE9jbnJXMGg5anZIZTNwT1JMQnNwQkJmUzlRejFUcEhYNklfYXpSLUYxLWx1QVlrNTU3eFhpd05uYl95UVMwXzhHdlE3LXhfekRiU1lnOGxn?oc=5\n",
      "*   \"한 달에 1조원 버는 ‘이 회사’…신모델 내놓고도 구모델로 되돌린 이유 - 매일경제\" (The reason why 'this company', which earns 1 trillion won a month, released a new model but reverted to the old one) - https://news.google.com/rss/articles/CBMiUkFVX3lxTE1zalZSMkVmaXd6NnVWLUw2NFpCQkRIQ1U2RDhwM3NZMXo0aGZxbElzOTFvUVcxMVFaYVhHZ0FNVlJiNWhvLUN4OXJxSlNEQnR0SkE?oc=5\n",
      "*   \"오픈AI, 월 매출 1.4조 돌파...\\\"GPT-5 출시로 컴퓨팅 수요 폭발\\\" - AI타임스\" (OpenAI's monthly sales exceed 1.4 trillion... \"Computing demand explodes with GPT-5 release\") - https://news.google.com/rss/articles/CBMiakFVX3lxTE5CdTNxcUZEeDh4dnFJdnJLaFdRdXFWWExjbGFrNGZVTHJBY0hJd3paOHJlT0wxR0UzSGUwaVQ2SjkxZFRYZVljMllsdEdCRnhIc2FGQTFsY3hvZTF2cGpNMHJJd0ZTcWZJMnc?oc=5\n",
      "*   \"[오그랲] '핵폭탄급'이라던 GPT-5는 허풍? 인간 수준 AI는 언제쯤 올까 - SBS 뉴스\" ([Oh Grap] Was GPT-5, which was called 'nuclear bomb-level', a bluff? When will human-level AI arrive?) - https://news.google.com/rss/articles/CBMiakFVX3lxTE9mbndzNk5vMDI4TDJYQW9iMHpydGt5UFlFdmtFRlQxcTFGSVh2eVo4RXRKVElEdE1Idnc1aGdBNFp2Sm5yU2N0V3piTkROTEtDeHBYM1k0Y3BmdXN0TGxVZjVITTRaaDJMRkHSAWZBVV95cUxNeDlUWC1GS0hMWWhvLXRFSG1oMERTU29aRDRkU2NmTXNZWXpobVc5aFBLUWZ1OGNDZGNYSXE0cENHZnF5NGJfcEljMXJEN2VMRWI3UzU1cjVqVEpjcmYzTGtGVTZmSWc?oc=5\n"
     ]
    }
   ],
   "source": [
    "# 검색 질문 수행\n",
    "for chunk in app.stream(\n",
    "    {\"messages\": [(\"human\", \"search google news about GPT-5\")]},\n",
    "    stream_mode=\"values\",\n",
    "):\n",
    "    chunk[\"messages\"][-1].pretty_print()\n"
   ]
  }
 ],
 "metadata": {
  "kernelspec": {
   "display_name": "study-agent",
   "language": "python",
   "name": "python3"
  },
  "language_info": {
   "codemirror_mode": {
    "name": "ipython",
    "version": 3
   },
   "file_extension": ".py",
   "mimetype": "text/x-python",
   "name": "python",
   "nbconvert_exporter": "python",
   "pygments_lexer": "ipython3",
   "version": "3.11.12"
  }
 },
 "nbformat": 4,
 "nbformat_minor": 5
}
