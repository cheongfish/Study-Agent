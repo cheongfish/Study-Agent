{
 "cells": [
  {
   "cell_type": "markdown",
   "id": "19002013",
   "metadata": {},
   "source": [
    "## HITL\n",
    "`Human In The Loop`\n",
    "* 에이전트를 신뢰할 수 없으며, 업무를 수행하기 위해 인간의 입력이 필요할 수 있음\n",
    "* 사람이 직접 개입하여 승인에 대한 수요가 있을수 있음"
   ]
  },
  {
   "cell_type": "code",
   "execution_count": null,
   "id": "d87806e5",
   "metadata": {},
   "outputs": [],
   "source": [
    "# Set langsmith tracing\n",
    "from langchain_teddynote import logging\n",
    "from configs import llm\n",
    "# input your project name\n",
    "logging.langsmith(\"test_HITL\")"
   ]
  },
  {
   "cell_type": "markdown",
   "id": "ce4c27a6",
   "metadata": {},
   "source": [
    "### Practice"
   ]
  },
  {
   "cell_type": "code",
   "execution_count": null,
   "id": "34216bcf",
   "metadata": {},
   "outputs": [],
   "source": [
    "from typing import Annotated, List, Dict\n",
    "from typing_extensions import TypedDict\n",
    "\n",
    "from langchain_core.tools import tool\n",
    "from langgraph.checkpoint.memory import MemorySaver\n",
    "from langgraph.graph import StateGraph, START, END\n",
    "from langgraph.graph.message import add_messages\n",
    "from langgraph.prebuilt import ToolNode, tools_condition\n",
    "from langchain_teddynote.graphs import visualize_graph\n",
    "from langchain_teddynote.tools import GoogleNews"
   ]
  },
  {
   "cell_type": "code",
   "execution_count": null,
   "id": "432603e6",
   "metadata": {},
   "outputs": [],
   "source": [
    "# 상태 정의\n",
    "class State(TypedDict):\n",
    "    # 메시지 목록 주석 추가\n",
    "    messages: Annotated[list, add_messages]\n",
    "    \n",
    "# 도구 초기화\n",
    "# 키워드로 뉴스 검색하는 도구 생성\n",
    "news_tool = GoogleNews()\n",
    "\n",
    "\n",
    "@tool\n",
    "def search_keyword(query: str) -> List[Dict[str, str]]:\n",
    "    \"\"\"Look up news by keyword\"\"\"\n",
    "    news_tool = GoogleNews()\n",
    "    return news_tool.search_by_keyword(query, k=5)\n",
    "\n",
    "tools = [search_keyword]\n",
    "\n",
    "\n",
    "# 도구와 LLM 결합\n",
    "llm_with_tools = llm.bind_tools(tools)\n",
    "\n",
    "# 챗봇 함수 정의\n",
    "def chatbot(state: State):\n",
    "    # 메시지 호출 및 반환\n",
    "    return {\"messages\": [llm_with_tools.invoke(state[\"messages\"])]}"
   ]
  },
  {
   "cell_type": "code",
   "execution_count": null,
   "id": "09d7347b",
   "metadata": {},
   "outputs": [],
   "source": [
    "# 상태 그래프 생성\n",
    "graph_builder = StateGraph(State)\n",
    "\n",
    "# 챗봇 노드 추가\n",
    "graph_builder.add_node(\"chatbot\", chatbot)\n",
    "\n",
    "\n",
    "# 도구 노드 생성 및 추가\n",
    "tool_node = ToolNode(tools=tools)\n",
    "\n",
    "# 도구 노드 추가\n",
    "graph_builder.add_node(\"tools\", tool_node)\n",
    "\n",
    "# 조건부 엣지\n",
    "graph_builder.add_conditional_edges(\n",
    "    \"chatbot\",\n",
    "    tools_condition,\n",
    ")\n",
    "\n",
    "# 엣지 추가\n",
    "\n",
    "# tools > chatbot\n",
    "graph_builder.add_edge(\"tools\", \"chatbot\")\n",
    "\n",
    "# START > chatbot\n",
    "graph_builder.add_edge(START, \"chatbot\")\n",
    "\n",
    "# chatbot > END\n",
    "graph_builder.add_edge(\"chatbot\", END)"
   ]
  },
  {
   "cell_type": "code",
   "execution_count": null,
   "id": "c2274167",
   "metadata": {},
   "outputs": [],
   "source": [
    "# Set interrupt_before\n",
    "# 메모리 저장소 초기화\n",
    "memory = MemorySaver()\n",
    "# Graph Compile\n",
    "graph = graph_builder.compile(checkpointer=memory)"
   ]
  },
  {
   "cell_type": "code",
   "execution_count": null,
   "id": "56a3b5eb",
   "metadata": {},
   "outputs": [],
   "source": [
    "# Visualize graph\n",
    "visualize_graph(graph)"
   ]
  },
  {
   "cell_type": "code",
   "execution_count": null,
   "id": "d1e57483",
   "metadata": {},
   "outputs": [],
   "source": [
    "# Execute \n",
    "from langchain_teddynote.messages import pretty_print_messages\n",
    "from langchain_core.runnables import RunnableConfig\n",
    "\n",
    "# Initiate question\n",
    "\n",
    "question = \"LLM관련 최신 뉴스를 알려주세요\"\n",
    "# Initiate input\n",
    "input = State(\n",
    "    messages=[(\"user\",question)]\n",
    ")\n",
    "\n",
    "config = RunnableConfig(\n",
    "    recursion_limit = 10,\n",
    "    configurable={\n",
    "        \"thread_id\": \"1\"\n",
    "    },\n",
    "    tags=['test-rag'],\n",
    ")"
   ]
  },
  {
   "cell_type": "code",
   "execution_count": null,
   "id": "93f154a7",
   "metadata": {},
   "outputs": [],
   "source": [
    "# 인터럽트 선언한 상태로 스트림 출력 후 스냅샷 생성\n",
    "for event in graph.stream(\n",
    "    input=input,\n",
    "    config=config,\n",
    "    stream_mode=\"values\",\n",
    "    interrupt_before=['tools'],\n",
    "    ):\n",
    "    for k, v in event.items():\n",
    "        print(f\"\\n[{k}]\\n\")\n",
    "\n",
    "        # value 는 노드의 출력값\n",
    "        # print(value)\n",
    "        pretty_print_messages(v)\n",
    "\n",
    "        # value 에는 state 가 dict 형태로 저장(values 의 key 값)\n",
    "        if \"messages\" in v:\n",
    "            print(f\"메시지 개수: {len(v['messages'])}\")\n",
    "            \n",
    "# 그래프 상태 스냅샷 생성\n",
    "snapshot = graph.get_state(config)"
   ]
  },
  {
   "cell_type": "code",
   "execution_count": null,
   "id": "6160e4e8",
   "metadata": {},
   "outputs": [],
   "source": [
    "from langchain_teddynote.messages import display_message_tree\n",
    "\n",
    "# 메시지 스냅샷에서 마지막 메시지 추출\n",
    "existing_message = snapshot.values[\"messages\"][-1]\n",
    "\n",
    "# 메시지 트리 표시\n",
    "display_message_tree(existing_message.tool_calls)\n"
   ]
  },
  {
   "cell_type": "code",
   "execution_count": null,
   "id": "4294eb45",
   "metadata": {},
   "outputs": [],
   "source": [
    "events = graph.stream(None,config,stream_mode='values')"
   ]
  },
  {
   "cell_type": "code",
   "execution_count": null,
   "id": "99452444",
   "metadata": {},
   "outputs": [],
   "source": [
    "for event in events:\n",
    "    if \"messages\" in event:\n",
    "        event['messages'][-1].pretty_print()"
   ]
  },
  {
   "cell_type": "code",
   "execution_count": null,
   "id": "3182b804",
   "metadata": {},
   "outputs": [],
   "source": [
    "to_replay = None\n",
    "\n",
    "# 상태 기록 가져오기\n",
    "for state in graph.get_state_history(config):\n",
    "    # 메시지 수 및 다음 상태 출력\n",
    "    print(\"메시지 수: \", len(state.values[\"messages\"]), \"다음 노드: \", state.next)\n",
    "    print(\"-\" * 80)\n",
    "    # 특정 상태 선택 기준: 채팅 메시지 수\n",
    "    if len(state.values[\"messages\"]) == 3:\n",
    "        to_replay = state\n"
   ]
  },
  {
   "cell_type": "code",
   "execution_count": null,
   "id": "81403270",
   "metadata": {},
   "outputs": [],
   "source": [
    "to_replay.config"
   ]
  },
  {
   "cell_type": "code",
   "execution_count": null,
   "id": "4ab60ee2",
   "metadata": {},
   "outputs": [],
   "source": [
    "# `to_replay.config`는 `checkpoint_id`는 체크포인터에 저장된 상태에 해당\n",
    "for event in graph.stream(None, to_replay.config, stream_mode=\"values\"):\n",
    "    # 메시지가 이벤트에 포함된 경우\n",
    "    if \"messages\" in event:\n",
    "        # 마지막 메시지 출력\n",
    "        event[\"messages\"][-1].pretty_print()\n"
   ]
  },
  {
   "cell_type": "markdown",
   "id": "a4dea20b",
   "metadata": {},
   "source": [
    "### Manual Update State \n",
    "`에이전트의 실수 수정 및 대체 경로 탐색` </br>\n",
    "`에이전트의 동작 변경`\n",
    "* 중간 단계의 상태를 수동으로 업데이트 할 수 있음\n",
    "* 에이전트의 행동을 수정하여 경로를 제어할 수 있고, 과거를 수정할 수도 있음\n"
   ]
  },
  {
   "cell_type": "code",
   "execution_count": null,
   "id": "d0c559f6",
   "metadata": {},
   "outputs": [],
   "source": [
    "from typing import Annotated\n",
    "from typing_extensions import TypedDict\n",
    "\n",
    "from langchain_teddynote.tools.tavily import TavilySearch\n",
    "from langgraph.checkpoint.memory import MemorySaver\n",
    "from langgraph.graph import StateGraph, START, END\n",
    "from langgraph.graph.message import add_messages\n",
    "from langgraph.prebuilt import ToolNode, tools_condition\n",
    "from langchain_teddynote.graphs import visualize_graph"
   ]
  },
  {
   "cell_type": "code",
   "execution_count": null,
   "id": "cad42f30",
   "metadata": {},
   "outputs": [],
   "source": [
    "# 상태 정의\n",
    "class State(TypedDict):\n",
    "    # 메시지 목록 주석 추가\n",
    "    messages: Annotated[list, add_messages]\n",
    "\n",
    "\n",
    "# 도구 초기화\n",
    "tool = TavilySearch(max_results=3)\n",
    "\n",
    "# 도구 목록 정의\n",
    "tools = [tool]\n",
    "\n",
    "\n",
    "\n",
    "# 도구와 LLM 결합\n",
    "llm_with_tools = llm.bind_tools(tools)\n",
    "\n",
    "\n",
    "# 챗봇 함수 정의\n",
    "def chatbot(state: State):\n",
    "    # 메시지 호출 및 반환\n",
    "    return {\"messages\": [llm_with_tools.invoke(state[\"messages\"])]}"
   ]
  },
  {
   "cell_type": "code",
   "execution_count": null,
   "id": "1536029a",
   "metadata": {},
   "outputs": [],
   "source": [
    "# 상태 그래프 생성\n",
    "graph_builder = StateGraph(State)\n",
    "\n",
    "# 챗봇 노드 추가\n",
    "graph_builder.add_node(\"chatbot\", chatbot)\n",
    "\n",
    "\n",
    "# 도구 노드 생성 및 추가\n",
    "tool_node = ToolNode(tools=tools)\n",
    "\n",
    "# 도구 노드 추가\n",
    "graph_builder.add_node(\"tools\", tool_node)\n",
    "\n",
    "# 조건부 엣지\n",
    "graph_builder.add_conditional_edges(\n",
    "    \"chatbot\",\n",
    "    tools_condition,\n",
    ")\n",
    "\n",
    "########## 4. 엣지 추가 ##########\n",
    "\n",
    "# tools > chatbot\n",
    "graph_builder.add_edge(\"tools\", \"chatbot\")\n",
    "\n",
    "# START > chatbot\n",
    "graph_builder.add_edge(START, \"chatbot\")\n",
    "\n",
    "# chatbot > END\n",
    "graph_builder.add_edge(\"chatbot\", END)"
   ]
  },
  {
   "cell_type": "code",
   "execution_count": null,
   "id": "05ee28c3",
   "metadata": {},
   "outputs": [],
   "source": [
    "# 메모리 저장소 초기화\n",
    "memory = MemorySaver()\n",
    "\n",
    "# 그래프 빌더 컴파일\n",
    "graph = graph_builder.compile(checkpointer=memory)\n",
    "\n",
    "# 그래프 시각화\n",
    "visualize_graph(graph)\n"
   ]
  },
  {
   "cell_type": "code",
   "execution_count": null,
   "id": "3083bdf3",
   "metadata": {},
   "outputs": [],
   "source": [
    "from langchain_core.runnables import RunnableConfig\n",
    "\n",
    "# 질문\n",
    "question = \"LangGraph 가 무엇인지 조사하여 알려주세요!\"\n",
    "\n",
    "# 초기 입력 상태를 정의\n",
    "input = State(messages=[(\"user\", question)])\n",
    "\n",
    "# config 설정\n",
    "config = RunnableConfig(\n",
    "    configurable={\"thread_id\": \"1\"},  # 스레드 ID 설정\n",
    ")\n"
   ]
  },
  {
   "cell_type": "code",
   "execution_count": null,
   "id": "b7579061",
   "metadata": {},
   "outputs": [],
   "source": [
    "list(graph.channels)"
   ]
  },
  {
   "cell_type": "code",
   "execution_count": null,
   "id": "0412f511",
   "metadata": {},
   "outputs": [],
   "source": [
    "# 그래프 스트림 호출\n",
    "events = graph.stream(\n",
    "    input=input, config=config, interrupt_before=[\"tools\"], stream_mode=\"values\"\n",
    ")\n",
    "\n",
    "# 이벤트 반복 처리\n",
    "for event in events:\n",
    "    # 메시지가 이벤트에 포함된 경우\n",
    "    if \"messages\" in event:\n",
    "        # 마지막 메시지의 예쁜 출력\n",
    "        event[\"messages\"][-1].pretty_print()\n"
   ]
  },
  {
   "cell_type": "code",
   "execution_count": null,
   "id": "b0468e0c",
   "metadata": {},
   "outputs": [],
   "source": [
    "# 그래프 상태 스냅샷 생성\n",
    "snapshot = graph.get_state(config)\n",
    "\n",
    "# 가장 최근 메시지 추출\n",
    "last_message = snapshot.values[\"messages\"][-1]\n",
    "\n",
    "# 메시지 출력\n",
    "last_message.pretty_print()\n"
   ]
  },
  {
   "cell_type": "code",
   "execution_count": null,
   "id": "8d958eba",
   "metadata": {},
   "outputs": [],
   "source": [
    "last_message.tool_calls"
   ]
  },
  {
   "cell_type": "markdown",
   "id": "dd04c530",
   "metadata": {},
   "source": [
    "### Edit Message\n",
    "\n",
    "메시지를 수정하려면 수정하려는 메시지와 일치하는 `tool_call_id`를 지정해야함\n",
    "\n",
    "\n",
    "* 노드를 거친 결과가 맘에 들지 않을때, 사람이 중간에 개입하여 결과를 수정할 수 있음\n",
    "* 실습에선 `TavilySearch`노드의 결과를 수정할 예정임\n",
    "  * 사람이 수정한 웹 검색 결과를 만들어서 `Tool Message`를 수정 진행\n"
   ]
  },
  {
   "cell_type": "code",
   "execution_count": null,
   "id": "5ed6bc30",
   "metadata": {},
   "outputs": [],
   "source": [
    "modified_search_result = \"\"\"[수정된 웹 검색 결과] \n",
    "LangGraph는 상태 기반의 다중 액터 애플리케이션을 LLM을 활용해 구축할 수 있도록 지원합니다.\n",
    "LangGraph는 사이클 흐름, 제어 가능성, 지속성, 클라우드 배포 기능을 제공하는 오픈 소스 라이브러리입니다.\n",
    "\n",
    "자세한 튜토리얼은 [LangGraph 튜토리얼](https://langchain-ai.github.io/langgraph/tutorials/) 과\n",
    "테디노트의 [랭체인 한국어 튜토리얼](https://wikidocs.net/233785) 을 참고하세요.\"\"\"\n",
    "\n",
    "print(modified_search_result)\n"
   ]
  },
  {
   "cell_type": "code",
   "execution_count": null,
   "id": "949a371b",
   "metadata": {},
   "outputs": [],
   "source": [
    "# 수정하고자 하는 `ToolMessage` 의 `tool_call_id` 추출\n",
    "tool_call_id = last_message.tool_calls[0][\"id\"]\n",
    "print(tool_call_id)"
   ]
  },
  {
   "cell_type": "code",
   "execution_count": null,
   "id": "a3bf808a",
   "metadata": {},
   "outputs": [],
   "source": [
    "from langchain_core.messages import AIMessage, ToolMessage\n",
    "\n",
    "new_messages = [\n",
    "    # LLM API의 도구 호출과 일치하는 ToolMessage 필요\n",
    "    ToolMessage(\n",
    "        content=modified_search_result,\n",
    "        tool_call_id=tool_call_id,\n",
    "    ),\n",
    "    # LLM의 응답에 직접적으로 내용 추가\n",
    "    # AIMessage(content=modified_search_result),\n",
    "]\n",
    "\n",
    "new_messages[-1].pretty_print()\n"
   ]
  },
  {
   "cell_type": "markdown",
   "id": "01f6c17a",
   "metadata": {},
   "source": [
    "`StateGraph.update_state`\n",
    "* 주어진 값으로 그래프의 상태를 업데이트"
   ]
  },
  {
   "cell_type": "code",
   "execution_count": null,
   "id": "b9371f56",
   "metadata": {},
   "outputs": [],
   "source": [
    "graph.update_state(\n",
    "    # 업데이트할 상태 지정\n",
    "    config,\n",
    "    # 제공할 업데이트된 값. `State`의 메시지는 \"추가 전용\"으로 기존 상태에 추가됨\n",
    "    {\"messages\": new_messages},\n",
    "    as_node=\"tools\",\n",
    ")\n",
    "\n",
    "print(\"(최근 1개의 메시지 출력)\\n\")\n",
    "print(graph.get_state(config).values[\"messages\"][-1])\n"
   ]
  },
  {
   "cell_type": "code",
   "execution_count": null,
   "id": "7501c840",
   "metadata": {},
   "outputs": [],
   "source": [
    "snapshot = graph.get_state(config)\n",
    "snapshot.next\n"
   ]
  },
  {
   "cell_type": "code",
   "execution_count": null,
   "id": "9c71a9cf",
   "metadata": {},
   "outputs": [],
   "source": [
    "# `None`는 현재 상태에 아무것도 추가하지 않음\n",
    "events = graph.stream(None, config, stream_mode=\"values\")\n",
    "\n",
    "# 이벤트 반복 처리\n",
    "for event in events:\n",
    "    # 메시지가 이벤트에 포함된 경우\n",
    "    if \"messages\" in event:\n",
    "        # 마지막 메시지의 예쁜 출력\n",
    "        event[\"messages\"][-1].pretty_print()\n"
   ]
  },
  {
   "cell_type": "markdown",
   "id": "afe059d2",
   "metadata": {},
   "source": [
    "**After Interrupt, Message State update**\n",
    "* 다음 노드로 진행하기 전 인터럽트를 발생시켜 중단 후, 상태를 갱신한 후 이어서 진행"
   ]
  },
  {
   "cell_type": "code",
   "execution_count": null,
   "id": "5c54396c",
   "metadata": {},
   "outputs": [],
   "source": [
    "from langchain_teddynote.graphs import generate_random_hash\n",
    "\n",
    "thread_id = generate_random_hash()\n",
    "print(f\"thread_id: {thread_id}\")\n",
    "\n",
    "question = \"LangGraph 에 대해서 배워보고 싶습니다. 유용한 자료를 추천해 주세요!\"\n",
    "\n",
    "# 초기 입력 상태를 정의\n",
    "input = State(messages=[(\"user\", question)])\n",
    "\n",
    "# 새로운 config 생성\n",
    "config = {\"configurable\": {\"thread_id\": thread_id}}\n",
    "\n",
    "events = graph.stream(\n",
    "    input=input,\n",
    "    config=config,\n",
    "    interrupt_before=[\"tools\"],\n",
    "    stream_mode=\"values\",\n",
    ")\n",
    "for event in events:\n",
    "    if \"messages\" in event:\n",
    "        event[\"messages\"][-1].pretty_print()\n"
   ]
  },
  {
   "cell_type": "code",
   "execution_count": null,
   "id": "f60bef0f",
   "metadata": {},
   "outputs": [],
   "source": [
    "# config 를 복사\n",
    "config_copy = config.copy()\n",
    "\n",
    "from langchain_core.messages import AIMessage\n",
    "\n",
    "# 스냅샷 상태 가져오기\n",
    "snapshot = graph.get_state(config_copy)\n",
    "\n",
    "# messages 의 마지막 메시지 가져오기\n",
    "existing_message = snapshot.values[\"messages\"][-1]\n",
    "\n",
    "# 메시지 ID 출력\n",
    "print(\"Message ID\", existing_message.id)\n"
   ]
  },
  {
   "cell_type": "code",
   "execution_count": null,
   "id": "e4c5a711",
   "metadata": {},
   "outputs": [],
   "source": [
    "# 첫 번째 도구 호출 출력\n",
    "print(existing_message.tool_calls[0])"
   ]
  },
  {
   "cell_type": "code",
   "execution_count": null,
   "id": "e0ab9ed1",
   "metadata": {},
   "outputs": [],
   "source": [
    "# tool_calls 를 복사하여 새로운 도구 호출 생성\n",
    "new_tool_call = existing_message.tool_calls[0].copy()\n",
    "\n",
    "# 쿼리 매개변수 업데이트(갱신)\n",
    "new_tool_call[\"args\"] = {\"query\": \"LangGraph site:teddylee777.github.io\"}\n",
    "new_tool_call\n"
   ]
  },
  {
   "cell_type": "code",
   "execution_count": null,
   "id": "f8cae976",
   "metadata": {},
   "outputs": [],
   "source": [
    "# AIMessage 생성\n",
    "new_message = AIMessage(\n",
    "    content=existing_message.content,\n",
    "    tool_calls=[new_tool_call],\n",
    "    # 중요! ID는 메시지를 상태에 추가하는 대신 교체하는 방법\n",
    "    id=existing_message.id,\n",
    ")\n",
    "\n",
    "print(new_message.id)\n",
    "\n",
    "# 수정한 메시지 출력\n",
    "new_message.pretty_print()\n"
   ]
  },
  {
   "cell_type": "code",
   "execution_count": null,
   "id": "246f1bbd",
   "metadata": {},
   "outputs": [],
   "source": [
    "# 업데이트된 도구 호출 출력\n",
    "print(new_message.tool_calls[0])\n",
    "\n",
    "# 메시지 ID 출력\n",
    "print(\"\\nMessage ID\", new_message.id)\n",
    "\n",
    "# 상태 업데이트\n",
    "graph.update_state(config, {\"messages\": [new_message]})\n"
   ]
  },
  {
   "cell_type": "code",
   "execution_count": null,
   "id": "37f2912e",
   "metadata": {},
   "outputs": [],
   "source": [
    "# 마지막 메시지의 도구 호출 가져오기\n",
    "graph.get_state(config).values[\"messages\"][-1].tool_calls\n"
   ]
  },
  {
   "cell_type": "code",
   "execution_count": null,
   "id": "f4010309",
   "metadata": {},
   "outputs": [],
   "source": [
    "# 그래프 스트림에서 이벤트 수신\n",
    "events = graph.stream(None, config, stream_mode=\"values\")\n",
    "\n",
    "# 각 이벤트에 대한 처리\n",
    "for event in events:\n",
    "    # 메시지가 있는 경우 마지막 메시지 출력\n",
    "    if \"messages\" in event:\n",
    "        event[\"messages\"][-1].pretty_print()\n"
   ]
  },
  {
   "cell_type": "code",
   "execution_count": null,
   "id": "6a810861",
   "metadata": {},
   "outputs": [],
   "source": [
    "# 이벤트 스트림 생성\n",
    "events = graph.stream(\n",
    "    {\n",
    "        \"messages\": (\n",
    "            \"user\",\n",
    "            \"내가 지금까지 배운 내용에 대해서 매우 친절하고 정성스럽게 한국어로 답변해줘! 출처를 반드시 포함해줘!\",\n",
    "        )\n",
    "    },\n",
    "    config,\n",
    "    stream_mode=\"values\",\n",
    ")\n",
    "\n",
    "# 메시지 이벤트 처리\n",
    "for event in events:\n",
    "    if \"messages\" in event:\n",
    "        # 마지막 메시지 출력\n",
    "        event[\"messages\"][-1].pretty_print()\n"
   ]
  },
  {
   "cell_type": "code",
   "execution_count": null,
   "id": "f34a2f24",
   "metadata": {},
   "outputs": [],
   "source": [
    "# 최종 응답 메시지\n",
    "graph.get_state(config).values[\"messages\"][-1].pretty_print()\n"
   ]
  },
  {
   "cell_type": "markdown",
   "id": "82c15ad2",
   "metadata": {},
   "source": [
    "## Edit Result\n",
    "* 지난 스냅샷을 확인후, 특정 노드로 되돌아가서 상태 수정하여 해당 노드부터 재시작"
   ]
  },
  {
   "cell_type": "code",
   "execution_count": null,
   "id": "157b7391",
   "metadata": {},
   "outputs": [],
   "source": [
    "to_replay_state = None\n",
    "\n",
    "# 상태 기록 가져오기\n",
    "for state in graph.get_state_history(config):\n",
    "\n",
    "    messages = state.values[\"messages\"]\n",
    "\n",
    "    if len(messages) > 0:\n",
    "        print(state.values[\"messages\"][-1].id)\n",
    "        # 메시지 수 및 다음 상태 출력\n",
    "        print(\"메시지 수: \", len(state.values[\"messages\"]), \"다음 노드: \", state.next)\n",
    "        print(\"-\" * 80)\n",
    "        # 특정 상태 선택 기준: 채팅 메시지 수\n",
    "        if len(state.values[\"messages\"]) == 2:\n",
    "            # 특정 메시지 ID 선택\n",
    "            to_replay_state = state\n"
   ]
  },
  {
   "cell_type": "code",
   "execution_count": null,
   "id": "5726e9d1",
   "metadata": {},
   "outputs": [],
   "source": [
    "from langchain_teddynote.messages import display_message_tree\n",
    "\n",
    "# 선택한 메시지 가져오기\n",
    "existing_message = to_replay_state.values[\"messages\"][-1]\n",
    "\n",
    "# 메시지 트리 출력\n",
    "display_message_tree(existing_message)\n"
   ]
  },
  {
   "cell_type": "code",
   "execution_count": null,
   "id": "679b47ad",
   "metadata": {},
   "outputs": [],
   "source": [
    "tool_call = existing_message.tool_calls[0].copy()\n",
    "tool_call[\"args\"] = {\"query\": \"LangGraph human-in-the-loop workflow site:reddit.com\"}\n",
    "tool_call\n"
   ]
  },
  {
   "cell_type": "code",
   "execution_count": null,
   "id": "16d0cae6",
   "metadata": {},
   "outputs": [],
   "source": [
    "# AIMessage 생성\n",
    "new_message = AIMessage(\n",
    "    content=existing_message.content,\n",
    "    tool_calls=[tool_call],\n",
    "    # 중요! ID는 메시지를 상태에 추가하는 대신 교체하는 방법\n",
    "    id=existing_message.id,\n",
    ")\n",
    "\n",
    "# 수정한 메시지 출력\n",
    "new_message.tool_calls[0][\"args\"]\n"
   ]
  },
  {
   "cell_type": "code",
   "execution_count": null,
   "id": "9816a481",
   "metadata": {},
   "outputs": [],
   "source": [
    "# 업데이트 전 메시지 확인\n",
    "graph.get_state(to_replay_state.config).values[\"messages\"][-1].tool_calls\n"
   ]
  },
  {
   "cell_type": "code",
   "execution_count": null,
   "id": "4e96b00c",
   "metadata": {},
   "outputs": [],
   "source": [
    "# 상태 업데이트\n",
    "updated_state = graph.update_state(\n",
    "    to_replay_state.config,\n",
    "    {\"messages\": [new_message]},\n",
    ")\n",
    "updated_state\n"
   ]
  },
  {
   "cell_type": "code",
   "execution_count": null,
   "id": "6416fad4",
   "metadata": {},
   "outputs": [],
   "source": [
    "# config 에는 updated_state 를 전달합니다. 이는 임의로 갱신한 상태를 전달하는 것입니다.\n",
    "for event in graph.stream(None, updated_state, stream_mode=\"values\"):\n",
    "    # 메시지가 이벤트에 포함된 경우\n",
    "    if \"messages\" in event:\n",
    "        # 마지막 메시지 출력\n",
    "        event[\"messages\"][-1].pretty_print()\n"
   ]
  }
 ],
 "metadata": {
  "kernelspec": {
   "display_name": "study-agent",
   "language": "python",
   "name": "python3"
  },
  "language_info": {
   "codemirror_mode": {
    "name": "ipython",
    "version": 3
   },
   "file_extension": ".py",
   "mimetype": "text/x-python",
   "name": "python",
   "nbconvert_exporter": "python",
   "pygments_lexer": "ipython3",
   "version": "3.11.12"
  }
 },
 "nbformat": 4,
 "nbformat_minor": 5
}
