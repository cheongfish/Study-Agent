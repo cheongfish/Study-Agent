{
 "cells": [
  {
   "cell_type": "markdown",
   "id": "bb336594",
   "metadata": {},
   "source": [
    "## 1. State\n",
    "* 모든 노드가 공유하는 데이터 저장소\n",
    "* 공용 화이트 보드\n",
    "* 모든 노드가 같은 State에 접근하고 수정할 수 있음\n",
    "    * Race Condition 발생 우려"
   ]
  },
  {
   "cell_type": "code",
   "execution_count": 1,
   "id": "26660006",
   "metadata": {},
   "outputs": [],
   "source": [
    "# Simple State\n",
    "from typing import TypedDict\n",
    "class SimpleState(TypedDict):\n",
    "    name: str\n",
    "    count: int"
   ]
  },
  {
   "cell_type": "markdown",
   "id": "89dfdc1f",
   "metadata": {},
   "source": [
    "## 2. Node\n",
    "* 실제 작업을 수행하는 Python Function\n",
    "  * Class로도 정의할 수 있음\n",
    "  * 현재 상태를 입력으로 받아서 새로운 상태를 결과값으로 반환함\n",
    "\n",
    "**정의 규칙** \n",
    "1. 항상 `state`를 첫 매개변수로 받아야함\n",
    "2. 딕셔너리 형태로 새로운 상태를 반환해야함\n",
    "3. 반환되지 않은 필드는 기존값을 유지해야함"
   ]
  },
  {
   "cell_type": "code",
   "execution_count": 2,
   "id": "83d45a23",
   "metadata": {},
   "outputs": [],
   "source": [
    "# Simple Nodes\n",
    "\n",
    "# Count를 증가하는 node\n",
    "def add_count(state):\n",
    "    return {\"count\" : state[\"count\"] + 1 }\n",
    "\n",
    "# 이름을 설정하는 노드\n",
    "def set_name(state):\n",
    "    return {\"name\": \"Cheongwoon\"}"
   ]
  },
  {
   "cell_type": "markdown",
   "id": "e5afbe7a",
   "metadata": {},
   "source": [
    "## 3. Edge\n",
    "* 노드와 노드 사이를 연결하는 객체\n",
    "* A작업 진행 후 B 작업을 진행하자고 알려주는 역할"
   ]
  },
  {
   "cell_type": "code",
   "execution_count": 3,
   "id": "a415c44d",
   "metadata": {},
   "outputs": [
    {
     "data": {
      "text/plain": [
       "<langgraph.graph.state.StateGraph at 0x7786bee28f50>"
      ]
     },
     "execution_count": 3,
     "metadata": {},
     "output_type": "execute_result"
    }
   ],
   "source": [
    "# Simple Edges\n",
    "from langgraph.graph import StateGraph, START, END\n",
    "# define StateGraph with defined State\n",
    "graph = StateGraph(SimpleState)\n",
    "\n",
    "# Connect nodes\n",
    "graph.add_node('add_count',add_count) # add_count node 추가\n",
    "graph.add_node('set_name',set_name) # set_name node 추가\n",
    "\n",
    "# Connect Edge\n",
    "graph.add_edge(\"add_count\",\"set_name\")\n",
    "\n",
    "# START > add_count\n",
    "graph.add_edge(START, \"add_count\")\n",
    "# set_name > END\n",
    "graph.add_edge(\"set_name\", END)"
   ]
  },
  {
   "cell_type": "markdown",
   "id": "559cfea3",
   "metadata": {},
   "source": [
    "## 4. Execute\n",
    "1. 정의한 그래프를 컴파일하여 객체를 선언\n",
    "2. 선언한 객체에 입력값 주입 (`invoke`)"
   ]
  },
  {
   "cell_type": "code",
   "execution_count": 5,
   "id": "5688b170",
   "metadata": {},
   "outputs": [
    {
     "data": {
      "image/png": "[encoded data removed]",
      "text/plain": [
       "<IPython.core.display.Image object>"
      ]
     },
     "metadata": {},
     "output_type": "display_data"
    }
   ],
   "source": [
    "from langchain_teddynote.graphs import visualize_graph\n",
    "# 그래프 컴파일\n",
    "app = graph.compile()\n",
    "# 그래프 시각화\n",
    "visualize_graph(app)"
   ]
  },
  {
   "cell_type": "code",
   "execution_count": 6,
   "id": "2ea4bb73",
   "metadata": {},
   "outputs": [
    {
     "name": "stdout",
     "output_type": "stream",
     "text": [
      "{'name': 'Cheongwoon', 'count': 30}\n"
     ]
    }
   ],
   "source": [
    "result = app.invoke(\n",
    "    {\n",
    "        \"count\" : 29,\n",
    "        \"name\": \" \"\n",
    "    }\n",
    ")\n",
    "print(result)"
   ]
  }
 ],
 "metadata": {
  "kernelspec": {
   "display_name": "study-agent",
   "language": "python",
   "name": "python3"
  },
  "language_info": {
   "codemirror_mode": {
    "name": "ipython",
    "version": 3
   },
   "file_extension": ".py",
   "mimetype": "text/x-python",
   "name": "python",
   "nbconvert_exporter": "python",
   "pygments_lexer": "ipython3",
   "version": "3.11.12"
  }
 },
 "nbformat": 4,
 "nbformat_minor": 5
}
