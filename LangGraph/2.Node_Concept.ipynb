{
 "cells": [
  {
   "cell_type": "markdown",
   "id": "1449f73f",
   "metadata": {},
   "source": [
    "## 개념 및 특징\n",
    "* LangGraph에서 실제 작업을 수행하는 기본 실행 단위\n",
    "* 각 노드는 그래프의 한 단계를 나타내며, 데이터를 처리하고 반환하는 역할 수행\n",
    "\n",
    "**핵심 특징**\n",
    "* 함수 기반: Python 함수로 구현\n",
    "* 상태 중심: 현재 상태를 입력으로 받아 처리\n",
    "* 독립적 실행: 각 노드는 독립적으로 실행 가능\n",
    "* 조합 가능: 여러 노드를 연결하여 복잡한 워크플로우 구성\n",
    "\n",
    "**주요 설계 특징 및 장점**\n",
    "* **모듈성과 재사용성**\n",
    "  * 명확한 입출력을 가진 독립적인 단위로 설계되어 다른 그래프나 워크플로우에서 쉽게 재사용할 수 있음\n",
    "* **타입 안전성**\n",
    "  * `TypedDict`를 활용한 상태 스키마를 통해 개발 단계에서 오류를 방지하고 유지보수를 용이하게 함\n",
    "* **유연한 상태 업데이트**\n",
    "  * 단순 덮어쓰기 외에 `Reducer`를 사용하여 복잡한 상태 병합 로직을 구현할 수 있음\n"
   ]
  },
  {
   "cell_type": "code",
   "execution_count": 1,
   "id": "1da25ee6",
   "metadata": {},
   "outputs": [
    {
     "data": {
      "text/plain": [
       "<langgraph.graph.state.StateGraph at 0x7a8488ffe210>"
      ]
     },
     "execution_count": 1,
     "metadata": {},
     "output_type": "execute_result"
    }
   ],
   "source": [
    "# Basic Node Structure\n",
    "\n",
    "from typing import TypedDict, Dict, Any\n",
    "from langgraph.graph import StateGraph\n",
    "from langgraph.graph import MessagesState\n",
    "# Init state\n",
    "class State(MessagesState):\n",
    "    counter: int\n",
    "    status: str\n",
    "    \n",
    "# Basic Node Function\n",
    "def increment(state):\n",
    "    \"\"\"\n",
    "    가장 간단한 형태의 노드, 카운터 값을 받아서 1 증가시키는 함수\n",
    "\n",
    "    Args:\n",
    "        state: 현재 그래프의 상태\n",
    "    \"\"\"\n",
    "    # 현재 상태에서 카운터 값 가져오기\n",
    "    counter = state['counter']\n",
    "    \n",
    "    # 함수 로직 수행\n",
    "    new_counter = counter + 1\n",
    "    \n",
    "    # 업데이트된 상태 반환\n",
    "    return {\n",
    "        \"counter\": new_counter,\n",
    "        \"messages\": f\"Updated counter to {new_counter}\",\n",
    "        \"status\": \"Incremented\"\n",
    "    }\n",
    "    \n",
    "# Add graph & node\n",
    "_graph = StateGraph(State)\n",
    "_graph.add_node(\"increment\", increment) # 노드 이름과 함수 매핑해야함"
   ]
  },
  {
   "cell_type": "code",
   "execution_count": 2,
   "id": "0059ecad",
   "metadata": {},
   "outputs": [],
   "source": [
    "# Standard Node I/O Pattern\n",
    "\n",
    "def standard_node(state: State) -> Dict[str, Any]:\n",
    "    \"\"\"\n",
    "    표준 노드 패턴\n",
    "\n",
    "    입력: 전체 상태\n",
    "    출력: 업데이트할 필드만 포함한 딕셔너리\n",
    "    \"\"\"\n",
    "    # 1. 상태에서 필요한 데이터 추출\n",
    "    input_data = state.get(\"input_field\", \"default_value\")\n",
    "\n",
    "    # 2. 처리 로직 수행\n",
    "    processed_data = process_data(input_data)\n",
    "\n",
    "    # 3. 업데이트할 필드만 반환\n",
    "    # 반환하지 않은 필드는 그대로 유지됨\n",
    "    return {\n",
    "        \"output_field\": processed_data,\n",
    "        \"processed\": True\n",
    "    }\n",
    "\n",
    "def process_data(data):\n",
    "    \"\"\"데이터 처리 로직\"\"\"\n",
    "    return f\"Processed: {data}\"\n"
   ]
  },
  {
   "cell_type": "markdown",
   "id": "7eb05fbf",
   "metadata": {},
   "source": [
    "## 핵심 역할\n",
    "`확장 가능하고 유지보수가 용이한 아키텍처를 구축하는 데 핵심적인 독립적인 처리 단위`\n",
    "\n",
    "* 정의\n",
    "  * LangGraph 노드는 그래프 내에서 특정 작업을 수행하는 **독립적인 처리 단위**.\n",
    "* **작동 방식**\n",
    "  * 입력 상태를 받아 특정 로직을 실행하고, 그 결과를 다시 상태로 반환하는 **함수형 패러다임**\n",
    "* **특징**\n",
    "  * 모든 노드는 공통된 **상태 스키마**를 통해 데이터를 주고받으며, 복잡한 워크플로우에서도 일관된 데이터 흐름을 보장함"
   ]
  },
  {
   "cell_type": "markdown",
   "id": "5f0f4bf5",
   "metadata": {},
   "source": [
    "### 주요 책임\n",
    "* **데이터 변환 및 처리**\n",
    "  * 원시 데이터를 구조화하거나, 계산을 수행하거나, 외부 API와 통신하는 역할\n",
    "* **상태 관리**\n",
    "  * 애플리케이션의 현재 상태를 읽고 필요한 변경사항을 적용하고, 다음 단계로 전달할 정보를 준비\n",
    "* **흐름 제어**\n",
    "  * 조건부 로직을 통해 다음에 실행될 노드를 동적으로 결정하거나, 특정 조건에서 실행을 종료시킴"
   ]
  },
  {
   "cell_type": "markdown",
   "id": "c92a1a2d",
   "metadata": {},
   "source": [
    "### 상태 처리 노드 구현"
   ]
  },
  {
   "cell_type": "code",
   "execution_count": 3,
   "id": "dc3f4dcb",
   "metadata": {},
   "outputs": [],
   "source": [
    "from datetime import datetime\n",
    "from langgraph.graph import START,END\n",
    "class DataState(TypedDict):\n",
    "    raw_data: str\n",
    "    processed_data: dict\n",
    "    metadata: dict\n",
    "\n",
    "def data_processor_node(state: DataState) -> Dict[str, Any]:\n",
    "    \"\"\"\n",
    "    상태 처리 노드\n",
    "    원시 데이터를 받아 구조화된 데이터로 변환\n",
    "    \"\"\"\n",
    "    raw_data = state[\"raw_data\"]\n",
    "\n",
    "    # 데이터 파싱\n",
    "    lines = raw_data.strip().split('\\n')\n",
    "\n",
    "    # 구조화\n",
    "    processed = {\n",
    "        \"total_lines\": len(lines),\n",
    "        \"content\": lines,\n",
    "        \"first_line\": lines[0] if lines else \"\",\n",
    "        \"last_line\": lines[-1] if lines else \"\"\n",
    "    }\n",
    "\n",
    "    # 메타데이터 생성\n",
    "    metadata = {\n",
    "        \"processed_at\": datetime.now().isoformat(),\n",
    "        \"processor_version\": \"1.0.0\",\n",
    "        \"data_size\": len(raw_data)\n",
    "    }\n",
    "\n",
    "    return {\n",
    "        \"processed_data\": processed,\n",
    "        \"metadata\": metadata\n",
    "    }"
   ]
  },
  {
   "cell_type": "code",
   "execution_count": 4,
   "id": "9dd692d5",
   "metadata": {},
   "outputs": [
    {
     "data": {
      "image/png": "[encoded data removed]",
      "text/plain": [
       "<IPython.core.display.Image object>"
      ]
     },
     "metadata": {},
     "output_type": "display_data"
    }
   ],
   "source": [
    "from langchain_teddynote.graphs import visualize_graph\n",
    "# Initiate Graph add Nodes\n",
    "_graph = StateGraph(DataState)\n",
    "_graph.add_node('data_process',data_processor_node)\n",
    "_graph.add_edge(START,\"data_process\")\n",
    "_graph.add_edge(\"data_process\",END)\n",
    "\n",
    "# 그래프 시각화\n",
    "graph = _graph.compile()\n",
    "visualize_graph(graph)\n"
   ]
  },
  {
   "cell_type": "code",
   "execution_count": 5,
   "id": "6fa2a946",
   "metadata": {},
   "outputs": [
    {
     "name": "stdout",
     "output_type": "stream",
     "text": [
      "{'metadata': {'data_size': 44,\n",
      "              'processed_at': '2025-08-20T19:07:41.614867',\n",
      "              'processor_version': '1.0.0'},\n",
      " 'processed_data': {'content': ['안녕하세요 제 이름은 김청운 입니다.',\n",
      "                                '오늘은 2025년 8월 20일 입니다.'],\n",
      "                    'first_line': '안녕하세요 제 이름은 김청운 입니다.',\n",
      "                    'last_line': '오늘은 2025년 8월 20일 입니다.',\n",
      "                    'total_lines': 2},\n",
      " 'raw_data': '\\n안녕하세요 제 이름은 김청운 입니다.\\n오늘은 2025년 8월 20일 입니다.\\n'}\n"
     ]
    }
   ],
   "source": [
    "# Execute Graph\n",
    "from pprint import pprint\n",
    "raw_data = \"\"\"\n",
    "안녕하세요 제 이름은 김청운 입니다.\n",
    "오늘은 2025년 8월 20일 입니다.\n",
    "\"\"\"\n",
    "init_config = DataState(\n",
    "    {\n",
    "        \"raw_data\": raw_data,\n",
    "        \"processed_data\": {},\n",
    "        \"metadata\": {}\n",
    "        }\n",
    ")\n",
    "result = graph.invoke(input = init_config)\n",
    "pprint(result)"
   ]
  },
  {
   "cell_type": "markdown",
   "id": "0a35f4e9",
   "metadata": {},
   "source": [
    "### 로직 실행 노드 구현"
   ]
  },
  {
   "cell_type": "code",
   "execution_count": 6,
   "id": "dd6ecf4c",
   "metadata": {},
   "outputs": [],
   "source": [
    "class CalculationState(TypedDict):\n",
    "    numbers: list[float]\n",
    "    operation: str\n",
    "    result: float\n",
    "    history: list[dict]\n",
    "\n",
    "def calculator_node(state: CalculationState) -> Dict[str, Any]:\n",
    "    \"\"\"\n",
    "    비즈니스 로직 실행 노드\n",
    "    수학 연산을 수행하고 결과를 저장\n",
    "    \"\"\"\n",
    "    numbers = state[\"numbers\"]\n",
    "    operation = state[\"operation\"]\n",
    "\n",
    "    # 연산 수행\n",
    "    if operation == \"sum\":\n",
    "        result = sum(numbers)\n",
    "    elif operation == \"multiply\":\n",
    "        result = 1\n",
    "        for num in numbers:\n",
    "            result *= num\n",
    "    elif operation == \"average\":\n",
    "        result = sum(numbers) / len(numbers) if numbers else 0\n",
    "    else:\n",
    "        raise ValueError(f\"Unknown operation: {operation}\")\n",
    "\n",
    "    # 히스토리 업데이트\n",
    "    history_entry = {\n",
    "        \"operation\": operation,\n",
    "        \"inputs\": numbers,\n",
    "        \"result\": result,\n",
    "        \"timestamp\": datetime.now().isoformat()\n",
    "    }\n",
    "\n",
    "    return {\n",
    "        \"result\": result,\n",
    "        \"history\": [history_entry]  # 리듀서가 있다면 누적됨\n",
    "    }"
   ]
  },
  {
   "cell_type": "code",
   "execution_count": 7,
   "id": "51777c33",
   "metadata": {},
   "outputs": [
    {
     "data": {
      "image/png": "[encoded data removed]",
      "text/plain": [
       "<IPython.core.display.Image object>"
      ]
     },
     "metadata": {},
     "output_type": "display_data"
    }
   ],
   "source": [
    "from langchain_teddynote.graphs import visualize_graph\n",
    "# Initiate Graph add Nodes\n",
    "_logic_graph = StateGraph(CalculationState)\n",
    "_logic_graph.add_node('calculator_node',calculator_node)\n",
    "_logic_graph.add_edge(START,\"calculator_node\")\n",
    "_logic_graph.add_edge(\"calculator_node\",END)\n",
    "\n",
    "# 그래프 시각화\n",
    "logic_graph = _logic_graph.compile()\n",
    "visualize_graph(logic_graph)\n"
   ]
  },
  {
   "cell_type": "code",
   "execution_count": 8,
   "id": "dc339b69",
   "metadata": {},
   "outputs": [
    {
     "name": "stdout",
     "output_type": "stream",
     "text": [
      "{'history': [{'inputs': [1, 2, 3, 4, 5, 6],\n",
      "              'operation': 'sum',\n",
      "              'result': 21,\n",
      "              'timestamp': '2025-08-20T19:07:41.921288'}],\n",
      " 'numbers': [1, 2, 3, 4, 5, 6],\n",
      " 'operation': 'sum',\n",
      " 'result': 21}\n"
     ]
    }
   ],
   "source": [
    "# Execute Graph\n",
    "from pprint import pprint\n",
    "init_config = CalculationState(\n",
    "    {\n",
    "        \"numbers\": [1,2,3,4,5,6],\n",
    "        \"operation\": \"sum\",\n",
    "        \"history\": [],\n",
    "        \"result\":0\n",
    "    }\n",
    ")\n",
    "result = logic_graph.invoke(input = init_config)\n",
    "pprint(result)"
   ]
  },
  {
   "cell_type": "markdown",
   "id": "a6bf6b79",
   "metadata": {},
   "source": [
    "### 상태 업데이트 노드 구현"
   ]
  },
  {
   "cell_type": "code",
   "execution_count": 9,
   "id": "0165e890",
   "metadata": {},
   "outputs": [],
   "source": [
    "from typing import Annotated\n",
    "import operator\n",
    "\n",
    "class UpdateState(TypedDict):\n",
    "    counter: int\n",
    "    items: Annotated[list, operator.add]  # 리듀서 적용\n",
    "    flags: dict\n",
    "\n",
    "def update_node(state: UpdateState) -> Dict[str, Any]:\n",
    "    \"\"\"\n",
    "    상태 업데이트 노드\n",
    "    다양한 업데이트 패턴 시연\n",
    "    \"\"\"\n",
    "    # 1. 단순 덮어쓰기\n",
    "    new_counter = state[\"counter\"] + 1\n",
    "\n",
    "    # 2. 리스트에 추가 (리듀서 활용)\n",
    "    new_items = [\"new_item\"]\n",
    "\n",
    "    # 3. 딕셔너리 부분 업데이트\n",
    "    updated_flags = state[\"flags\"].copy()\n",
    "    updated_flags[\"processed\"] = True\n",
    "    updated_flags[\"node_name\"] = \"update_node\"\n",
    "\n",
    "    return {\n",
    "        \"counter\": new_counter,      # 덮어쓰기\n",
    "        \"items\": new_items,          # 리듀서로 추가\n",
    "        \"flags\": updated_flags       # 전체 교체\n",
    "    }\n"
   ]
  },
  {
   "cell_type": "code",
   "execution_count": 10,
   "id": "afea094f",
   "metadata": {},
   "outputs": [
    {
     "data": {
      "image/png": "[encoded data removed]",
      "text/plain": [
       "<IPython.core.display.Image object>"
      ]
     },
     "metadata": {},
     "output_type": "display_data"
    }
   ],
   "source": [
    "from langchain_teddynote.graphs import visualize_graph\n",
    "# Initiate Graph add Nodes\n",
    "_state_update_graph = StateGraph(UpdateState)\n",
    "_state_update_graph.add_node('update_node',update_node)\n",
    "_state_update_graph.add_edge(START,\"update_node\")\n",
    "_state_update_graph.add_edge(\"update_node\",END)\n",
    "\n",
    "# 그래프 시각화\n",
    "state_update_graph = _state_update_graph.compile()\n",
    "visualize_graph(state_update_graph)\n"
   ]
  },
  {
   "cell_type": "code",
   "execution_count": 11,
   "id": "5848cfe6",
   "metadata": {},
   "outputs": [
    {
     "name": "stdout",
     "output_type": "stream",
     "text": [
      "{'counter': 1,\n",
      " 'flags': {'node_name': 'update_node', 'processed': True},\n",
      " 'items': ['A', 'B', 'new_item']}\n"
     ]
    }
   ],
   "source": [
    "# Execute Graph\n",
    "from pprint import pprint\n",
    "init_config = UpdateState(\n",
    "    {\n",
    "        \"counter\":0,\n",
    "        \"flags\": {},\n",
    "        \"items\": [\"A\",\"B\"]\n",
    "        \n",
    "    }\n",
    ")\n",
    "result = state_update_graph.invoke(init_config)\n",
    "pprint(result)"
   ]
  },
  {
   "cell_type": "markdown",
   "id": "6d396b5b",
   "metadata": {},
   "source": [
    "## 노드의 구성(Configuration)\n",
    "* 런타임에 노드를 동적으로 조정할 수 있는 메커니즘\n",
    "* 같은 그래프 구조를 유지하면서 다양한 설정에 따라 처리방식 적용할 수 있음\n",
    "\n",
    "### RunnableConfig\n",
    "* LangChain의 핵심 객체\n",
    "* 노드가 실행될 때 런타임 설정을 전달함\n",
    "* 동적 유연성을 부여하며, 실행 시점에 다양한 구성 값들을 참조하여 로직 수행\n",
    "\n",
    "### **구성 접근 및 관리**\n",
    "\n",
    "* **계층적 구조**\n",
    "    - `config.get(\"configurable\", {})` 를 통해 사용자 정의 구성에 접근하며, 기본값을 설정해 안정성을 확보함\n",
    "* **전파 및 상속**\n",
    "    - 부모 그래프의 구성이 하위 노드로 자동으로 전파되며, 필요에 따라 특정 노드에서 설정을 재정의(오버라이드)할 수 있어 계층적인 관리가 용이함\n",
    "\n",
    "### **주요 활용 분야**\n",
    "\n",
    "* **모델 및 매개변수 조정**\n",
    "  * 런타임에 다른 LLM 모델을 선택하거나, **temperature**, **max_tokens** 같은 매개변수를 동적으로 변경할 수 있음\n",
    "* **오류 및 재시도 정책**\n",
    "  * 최대 재시도 횟수나 타임아웃 설정을 환경이나 요청의 중요도에 따라 다르게 적용할 수 있음\n",
    "* **환경별 설정**\n",
    "  * 개발, 테스트, 프로덕션 환경에 따라 데이터베이스 연결, API 엔드포인트, 로깅 수준 등을 다르게 설정할 수 있음\n",
    "* **동적 처리 로직**\n",
    "  * 구성 값에 따라 간단한 휴리스틱 알고리즘이나 복잡한 AI 모델 등 완전히 다른 처리 방식을 선택하여 성능과 정확도 사이의 균형을 조절할 수 있음\n",
    "* **사용자별 개인화**\n",
    "  * 사용자 ID나 권한 레벨을 전달하여 같은 노드라도 사용자별로 다른 데이터 접근 권한이나 처리 방식을 적용할 수 있음\n",
    "* **성능 최적화**\n",
    "  * 리소스 환경에 따라 간단하거나 복잡한 모델을 동적으로 선택할 수 있으며, 캐싱, 배치 처리, 병렬 실행 등 최적화 기법을 제어할 수 있음\n",
    "\n",
    "\n"
   ]
  },
  {
   "cell_type": "code",
   "execution_count": 15,
   "id": "7c8efc24",
   "metadata": {},
   "outputs": [],
   "source": [
    "from langchain_core.runnables import RunnableConfig\n",
    "class ConfState(TypedDict):\n",
    "    input:str\n",
    "    output:str\n",
    "    config_used:dict\n",
    "\n",
    "test_config = {\n",
    "    \"configurable\": {\n",
    "        \"model\": \"test\",\n",
    "        \"temperature\": 0.5,\n",
    "        \"max_retries\": 4\n",
    "    }\n",
    "}\n",
    "\n",
    "\n",
    "def configurable_node(\n",
    "    state:ConfState,\n",
    "    config:RunnableConfig,\n",
    "    ) -> Dict[str, Any]:\n",
    "    \"\"\"\n",
    "    구성 가능한 노드\n",
    "    런타임에 동작을 조정할 수 있음\n",
    "\n",
    "    Args:\n",
    "        state: 현재 상태\n",
    "        config: 런타임 구성\n",
    "    \"\"\"\n",
    "    # 구성에서 값 가져오기\n",
    "    model_name = config.get(\"configurable\", {}).get(\"model\", \"default\")\n",
    "    temperature = config.get(\"configurable\", {}).get(\"temperature\", 0.7)\n",
    "    max_retries = config.get(\"configurable\", {}).get(\"max_retries\", 3)\n",
    "\n",
    "    print(f\"Using model: {model_name}, temperature: {temperature}\")\n",
    "\n",
    "    # 구성에 따른 처리\n",
    "    result = None\n",
    "    for attempt in range(max_retries):\n",
    "        try:\n",
    "            result = process_with_model(\n",
    "                state[\"input\"],\n",
    "                model=model_name,\n",
    "                temperature=temperature\n",
    "            )\n",
    "            break\n",
    "        except Exception as e:\n",
    "            print(f\"Attempt {attempt + 1} failed: {e}\")\n",
    "            if attempt == max_retries - 1:\n",
    "                result = \"Failed after all retries\"\n",
    "\n",
    "    return {\n",
    "        \"output\": result,\n",
    "        \"config_used\": {\n",
    "            \"model\": model_name,\n",
    "            \"temperature\": temperature,\n",
    "            \"retries\": max_retries\n",
    "        }\n",
    "    }\n",
    "\n",
    "def process_with_model(\n",
    "    input_data:str,\n",
    "    model:str,\n",
    "    temperature: float\n",
    "    ):\n",
    "    \"\"\"모델을 사용한 처리 (시뮬레이션)\"\"\"\n",
    "    return f\"Processed with {model} at temperature {temperature}: {input_data}\"\n"
   ]
  },
  {
   "cell_type": "code",
   "execution_count": 16,
   "id": "4f4840ab",
   "metadata": {},
   "outputs": [
    {
     "data": {
      "image/png": "[encoded data removed]",
      "text/plain": [
       "<IPython.core.display.Image object>"
      ]
     },
     "metadata": {},
     "output_type": "display_data"
    }
   ],
   "source": [
    "from langchain_teddynote.graphs import visualize_graph\n",
    "# Initiate Graph add Nodes\n",
    "_conf_graph = StateGraph(ConfState)\n",
    "_conf_graph.add_node('configurable_node',configurable_node)\n",
    "_conf_graph.add_edge(START,\"configurable_node\")\n",
    "_conf_graph.add_edge(\"configurable_node\",END)\n",
    "\n",
    "# 그래프 시각화\n",
    "conf_graph = _conf_graph.compile()\n",
    "visualize_graph(conf_graph)\n"
   ]
  },
  {
   "cell_type": "code",
   "execution_count": 17,
   "id": "3d1c80ed",
   "metadata": {},
   "outputs": [
    {
     "name": "stdout",
     "output_type": "stream",
     "text": [
      "Using model: default, temperature: 0.7\n",
      "{'config_used': {'model': 'default', 'retries': 3, 'temperature': 0.7},\n",
      " 'input': 'hello World!',\n",
      " 'output': 'Processed with default at temperature 0.7: hello World!'}\n"
     ]
    }
   ],
   "source": [
    "# Execute Graph\n",
    "from pprint import pprint\n",
    "init_config = ConfState(\n",
    "    {\n",
    "        \"input\":\"hello World!\",\n",
    "        \"output\": \"\",\n",
    "        \"config_used\":{}\n",
    "    }\n",
    ")\n",
    "result = conf_graph.invoke(input = init_config)\n",
    "pprint(result)"
   ]
  }
 ],
 "metadata": {
  "kernelspec": {
   "display_name": "study-agent",
   "language": "python",
   "name": "python3"
  },
  "language_info": {
   "codemirror_mode": {
    "name": "ipython",
    "version": 3
   },
   "file_extension": ".py",
   "mimetype": "text/x-python",
   "name": "python",
   "nbconvert_exporter": "python",
   "pygments_lexer": "ipython3",
   "version": "3.11.12"
  }
 },
 "nbformat": 4,
 "nbformat_minor": 5
}
