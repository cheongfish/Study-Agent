{
 "cells": [
  {
   "cell_type": "markdown",
   "id": "8958f5ff",
   "metadata": {},
   "source": [
    "## 개념과 구조\n",
    "``상태관리 능력``\n",
    "\n",
    "각 서브 그래프는 자신만의 고유한 상태 정의 및 관리 가능하며 부모그래프와 공유할 수 있음 </br>\n",
    "상태관리는 체크포인터를 통해 이루어지며, 실행중인 상태를 저장하고 복원할 수 있어서 복잡한 워크플로우 구현 가능\n",
    "\n",
    "* LnagGraph에서 복잡한 시스템을 관리 가능한 모듈화 할 수 있는 개념\n",
    "* 더 큰 그래프 내에서 독립적으로 실행되는 작은 단위의 그래프\n",
    "* 자체적인 상태,노드,엣지를 가질 수 있음\n",
    "* 부모그래프와 상태를 공유하거나 독립할 수 있어서, 시스템 설계의 유연성 향상"
   ]
  },
  {
   "cell_type": "markdown",
   "id": "54e2396f",
   "metadata": {},
   "source": [
    "## 설계 원칙\n",
    "\n",
    "`단일 책임 원칙`\n",
    "`알관성 유지`\n",
    "\n",
    "* 각 서브그래프는 `명확한 하나의 책임을 가져야함`\n",
    "* `서브 그래프 간 의존성을 최소화`\n",
    "* 명확한 인터페이스를 정의하며 `느슨한 결합`\n",
    "* 순환 참조를 피하고, `적절한 상태 범위` 설정\n",
    "* 명확한 `에러 처리 로직` 구현\n",
    "* `적절한 깊이 제한` , `불필요한 상태 공유 최소화`"
   ]
  },
  {
   "cell_type": "markdown",
   "id": "b046cb6f",
   "metadata": {},
   "source": [
    "## 서브 그래프 구조화\n",
    "\n",
    "* 메인 그래프는 전체 워크 플로우를 조율함\n",
    "* 서브 그래프는 특정 작업을 독립적으로 처리함 "
   ]
  },
  {
   "cell_type": "markdown",
   "id": "5def6434",
   "metadata": {},
   "source": [
    "### 서브 그래프 구현\n",
    "`상태 정의` -> `노드 함수 구현` -> `그래프 구성`\n",
    "* 구현 단계는 일반 그래프의 구현 순서와 동일함\n",
    "* 부모(메인)그래프와 통합함으로써 구조화 할 수 있음"
   ]
  },
  {
   "cell_type": "code",
   "execution_count": 1,
   "id": "3b751a40",
   "metadata": {},
   "outputs": [],
   "source": [
    "from configs import llm"
   ]
  },
  {
   "cell_type": "code",
   "execution_count": 2,
   "id": "7fe760bc",
   "metadata": {},
   "outputs": [],
   "source": [
    "# 상태 정의\n",
    "from typing import TypedDict\n",
    "from typing import Annotated\n",
    "from typing import List\n",
    "import operator\n",
    "\n",
    "from langchain_core.messages import AnyMessage,HumanMessage,AIMessage\n",
    "\n",
    "class SubGaraphState(TypedDict):\n",
    "    messages: Annotated[List[AnyMessage], operator.add] # 메시지 히스토리\n",
    "    context: str # 컨텍스트 정보\n"
   ]
  },
  {
   "cell_type": "code",
   "execution_count": 3,
   "id": "83833f91",
   "metadata": {},
   "outputs": [],
   "source": [
    "# 노드 함수 구현\n",
    "\n",
    "def process_node(state: SubGaraphState):\n",
    "    current_message = state['messages'][-1]\n",
    "    \n",
    "    processed_result = f\"Processed: {current_message.content}\"\n",
    "    return {\"context\": processed_result}\n",
    "\n",
    "def respond_node(state:SubGaraphState):\n",
    "    context = state['context']\n",
    "    response = AIMessage(content=f\"Response based on {context}\")\n",
    "    return {\"messages\": [response]}"
   ]
  },
  {
   "cell_type": "code",
   "execution_count": 4,
   "id": "6c062c30",
   "metadata": {},
   "outputs": [
    {
     "data": {
      "image/png": "[encoded data removed]",
      "text/plain": [
       "<IPython.core.display.Image object>"
      ]
     },
     "metadata": {},
     "output_type": "display_data"
    }
   ],
   "source": [
    "from langgraph.graph.state import StateGraph\n",
    "from langgraph.graph.state import START\n",
    "from langgraph.graph.state import END\n",
    "from langchain_teddynote.graphs import visualize_graph\n",
    "# 그래프 초기화\n",
    "subgraph_builder = StateGraph(SubGaraphState)\n",
    "\n",
    "# 노드 추가\n",
    "subgraph_builder.add_node(\"process_node\",process_node)\n",
    "subgraph_builder.add_node(\"respond_node\",respond_node)\n",
    "\n",
    "# 엣지 추가\n",
    "subgraph_builder.add_edge(START,\"process_node\")\n",
    "subgraph_builder.add_edge(\"process_node\",\"respond_node\")\n",
    "subgraph_builder.add_edge(\"respond_node\",END)\n",
    "\n",
    "# 그래프 컴파일\n",
    "subgraph = subgraph_builder.compile()\n",
    "visualize_graph(subgraph)"
   ]
  },
  {
   "cell_type": "code",
   "execution_count": 5,
   "id": "8d141d65",
   "metadata": {},
   "outputs": [
    {
     "name": "stdout",
     "output_type": "stream",
     "text": [
      "Message: hello world!\n",
      "Message: Response based on Processed: hello world!\n"
     ]
    }
   ],
   "source": [
    "# 그래프 실행\n",
    "init_config = SubGaraphState(\n",
    "    {\n",
    "    \"context\": \"\",\n",
    "    \"messages\":[HumanMessage(content=\"hello world!\")]\n",
    "    }\n",
    ")\n",
    "\n",
    "result = subgraph.invoke(init_config)\n",
    "\n",
    "# 결과 확인\n",
    "for message in result['messages']:\n",
    "    print(f\"Message: {message.content}\")"
   ]
  },
  {
   "cell_type": "markdown",
   "id": "7d23afb9",
   "metadata": {},
   "source": [
    "## 메인그래프에 통합"
   ]
  },
  {
   "cell_type": "code",
   "execution_count": 6,
   "id": "4e74c3cc",
   "metadata": {},
   "outputs": [],
   "source": [
    "from typing import Literal\n",
    "from typing import Optional\n",
    "class MainState(TypedDict):\n",
    "    messages: Annotated[List[AnyMessage], operator.add] # 메시지 히스토리\n",
    "    context: str # 컨텍스트 정보\n",
    "    subgraph_result: Optional[str]\n",
    "    processing_status:str\n"
   ]
  },
  {
   "cell_type": "code",
   "execution_count": 7,
   "id": "bac5b76b",
   "metadata": {},
   "outputs": [],
   "source": [
    "# 메인 그래프의 노드 함수 구현\n",
    "\n",
    "def preprocessing(state:MainState):\n",
    "    return {\n",
    "        \"context\": f\"Context from {state['messages'][-1].content}\",\n",
    "        \"processing_status\": \"preprocessing_complete\"\n",
    "    }\n",
    "\n",
    "def postprocessing(state:MainState):\n",
    "    context = state.get(\"context\",\"\")\n",
    "    return {\n",
    "        \"subgraph_result\": f\"Final result based on context {context}\",\n",
    "        \"processing_status\": \"complete\"\n",
    "    }\n",
    "\n",
    "# 라우링 로직 구현\n",
    "\n",
    "def route_next(state: MainState) -> Literal[\"postprocessing\",\"reprocess\"]:\n",
    "    next_node = \"postprocessing\" if state['processing_status'] == \"preprocessing_complete\" else \"reprocess\"\n",
    "    return next_node\n",
    "    "
   ]
  },
  {
   "cell_type": "code",
   "execution_count": 10,
   "id": "68c025b7",
   "metadata": {},
   "outputs": [],
   "source": [
    "# 메인 그래프 구성\n",
    "main_graph = StateGraph(MainState)\n",
    "\n",
    "# 노드 추가\n",
    "main_graph.add_node(\"preprocessing\", preprocessing)\n",
    "main_graph.add_node(\"subgraph\", subgraph_builder.compile())  # 기존 서브그래프\n",
    "main_graph.add_node(\"postprocessing\", postprocessing)\n",
    "\n",
    "# 엣지 추가\n",
    "main_graph.add_edge(START, \"preprocessing\")\n",
    "main_graph.add_edge(\"preprocessing\", \"subgraph\")\n",
    "main_graph.add_conditional_edges(\n",
    "    \"subgraph\", \n",
    "    route_next,\n",
    "    {\n",
    "        \"postprocessing\": \"postprocessing\",\n",
    "        \"reprocess\": \"preprocessing\"\n",
    "    }\n",
    ")\n",
    "main_graph.add_edge(\"postprocessing\", END)\n",
    "# 그래프 컴파일\n",
    "compiled_maingraph = main_graph.compile()"
   ]
  },
  {
   "cell_type": "code",
   "execution_count": 12,
   "id": "746f3fe5",
   "metadata": {},
   "outputs": [
    {
     "data": {
      "image/png": "[encoded data removed]",
      "text/plain": [
       "<IPython.core.display.Image object>"
      ]
     },
     "metadata": {},
     "output_type": "display_data"
    }
   ],
   "source": [
    "from IPython.display import Image\n",
    "\n",
    "# 그래프 시각화\n",
    "maingraph_image = compiled_maingraph.get_graph(xray=True).draw_mermaid_png()\n",
    "display(Image(maingraph_image))\n"
   ]
  },
  {
   "cell_type": "code",
   "execution_count": 13,
   "id": "b4f36755",
   "metadata": {},
   "outputs": [],
   "source": [
    "initial_state = {\n",
    "   \"messages\": [HumanMessage(content=\"Hello!\")],  \n",
    "   \"processing_status\": \"started\"\n",
    "}\n"
   ]
  },
  {
   "cell_type": "code",
   "execution_count": 14,
   "id": "f20fcbfc",
   "metadata": {},
   "outputs": [
    {
     "name": "stdout",
     "output_type": "stream",
     "text": [
      "실행 결과:\n",
      "처리 상태: complete\n",
      "최종 결과: Final result based on context Processed: Hello!\n"
     ]
    }
   ],
   "source": [
    "try:\n",
    "   result = compiled_maingraph.invoke(initial_state)\n",
    "   print(\"실행 결과:\")\n",
    "   print(f\"처리 상태: {result['processing_status']}\")\n",
    "   print(f\"최종 결과: {result['subgraph_result']}\")\n",
    "except Exception as e:\n",
    "   print(f\"그래프 실행 실패: {e}\")\n"
   ]
  }
 ],
 "metadata": {
  "kernelspec": {
   "display_name": "study-agent",
   "language": "python",
   "name": "python3"
  },
  "language_info": {
   "codemirror_mode": {
    "name": "ipython",
    "version": 3
   },
   "file_extension": ".py",
   "mimetype": "text/x-python",
   "name": "python",
   "nbconvert_exporter": "python",
   "pygments_lexer": "ipython3",
   "version": "3.11.12"
  }
 },
 "nbformat": 4,
 "nbformat_minor": 5
}
